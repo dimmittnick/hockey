{
 "cells": [
  {
   "cell_type": "markdown",
   "id": "e6c8c478-4bd9-4713-a592-d668a6469afc",
   "metadata": {},
   "source": [
    "# Data\n",
    "\n",
    "Can grab all data from https://nhl.com/stats goal is to predict daily fantasy output based off counting stats and more specific split stats, days rest, opponent, month, etc."
   ]
  },
  {
   "cell_type": "code",
   "execution_count": 2,
   "id": "e72fca3f-d4e7-444e-80d5-a555491ea938",
   "metadata": {},
   "outputs": [],
   "source": [
    "import os\n",
    "import importlib\n",
    "import data_grab"
   ]
  },
  {
   "cell_type": "code",
   "execution_count": 3,
   "id": "7dca5ec6-8dc8-4fab-8d72-43727bf674c4",
   "metadata": {},
   "outputs": [
    {
     "data": {
      "text/plain": [
       "<module 'data_grab' from '/Users/nickdimmitt/hockey/data_grab.py'>"
      ]
     },
     "execution_count": 3,
     "metadata": {},
     "output_type": "execute_result"
    }
   ],
   "source": [
    "importlib.reload(data_grab)"
   ]
  },
  {
   "cell_type": "code",
   "execution_count": 4,
   "id": "a6439444-857d-4f06-9d55-8ea0b297cb02",
   "metadata": {},
   "outputs": [
    {
     "name": "stdout",
     "output_type": "stream",
     "text": [
      "URL Error: https://api.nhle.com/stats/rest/en/team/summary?isAggregate=false&isGame=true&sort=%5B%7B%22property%22:%22points%22,%22direction%22:%22DESC%22%7D,%7B%22property%22:%22wins%22,%22direction%22:%22DESC%22%7D,%7B%22property%22:%22teamId%22,%22direction%22:%22ASC%22%7D%5D&start=9700&limit=100&factCayenneExp=gamesPlayed%3E=1&cayenneExp=gameDate%3C=%222022-09-01%2023%3A59%3A59%22%20and%20gameDate%3E=%222022-08-01%22%20and%20gameTypeId=2\n"
     ]
    }
   ],
   "source": [
    "df_teams = data_grab.main(start_date='2022-11-01', end_date='2009-01-01', data_seg='team', update_path=None, start=0, stop=10000, step=100, update=False, saveData=False)"
   ]
  },
  {
   "cell_type": "code",
   "execution_count": 6,
   "id": "ae1a8289-14a9-4773-ad32-58b06068e4d7",
   "metadata": {},
   "outputs": [],
   "source": [
    "df_teams.to_csv('df_teams.csv')"
   ]
  },
  {
   "cell_type": "code",
   "execution_count": null,
   "id": "943ded86-43b9-4f1c-bab6-00f628b2606c",
   "metadata": {},
   "outputs": [],
   "source": [
    "df_skaters_toi = data_grab.main(start_date='2022-11-01', end_date='2009-01-01', data_seg='toi', update_path=None, start=0, stop=10000, step=100, update=False, saveData=False)"
   ]
  },
  {
   "cell_type": "code",
   "execution_count": null,
   "id": "c1c969d7-08a0-4369-b81a-cc762fc7b710",
   "metadata": {},
   "outputs": [],
   "source": [
    "df_skaters_toi.to_csv('df_skaters_toi.csv')"
   ]
  },
  {
   "cell_type": "code",
   "execution_count": null,
   "id": "f7a0edfc-7552-4f0b-9b00-41f7f420c88d",
   "metadata": {},
   "outputs": [],
   "source": [
    "to_csv"
   ]
  }
 ],
 "metadata": {
  "kernelspec": {
   "display_name": "Python 3 (ipykernel)",
   "language": "python",
   "name": "python3"
  },
  "language_info": {
   "codemirror_mode": {
    "name": "ipython",
    "version": 3
   },
   "file_extension": ".py",
   "mimetype": "text/x-python",
   "name": "python",
   "nbconvert_exporter": "python",
   "pygments_lexer": "ipython3",
   "version": "3.9.13"
  }
 },
 "nbformat": 4,
 "nbformat_minor": 5
}
