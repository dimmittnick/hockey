{
 "cells": [
  {
   "cell_type": "markdown",
   "id": "e6c8c478-4bd9-4713-a592-d668a6469afc",
   "metadata": {},
   "source": [
    "# Data\n",
    "\n",
    "Can grab all data from https://nhl.com/stats goal is to predict daily fantasy output based off counting stats and more specific split stats, days rest, opponent, month, etc."
   ]
  },
  {
   "cell_type": "markdown",
   "id": "1c2168c1-7e8e-464b-bc1f-2fe8a1abcaab",
   "metadata": {},
   "source": [
    "## Feature Engineering and Stuff"
   ]
  },
  {
   "cell_type": "code",
   "execution_count": 1,
   "id": "e72fca3f-d4e7-444e-80d5-a555491ea938",
   "metadata": {},
   "outputs": [],
   "source": [
    "import os\n",
    "import importlib\n",
    "from datetime import *\n",
    "from dateutil import *\n",
    "import pandas as pd\n",
    "import numpy as np\n",
    "pd.set_option('display.max_rows',None)\n",
    "import data_grab, data_proc, data_prep, data_explor"
   ]
  },
  {
   "cell_type": "code",
   "execution_count": 2,
   "id": "7fe02429-9a42-4b88-a8a4-05b9f548121f",
   "metadata": {},
   "outputs": [],
   "source": [
    "## most recent update: 11-01-2022"
   ]
  },
  {
   "cell_type": "code",
   "execution_count": 46,
   "id": "7dca5ec6-8dc8-4fab-8d72-43727bf674c4",
   "metadata": {},
   "outputs": [
    {
     "data": {
      "text/plain": [
       "<module 'data_proc' from '/Users/nickdimmitt/dfs/hockey/data_proc.py'>"
      ]
     },
     "execution_count": 46,
     "metadata": {},
     "output_type": "execute_result"
    }
   ],
   "source": [
    "importlib.reload(data_grab)\n",
    "importlib.reload(data_prep)\n",
    "importlib.reload(data_explor)\n",
    "importlib.reload(data_proc)"
   ]
  },
  {
   "cell_type": "code",
   "execution_count": 42,
   "id": "f18bba0e-bcef-4888-aa7c-44af374263a1",
   "metadata": {},
   "outputs": [],
   "source": [
    "end_date = \"2022-11-01\"\n",
    "yesterday = (datetime.today() - timedelta(days=1)).strftime(\"%Y-%m-%d\")"
   ]
  },
  {
   "cell_type": "code",
   "execution_count": 43,
   "id": "f0ee251b-0970-46f7-8306-89748125ee3e",
   "metadata": {},
   "outputs": [],
   "source": [
    "df_skaters = data_grab.main(yesterday, end_date, 'skater', \"~/dfs/hockey/data/df_skaters.csv\", 0, 10000, 100, saveData=False)\n",
    "df_skate_misc = data_grab.main(yesterday, end_date, 'misc', \"~/dfs/hockey/data/df_skaters_misc.csv\", 0, 10000, 100, saveData=False)\n",
    "df_skate_shot = data_grab.main(yesterday, end_date, 'shots', \"~/dfs/hockey/data/df_skaters_shot.csv\", 0, 10000, 100, saveData=False)"
   ]
  },
  {
   "cell_type": "code",
   "execution_count": 47,
   "id": "31c625fa-b927-4e41-9dce-928415ab49f9",
   "metadata": {},
   "outputs": [],
   "source": [
    "df_merged = data_prep.main(df_skaters, df_skate_misc, df_skate_shot, ['gameId','playerId'], 'Unnamed: 0_y, goals_y, shots_y, gameDate_y, shootingPct_y, gamesPlayed_y, homeRoad_y, lastName_y, opponentTeamAbbrev_y, otGoals_y, positionCode_y, shootsCatches_y, skaterFullName_y, teamAbbrev_y, timeOnIcePerGame_y'.split(\", \"), ['Unnamed: 0', 'emptyNetAssists', 'emptyNetPoints', 'faceoffWinPct', 'shootingPctBackhand', 'shootingPctDeflected', 'shootingPctSlap', 'shootingPctSnap', 'shootingPctTipIn', 'shootingPctWrapAround', 'shootingPctWrist'], saveData=False)"
   ]
  },
  {
   "cell_type": "code",
   "execution_count": null,
   "id": "ed57b7d6-4713-4ea7-b09a-c896a10ed165",
   "metadata": {},
   "outputs": [],
   "source": [
    "data_prep.data_review(df_merged)"
   ]
  },
  {
   "cell_type": "markdown",
   "id": "621ab255-2781-4058-9db8-ee333c4b3438",
   "metadata": {},
   "source": [
    "### Add Calculated Columns"
   ]
  },
  {
   "cell_type": "code",
   "execution_count": 48,
   "id": "38c7130c-6938-4d23-b086-f41b485e4dac",
   "metadata": {},
   "outputs": [],
   "source": [
    "df_merged['fanPoints'] = data_explor.fan_points(df_merged)\n",
    "df_merged['overPerform'] = data_explor.overperform(df_merged, 'fanPoints', 'playerId')\n",
    "df_merged['overPerformDummy'] = data_explor.over_perf_dummy(df_merged, 'overPerform')\n",
    "df_merged['underPerformDummy'] = data_explor.under_perf_dummy(df_merged, 'overPerform')\n",
    "df_merged['samePerfDummy'] = data_explor.same_perf_dummy(df_merged, 'overPerform')\n",
    "df_merged['homeRoadPerf'] = data_explor.home_away_perf(df_merged, 'overPerform', ['playerId', 'homeRoad'])"
   ]
  },
  {
   "cell_type": "code",
   "execution_count": 49,
   "id": "65986dea-06c0-4a43-876a-23df142d903d",
   "metadata": {},
   "outputs": [],
   "source": [
    "better_home_skater = list(np.where((df_merged['homeRoad'] == 'H') & (df_merged['homeRoadPerf'] > 0), df_merged['playerId'], None))\n",
    "better_away_skater = list(np.where((df_merged['homeRoad'] == 'R') & (df_merged['homeRoadPerf'] > 0), df_merged['playerId'], None))\n",
    "better_home_skater = [*set(better_home_skater)]\n",
    "better_away_skater = [*set(better_away_skater)]"
   ]
  },
  {
   "cell_type": "code",
   "execution_count": 50,
   "id": "9e12cd45-4124-4ec2-8dba-b9827d85b5c4",
   "metadata": {},
   "outputs": [],
   "source": [
    "df_skaters['OpHomeDummy'] = np.where(df_skaters['playerId'].isin(better_home_skater), 1, 0)\n",
    "df_skaters['OpRoadDummy'] = np.where(df_skaters['playerId'].isin(better_away_skater), 1, 0)\n",
    "df_skaters['OpNowhereDummy'] = np.where((df_skaters['OpHomeDummy'] == 0) & (df_skaters['OpRoadDummy'] == 0), 1, 0)"
   ]
  },
  {
   "cell_type": "code",
   "execution_count": 51,
   "id": "19bfa90d-92b4-406f-a1f9-8f0dfddaae2a",
   "metadata": {},
   "outputs": [],
   "source": [
    "feature_list = ['assists', 'goals', 'plusMinus', 'points', 'fanPoints', 'shootingPct', 'shots']"
   ]
  },
  {
   "cell_type": "code",
   "execution_count": 52,
   "id": "e8b1c9e6-3f8a-4a1d-98e2-00c597fb04a2",
   "metadata": {},
   "outputs": [],
   "source": [
    "for feature in feature_list:\n",
    "    df_merged[f'{feature}Ma7'] = data_proc.moving_average(df_merged, feature, 'playerId', 7)\n",
    "    df_merged[f'{feature}Ma7'] = df_merged[f'{feature}Ma7'].shift(1)\n",
    "    \n",
    "for feature in feature_list:\n",
    "    df_merged[f'{feature}Ma3'] = data_proc.moving_average(df_merged, feature, 'playerId', 3)\n",
    "    df_merged[f'{feature}Ma3'] = df_merged[f'{feature}Ma3'].shift(1)\n",
    "    \n",
    "for feature in feature_list:\n",
    "    df_merged[f'{feature}LastGame'] = df_merged[feature].shift(1)\n",
    "    \n",
    "for feature in feature_list:\n",
    "    df_merged[f'{feature}Ma10'] = data_proc.moving_average(df_merged, feature, 'playerId', 10)\n",
    "    df_merged[f'{feature}Ma10'] = df_merged[f'{feature}Ma10'].shift(1)\n",
    "\n",
    "for feature in feature_list:\n",
    "    df_merged[f'{feature}Ma14'] = data_proc.moving_average(df_merged, feature, 'playerId', 14)\n",
    "    df_merged[f'{feature}Ma14'] = df_merged[f'{feature}Ma14'].shift(1)"
   ]
  },
  {
   "cell_type": "markdown",
   "id": "903ea1b3-a3af-46c5-a8a8-7b01e0a6c7f5",
   "metadata": {},
   "source": [
    "### Drop Columns"
   ]
  },
  {
   "cell_type": "code",
   "execution_count": 67,
   "id": "95224f0e-89c5-43ca-a62e-1513b66deaca",
   "metadata": {},
   "outputs": [],
   "source": [
    "drop_cols = 'shootingPctMa7 shootingPctMa3 shootingPctLastGame shootingPctMa10 shootingPctMa14'.split()\n",
    "drop_cols.append('Unnamed: 0')\n",
    "drop_cols\n",
    "\n",
    "df_merged = data_prep.remove_columns(df_merged, drop_cols)"
   ]
  },
  {
   "cell_type": "markdown",
   "id": "324f5b4d-ecc5-47bb-9125-7624f5a0d4ae",
   "metadata": {},
   "source": [
    "### Mean Imputation"
   ]
  },
  {
   "cell_type": "code",
   "execution_count": 77,
   "id": "168c2f26-5618-4e0e-9e2c-d3827d926ba0",
   "metadata": {},
   "outputs": [],
   "source": [
    "impute_by_player = 'hitsPer60 blockedShotsPer60 giveawaysPer60 takeawaysPer60 assistsMa3 assistsMa7 assistsMa10 assistsMa14 assistsLastGame goalsMa3 goalsMa7 goalsMa10 goalsMa14 goalsLastGame shotsMa3 shotsMa7 shotsMa10 shotsMa14 shotsLastGame plusMinusMa3 plusMinusMa7 plusMinusMa10 plusMinusMa14 plusMinusLastGame pointsMa3 pointsMa7 pointsMa10 pointsMa14 pointsLastGame fanPointsMa3 fanPointsMa7 fanPointsMa10 fanPointsMa14 fanPointsLastGame'.split()\n",
    "impute_by_perf = 'missedShotCrossbar missedShotGoalpost missedShotOverNet missedShotWideOfNet goalsBackhand goalsDeflected goalsSlap goalsSnap goalsTipIn goalsWrapAround goalsWrist shootingPct shotsOnNetBackhand shotsOnNetDeflected shotsOnNetSlap shotsOnNetSnap shotsOnNetTipIn shotsOnNetWrapAround shotsOnNetWrist hitsPer60 blockedShotsPer60 giveawaysPer60 takeawaysPer60 assistsMa3 assistsMa7 assistsMa10 assistsMa14 assistsLastGame goalsMa3 goalsMa7 goalsMa10 goalsMa14 goalsLastGame shotsMa3 shotsMa7 shotsMa10 shotsMa14 shotsLastGame plusMinusMa3 plusMinusMa7 plusMinusMa10 plusMinusMa14 plusMinusLastGame pointsMa3 pointsMa7 pointsMa10 pointsMa14 pointsLastGame fanPointsMa3 fanPointsMa7 fanPointsMa10 fanPointsMa14 fanPointsLastGame'.split()"
   ]
  },
  {
   "cell_type": "code",
   "execution_count": 78,
   "id": "6fe70094-57d4-448f-9fd5-d0a7adb4a84d",
   "metadata": {},
   "outputs": [],
   "source": [
    "for col in impute_by_player:\n",
    "    data_prep.handle_missing(df_merged, 'playerId', col)"
   ]
  },
  {
   "cell_type": "code",
   "execution_count": 79,
   "id": "6f09e2aa-4384-4e71-83b1-d1b5c3cf4c4e",
   "metadata": {},
   "outputs": [],
   "source": [
    "for col in impute_by_perf:\n",
    "    try:\n",
    "        data_prep.handle_missing(df_merged, 'overPerformDummy', col)\n",
    "    except:\n",
    "        continue"
   ]
  },
  {
   "cell_type": "markdown",
   "id": "c60e71a8-d18c-4a09-9070-dc75894f4d96",
   "metadata": {},
   "source": [
    "## Final Scrub and Rinse"
   ]
  },
  {
   "cell_type": "code",
   "execution_count": 81,
   "id": "51c799d8-f365-40fa-ba82-e1f1e3816c2f",
   "metadata": {},
   "outputs": [],
   "source": [
    "drop_cols = 'shootingPctMa7 shootingPctMa3 shootingPctLastGame shootingPctMa10 shootingPctMa14'.split()\n",
    "\n",
    "df_merged = data_prep.remove_columns(df_merged, drop_cols)"
   ]
  },
  {
   "cell_type": "code",
   "execution_count": 82,
   "id": "f9d05875-4fe5-4005-9f45-3659f563c097",
   "metadata": {},
   "outputs": [
    {
     "data": {
      "text/plain": [
       "gameId                  0\n",
       "playerId                0\n",
       "gameDate                0\n",
       "gamesPlayed             0\n",
       "goals                   0\n",
       "goalsBackhand           0\n",
       "goalsDeflected          0\n",
       "goalsSlap               0\n",
       "goalsSnap               0\n",
       "goalsTipIn              0\n",
       "goalsWrapAround         0\n",
       "goalsWrist              0\n",
       "homeRoad                0\n",
       "lastName                0\n",
       "opponentTeamAbbrev      0\n",
       "shootingPct             0\n",
       "shots                   0\n",
       "shotsOnNetBackhand      0\n",
       "shotsOnNetDeflected     0\n",
       "shotsOnNetSlap          0\n",
       "shotsOnNetSnap          0\n",
       "shotsOnNetTipIn         0\n",
       "shotsOnNetWrapAround    0\n",
       "shotsOnNetWrist         0\n",
       "skaterFullName          0\n",
       "teamAbbrev              0\n",
       "assists                 0\n",
       "evGoals                 0\n",
       "evPoints                0\n",
       "gameWinningGoals        0\n",
       "otGoals                 0\n",
       "penaltyMinutes          0\n",
       "plusMinus               0\n",
       "points                  0\n",
       "pointsPerGame           0\n",
       "positionCode            0\n",
       "ppGoals                 0\n",
       "ppPoints                0\n",
       "shGoals                 0\n",
       "shPoints                0\n",
       "shootsCatches           0\n",
       "timeOnIcePerGame        0\n",
       "blockedShots            0\n",
       "blockedShotsPer60       0\n",
       "emptyNetGoals           0\n",
       "firstGoals              0\n",
       "giveaways               0\n",
       "giveawaysPer60          0\n",
       "hits                    0\n",
       "hitsPer60               0\n",
       "missedShotCrossbar      0\n",
       "missedShotGoalpost      0\n",
       "missedShotOverNet       0\n",
       "missedShotWideOfNet     0\n",
       "missedShots             0\n",
       "takeaways               0\n",
       "takeawaysPer60          0\n",
       "fanPoints               0\n",
       "overPerform             0\n",
       "overPerformDummy        0\n",
       "underPerformDummy       0\n",
       "samePerfDummy           0\n",
       "homeRoadPerf            0\n",
       "assistsMa7              0\n",
       "goalsMa7                0\n",
       "plusMinusMa7            0\n",
       "pointsMa7               0\n",
       "fanPointsMa7            0\n",
       "shotsMa7                0\n",
       "assistsMa3              0\n",
       "goalsMa3                0\n",
       "plusMinusMa3            0\n",
       "pointsMa3               0\n",
       "fanPointsMa3            0\n",
       "shotsMa3                0\n",
       "assistsLastGame         0\n",
       "goalsLastGame           0\n",
       "plusMinusLastGame       0\n",
       "pointsLastGame          0\n",
       "fanPointsLastGame       0\n",
       "shotsLastGame           0\n",
       "assistsMa10             0\n",
       "goalsMa10               0\n",
       "plusMinusMa10           0\n",
       "pointsMa10              0\n",
       "fanPointsMa10           0\n",
       "shotsMa10               0\n",
       "assistsMa14             0\n",
       "goalsMa14               0\n",
       "plusMinusMa14           0\n",
       "pointsMa14              0\n",
       "fanPointsMa14           0\n",
       "shotsMa14               0\n",
       "dtype: int64"
      ]
     },
     "execution_count": 82,
     "metadata": {},
     "output_type": "execute_result"
    }
   ],
   "source": [
    "df_merged.isna().sum()"
   ]
  },
  {
   "cell_type": "code",
   "execution_count": 83,
   "id": "bf73db8c-d884-4efd-a4d7-61ad97284957",
   "metadata": {},
   "outputs": [],
   "source": [
    "df_merged.to_csv('clean_df_merged.csv')"
   ]
  },
  {
   "cell_type": "code",
   "execution_count": null,
   "id": "986ed253-eebe-48a5-991b-a52440e02ddf",
   "metadata": {},
   "outputs": [],
   "source": []
  }
 ],
 "metadata": {
  "kernelspec": {
   "display_name": "Python 3 (ipykernel)",
   "language": "python",
   "name": "python3"
  },
  "language_info": {
   "codemirror_mode": {
    "name": "ipython",
    "version": 3
   },
   "file_extension": ".py",
   "mimetype": "text/x-python",
   "name": "python",
   "nbconvert_exporter": "python",
   "pygments_lexer": "ipython3",
   "version": "3.9.13"
  }
 },
 "nbformat": 4,
 "nbformat_minor": 5
}
