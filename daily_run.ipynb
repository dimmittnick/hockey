{
 "cells": [
  {
   "cell_type": "markdown",
   "id": "ca3d8c7c-4a82-4ff8-834c-d355243373c3",
   "metadata": {},
   "source": [
    "# Daily Predictions\n",
    "\n",
    "Uses models in the pickle files to make predictions on daily data that is drawn in from daily lineups and linked with the most recent statistics from the original dataframe. This new dataframe is updated with current opponent/home/away and pushed through the respective models and output is displayed."
   ]
  },
  {
   "cell_type": "code",
   "execution_count": 2,
   "id": "d3bc74f2-045c-4f54-8ed0-673effb8ae2a",
   "metadata": {},
   "outputs": [],
   "source": [
    "import pandas as pd\n",
    "import numpy as np\n",
    "import importlib\n",
    "import os\n",
    "import requests\n",
    "import json\n",
    "from lxml import etree\n",
    "from lxml import html\n",
    "from sklearn.model_selection import train_test_split\n",
    "import joblib\n",
    "from datetime import *\n",
    "from sklearn.metrics import mean_absolute_error\n",
    "from sklearn import ensemble\n",
    "htmlparser =  etree.HTMLParser()\n",
    "\n",
    "pd.options.mode.chained_assignment = None\n",
    "\n",
    "import data_grab, data_proc, data_prep, data_explor"
   ]
  },
  {
   "cell_type": "markdown",
   "id": "ab158418-2e26-48ca-983b-0aad7d05b315",
   "metadata": {},
   "source": [
    "### Read in Daily Lineups"
   ]
  },
  {
   "cell_type": "code",
   "execution_count": 3,
   "id": "9935ebd9-257c-4855-90fe-bf4d082027d8",
   "metadata": {},
   "outputs": [],
   "source": [
    "daily_url = \"https://www.rotowire.com/hockey/nhl-lineups.php\"\n",
    "daily_results = requests.get(daily_url)\n",
    "daily_results_tree = html.fromstring(daily_results.content)"
   ]
  },
  {
   "cell_type": "code",
   "execution_count": 4,
   "id": "478bfd5f-21fb-4fcc-a5d9-92c12ecfb041",
   "metadata": {},
   "outputs": [],
   "source": [
    "away_teams_xpath = '/html/body/div[1]/div/main/div[3]//div//div//div//div//a[1]//div//text()'\n",
    "away_teams = daily_results_tree.xpath(away_teams_xpath)"
   ]
  },
  {
   "cell_type": "code",
   "execution_count": 5,
   "id": "91422f17-ae59-46be-b301-9c559f4fed76",
   "metadata": {},
   "outputs": [],
   "source": [
    "home_teams_xpath = '/html/body/div[1]/div/main/div[3]//div//div//div//div//a[2]//div//text()'\n",
    "home_teams = daily_results_tree.xpath(home_teams_xpath)"
   ]
  },
  {
   "cell_type": "code",
   "execution_count": 6,
   "id": "b3b714fd-0d3f-4cc0-8a59-1e38d4dd0855",
   "metadata": {},
   "outputs": [],
   "source": [
    "nhl_teams = 'ANA ARI BOS BUF CAR CGY CHI CLS CBJ COL DAL DET EDM FLA LA MIN MON NJ NSH NYI NYR OTT PHI PIT SEA SJ STL TB TOR VAN VGK WAS WPG'.split()"
   ]
  },
  {
   "cell_type": "code",
   "execution_count": 7,
   "id": "0cb732ee-6933-4ef9-9ef8-44c1db21a729",
   "metadata": {},
   "outputs": [],
   "source": [
    "away_teams = [x for x in away_teams if x in nhl_teams]\n",
    "home_teams = [x for x in home_teams if x in nhl_teams]"
   ]
  },
  {
   "cell_type": "code",
   "execution_count": 8,
   "id": "1d90b0f2-e406-4d53-9fed-d94cb32118ff",
   "metadata": {},
   "outputs": [],
   "source": [
    "games_away = [(x,y) for x,y in zip(away_teams, home_teams)]\n",
    "games_home = [(x,y) for x,y in zip(home_teams, away_teams)]\n",
    "\n",
    "games_dict_away = dict(games_away)\n",
    "games_dict_home = dict(games_home)"
   ]
  },
  {
   "cell_type": "markdown",
   "id": "2a5dcb1e-076a-4b63-a0fb-f9ac8c1ac505",
   "metadata": {},
   "source": [
    "### Read in Updated Dataframe\n",
    "\n",
    "Read in the merged dataframe and then create new dataframe for players playing on teams playing today. Will then be able to generate the feature columns and use pickled files to predict their outputs. Simple."
   ]
  },
  {
   "cell_type": "code",
   "execution_count": 9,
   "id": "cfd66892-e6a5-4174-8e10-1115463a19e1",
   "metadata": {},
   "outputs": [],
   "source": [
    "## most recent update: 11-01-2022"
   ]
  },
  {
   "cell_type": "code",
   "execution_count": 10,
   "id": "08301ffb-29ba-4020-9934-9f4270902efc",
   "metadata": {},
   "outputs": [
    {
     "data": {
      "text/plain": [
       "<module 'data_proc' from '/Users/nickdimmitt/hockey/data_proc.py'>"
      ]
     },
     "execution_count": 10,
     "metadata": {},
     "output_type": "execute_result"
    }
   ],
   "source": [
    "importlib.reload(data_grab)\n",
    "importlib.reload(data_prep)\n",
    "importlib.reload(data_explor)\n",
    "importlib.reload(data_proc)"
   ]
  },
  {
   "cell_type": "code",
   "execution_count": 11,
   "id": "c058ede6-1eda-45bd-9308-01d431a52ab6",
   "metadata": {},
   "outputs": [],
   "source": [
    "end_date = \"2022-11-01\"\n",
    "yesterday = (datetime.today() - timedelta(days=1)).strftime(\"%Y-%m-%d\")\n",
    "today = datetime.today().strftime(\"%Y-%m-%d\")"
   ]
  },
  {
   "cell_type": "code",
   "execution_count": 12,
   "id": "f44b2cef-b797-4593-af70-cd766ea666e9",
   "metadata": {},
   "outputs": [],
   "source": [
    "df_skaters = data_grab.main(yesterday, end_date, 'skater', \"~/dfs/hockey/data/df_skaters.csv\", 0, 10000, 100, update=True, saveData=False)\n",
    "df_skate_misc = data_grab.main(yesterday, end_date, 'misc', \"~/dfs/hockey/data/df_skaters_misc.csv\", 0, 10000, 100, update=True, saveData=False)\n",
    "df_skate_shot = data_grab.main(yesterday, end_date, 'shots', \"~/dfs/hockey/data/df_skaters_shot.csv\", 0, 10000, 100, update=True, saveData=False)\n",
    "df_skate_toi = data_grab.main(yesterday, end_date, 'toi', \"~/dfs/hockey/data/df_skaters_toi.csv\", 0, 10000, 100, update=True, saveData=False)"
   ]
  },
  {
   "cell_type": "code",
   "execution_count": 13,
   "id": "79812d47-a426-4932-99ed-34e6fa84f219",
   "metadata": {},
   "outputs": [
    {
     "name": "stderr",
     "output_type": "stream",
     "text": [
      "/Users/nickdimmitt/hockey/data_prep.py:98: FutureWarning: Passing 'suffixes' which cause duplicate columns {'opponentTeamAbbrev_y', 'Unnamed: 0_y', 'gamesPlayed_y', 'skaterFullName_y', 'teamAbbrev_y', 'lastName_y', 'homeRoad_y', 'gameDate_y'} in the result is deprecated and will raise a MergeError in a future version.\n",
      "  df = pd.merge(df1, df2, how='inner', left_index=True, right_index=True)\n"
     ]
    }
   ],
   "source": [
    "df_merged = data_prep.main(df_skaters, df_skate_misc, df_skate_shot, df_skate_toi, ['gameId','playerId'], 'Unnamed: 0_y, goals_y, shots_y, gameDate_y, shootingPct_y, gamesPlayed_y, homeRoad_y, lastName_y, opponentTeamAbbrev_y, otGoals_y, positionCode_y, shootsCatches_y, skaterFullName_y, teamAbbrev_y, timeOnIcePerGame_y'.split(\", \"), ['Unnamed: 0', 'emptyNetAssists', 'emptyNetPoints', 'faceoffWinPct', 'shootingPctBackhand', 'shootingPctDeflected', 'shootingPctSlap', 'shootingPctSnap', 'shootingPctTipIn', 'shootingPctWrapAround', 'shootingPctWrist'], saveData=True)"
   ]
  },
  {
   "cell_type": "code",
   "execution_count": 14,
   "id": "4e68725b-c75a-4ae6-9174-9ab3a670ecd2",
   "metadata": {},
   "outputs": [
    {
     "data": {
      "text/plain": [
       "(586482, 69)"
      ]
     },
     "execution_count": 14,
     "metadata": {},
     "output_type": "execute_result"
    }
   ],
   "source": [
    "df_merged.shape"
   ]
  },
  {
   "cell_type": "markdown",
   "id": "68d2bd9f-ecca-441d-b416-b1a6b3f85812",
   "metadata": {},
   "source": [
    "### Add Today's Rows\n",
    "\n",
    "Either duplicate or generate rows for all the players playing today and append to bottom of dataframe."
   ]
  },
  {
   "cell_type": "code",
   "execution_count": 15,
   "id": "cdc16dfe-ab65-4041-b631-0cb80e09ea3f",
   "metadata": {},
   "outputs": [
    {
     "data": {
      "text/plain": [
       "['CLS', 'CHI']"
      ]
     },
     "execution_count": 15,
     "metadata": {},
     "output_type": "execute_result"
    }
   ],
   "source": [
    "home_teams"
   ]
  },
  {
   "cell_type": "code",
   "execution_count": 16,
   "id": "d595d66b-0cb2-4ada-892c-3819b9fefc9e",
   "metadata": {},
   "outputs": [],
   "source": [
    "today_home_df = df_merged[(df_merged['gameDate'] > \"2022-11-01\") & (df_merged['teamAbbrev'].isin(home_teams + ['CBJ']))]\n",
    "today_away_df = df_merged[(df_merged['gameDate'] > \"2022-11-01\") & (df_merged['teamAbbrev'].isin(away_teams))]"
   ]
  },
  {
   "cell_type": "code",
   "execution_count": 17,
   "id": "012c93ad-228d-406e-aa86-c91185da0642",
   "metadata": {},
   "outputs": [],
   "source": [
    "today_home_df['gameDate'] = today\n",
    "today_away_df['gameDate'] = today\n",
    "\n",
    "today_home_df['homeRoad'] = 'H'\n",
    "today_away_df['homeRoad'] = 'A'"
   ]
  },
  {
   "cell_type": "code",
   "execution_count": 18,
   "id": "addae229-9a1c-4e7b-9788-ae7a57b68e34",
   "metadata": {},
   "outputs": [
    {
     "data": {
      "text/plain": [
       "FLA    142\n",
       "PIT    141\n",
       "Name: teamAbbrev, dtype: int64"
      ]
     },
     "execution_count": 18,
     "metadata": {},
     "output_type": "execute_result"
    }
   ],
   "source": [
    "today_away_df['teamAbbrev'].value_counts()"
   ]
  },
  {
   "cell_type": "code",
   "execution_count": 19,
   "id": "50d79083-6c38-4c0e-b456-0689058d7319",
   "metadata": {},
   "outputs": [],
   "source": [
    "today_home_df[['gamesPlayed', 'goals', 'evTimeOnIce', 'evTimeOnIcePerGame', 'otTimeOnIce', 'otTimeOnIcePerOtGame', 'goalsBackhand', 'goalsDeflected', 'goalsSlap', 'goalsSnap',\n",
    "       'goalsTipIn', 'ppTimeOnIce',\n",
    "       'ppTimeOnIcePerGame', 'shTimeOnIce', 'shTimeOnIcePerGame', 'shifts',\n",
    "       'shiftsPerGame', 'goalsWrapAround', 'goalsWrist','shootingPct', 'shots', 'shotsOnNetBackhand',\n",
    "       'shotsOnNetDeflected', 'shotsOnNetSlap', 'shotsOnNetSnap',\n",
    "       'shotsOnNetTipIn', 'shotsOnNetWrapAround', 'shotsOnNetWrist','assists', 'evGoals', 'evPoints',\n",
    "       'gameWinningGoals', 'otGoals', 'penaltyMinutes', 'plusMinus', 'points',\n",
    "       'pointsPerGame', 'positionCode', 'ppGoals', 'ppPoints', 'shGoals',\n",
    "       'shPoints', 'timeOnIcePerGame', 'blockedShots',\n",
    "       'blockedShotsPer60', 'emptyNetGoals', 'firstGoals', 'giveaways',\n",
    "       'giveawaysPer60', 'hits', 'hitsPer60', 'missedShotCrossbar',\n",
    "       'missedShotGoalpost', 'missedShotOverNet', 'missedShotWideOfNet',\n",
    "       'missedShots', 'takeaways', 'takeawaysPer60']] = 0\n",
    "\n",
    "today_away_df[['gamesPlayed', 'goals', 'evTimeOnIce', 'evTimeOnIcePerGame', 'otTimeOnIce', 'otTimeOnIcePerOtGame', 'goalsBackhand', 'goalsDeflected', 'goalsSlap', 'goalsSnap',\n",
    "       'goalsTipIn', 'ppTimeOnIce',\n",
    "       'ppTimeOnIcePerGame', 'shTimeOnIce', 'shTimeOnIcePerGame', 'shifts',\n",
    "       'shiftsPerGame', 'goalsWrapAround', 'goalsWrist','shootingPct', 'shots', 'shotsOnNetBackhand',\n",
    "       'shotsOnNetDeflected', 'shotsOnNetSlap', 'shotsOnNetSnap',\n",
    "       'shotsOnNetTipIn', 'shotsOnNetWrapAround', 'shotsOnNetWrist','assists', 'evGoals', 'evPoints',\n",
    "       'gameWinningGoals', 'otGoals', 'penaltyMinutes', 'plusMinus', 'points',\n",
    "       'pointsPerGame', 'positionCode', 'ppGoals', 'ppPoints', 'shGoals',\n",
    "       'shPoints', 'timeOnIcePerGame', 'blockedShots',\n",
    "       'blockedShotsPer60', 'emptyNetGoals', 'firstGoals', 'giveaways',\n",
    "       'giveawaysPer60', 'hits', 'hitsPer60', 'missedShotCrossbar',\n",
    "       'missedShotGoalpost', 'missedShotOverNet', 'missedShotWideOfNet',\n",
    "       'missedShots', 'takeaways', 'takeawaysPer60']] = 0"
   ]
  },
  {
   "cell_type": "code",
   "execution_count": 89,
   "id": "0637fe1b-68ab-40f3-806b-f9c0f5759810",
   "metadata": {},
   "outputs": [],
   "source": [
    "today_away_df['opponentTeamAbbrev'] = today_away_df['teamAbbrev'].map(games_dict_away)\n",
    "today_home_df['opponentTeamAbbrev'] = today_home_df['teamAbbrev'].map(games_dict_home)"
   ]
  },
  {
   "cell_type": "code",
   "execution_count": 20,
   "id": "73c5ccd3-1689-4093-ac41-4deceded46fb",
   "metadata": {},
   "outputs": [],
   "source": [
    "today_df = pd.concat([today_home_df, today_away_df])\n",
    "today_df.drop_duplicates(subset='playerId', inplace=True)"
   ]
  },
  {
   "cell_type": "code",
   "execution_count": 21,
   "id": "27303752-8295-4bf8-9607-95848fb350d5",
   "metadata": {},
   "outputs": [],
   "source": [
    "df_merged = pd.concat([df_merged, today_df])"
   ]
  },
  {
   "cell_type": "markdown",
   "id": "92624d1f-f8dc-45a0-849a-7f85517d590a",
   "metadata": {},
   "source": [
    "### Add Calculated Columns"
   ]
  },
  {
   "cell_type": "code",
   "execution_count": 22,
   "id": "f1f73146-754b-402f-b880-ade08f7ae80b",
   "metadata": {},
   "outputs": [],
   "source": [
    "df_merged['fanPoints'] = data_explor.fan_points(df_merged)\n",
    "df_merged['overPerform'] = data_explor.overperform(df_merged, 'fanPoints', 'playerId')\n",
    "df_merged['overPerformDummy'] = data_explor.over_perf_dummy(df_merged, 'overPerform')\n",
    "df_merged['underPerformDummy'] = data_explor.under_perf_dummy(df_merged, 'overPerform')\n",
    "df_merged['samePerfDummy'] = data_explor.same_perf_dummy(df_merged, 'overPerform')\n",
    "df_merged['homeRoadPerf'] = data_explor.home_away_perf(df_merged, 'overPerform', ['playerId', 'homeRoad'])"
   ]
  },
  {
   "cell_type": "code",
   "execution_count": 23,
   "id": "f434563e-711d-4131-9fab-77699ac5c92a",
   "metadata": {},
   "outputs": [],
   "source": [
    "better_home_skater = list(np.where((df_merged['homeRoad'] == 'H') & (df_merged['homeRoadPerf'] > 0), df_merged['playerId'], None))\n",
    "better_away_skater = list(np.where((df_merged['homeRoad'] == 'R') & (df_merged['homeRoadPerf'] > 0), df_merged['playerId'], None))\n",
    "better_home_skater = [*set(better_home_skater)]\n",
    "better_away_skater = [*set(better_away_skater)]"
   ]
  },
  {
   "cell_type": "code",
   "execution_count": 24,
   "id": "5a5bbfb2-6fcc-42c4-b70f-f69edef39363",
   "metadata": {},
   "outputs": [],
   "source": [
    "df_skaters['OpHomeDummy'] = np.where(df_skaters['playerId'].isin(better_home_skater), 1, 0)\n",
    "df_skaters['OpRoadDummy'] = np.where(df_skaters['playerId'].isin(better_away_skater), 1, 0)\n",
    "df_skaters['OpNowhereDummy'] = np.where((df_skaters['OpHomeDummy'] == 0) & (df_skaters['OpRoadDummy'] == 0), 1, 0)"
   ]
  },
  {
   "cell_type": "code",
   "execution_count": 25,
   "id": "317fe38e-4f5f-45f7-9af5-a73ff5a22d61",
   "metadata": {},
   "outputs": [],
   "source": [
    "feature_list = ['assists', 'goals', 'plusMinus', 'points', 'ppPoints', 'fanPoints', 'shootingPct', 'shots', 'timeOnIcePerGame', 'ppTimeOnIce', 'timeOnIcePerShift']"
   ]
  },
  {
   "cell_type": "code",
   "execution_count": 26,
   "id": "08820d4c-95b2-4905-af7c-c98f4ff718ae",
   "metadata": {},
   "outputs": [],
   "source": [
    "for feature in feature_list:\n",
    "    df_merged[f'{feature}Ma7'] = data_proc.moving_average(df_merged, feature, 'playerId', 7)\n",
    "    df_merged[f'{feature}Ma7'] = df_merged[f'{feature}Ma7'].shift(1)\n",
    "    \n",
    "for feature in feature_list:\n",
    "    df_merged[f'{feature}Ma3'] = data_proc.moving_average(df_merged, feature, 'playerId', 3)\n",
    "    df_merged[f'{feature}Ma3'] = df_merged[f'{feature}Ma3'].shift(1)\n",
    "    \n",
    "for feature in feature_list:\n",
    "    df_merged[f'{feature}LastGame'] = df_merged[feature].shift(1)\n",
    "    \n",
    "for feature in feature_list:\n",
    "    df_merged[f'{feature}Ma10'] = data_proc.moving_average(df_merged, feature, 'playerId', 10)\n",
    "    df_merged[f'{feature}Ma10'] = df_merged[f'{feature}Ma10'].shift(1)\n",
    "\n",
    "for feature in feature_list:\n",
    "    df_merged[f'{feature}Ma14'] = data_proc.moving_average(df_merged, feature, 'playerId', 14)\n",
    "    df_merged[f'{feature}Ma14'] = df_merged[f'{feature}Ma14'].shift(1)"
   ]
  },
  {
   "cell_type": "code",
   "execution_count": 27,
   "id": "3d31be75-8673-4bbe-9fde-e447da4c2c13",
   "metadata": {},
   "outputs": [
    {
     "name": "stderr",
     "output_type": "stream",
     "text": [
      "/var/folders/0b/h0zc244107jg60tttkl4r0kw0000gn/T/ipykernel_20847/191244928.py:6: PerformanceWarning: DataFrame is highly fragmented.  This is usually the result of calling `frame.insert` many times, which has poor performance.  Consider joining all columns at once using pd.concat(axis=1) instead. To get a de-fragmented frame, use `newframe = frame.copy()`\n",
      "  df_merged[f\"%{goal}\"] = data_proc.percShotType(df_merged, 'playerId', goal, 'goals')\n",
      "/var/folders/0b/h0zc244107jg60tttkl4r0kw0000gn/T/ipykernel_20847/191244928.py:6: PerformanceWarning: DataFrame is highly fragmented.  This is usually the result of calling `frame.insert` many times, which has poor performance.  Consider joining all columns at once using pd.concat(axis=1) instead. To get a de-fragmented frame, use `newframe = frame.copy()`\n",
      "  df_merged[f\"%{goal}\"] = data_proc.percShotType(df_merged, 'playerId', goal, 'goals')\n",
      "/var/folders/0b/h0zc244107jg60tttkl4r0kw0000gn/T/ipykernel_20847/191244928.py:9: PerformanceWarning: DataFrame is highly fragmented.  This is usually the result of calling `frame.insert` many times, which has poor performance.  Consider joining all columns at once using pd.concat(axis=1) instead. To get a de-fragmented frame, use `newframe = frame.copy()`\n",
      "  df_merged[f\"%{shot}\"] = data_proc.percShotType(df_merged, 'playerId', shot, 'shots')\n",
      "/var/folders/0b/h0zc244107jg60tttkl4r0kw0000gn/T/ipykernel_20847/191244928.py:9: PerformanceWarning: DataFrame is highly fragmented.  This is usually the result of calling `frame.insert` many times, which has poor performance.  Consider joining all columns at once using pd.concat(axis=1) instead. To get a de-fragmented frame, use `newframe = frame.copy()`\n",
      "  df_merged[f\"%{shot}\"] = data_proc.percShotType(df_merged, 'playerId', shot, 'shots')\n",
      "/var/folders/0b/h0zc244107jg60tttkl4r0kw0000gn/T/ipykernel_20847/191244928.py:9: PerformanceWarning: DataFrame is highly fragmented.  This is usually the result of calling `frame.insert` many times, which has poor performance.  Consider joining all columns at once using pd.concat(axis=1) instead. To get a de-fragmented frame, use `newframe = frame.copy()`\n",
      "  df_merged[f\"%{shot}\"] = data_proc.percShotType(df_merged, 'playerId', shot, 'shots')\n",
      "/var/folders/0b/h0zc244107jg60tttkl4r0kw0000gn/T/ipykernel_20847/191244928.py:9: PerformanceWarning: DataFrame is highly fragmented.  This is usually the result of calling `frame.insert` many times, which has poor performance.  Consider joining all columns at once using pd.concat(axis=1) instead. To get a de-fragmented frame, use `newframe = frame.copy()`\n",
      "  df_merged[f\"%{shot}\"] = data_proc.percShotType(df_merged, 'playerId', shot, 'shots')\n",
      "/var/folders/0b/h0zc244107jg60tttkl4r0kw0000gn/T/ipykernel_20847/191244928.py:9: PerformanceWarning: DataFrame is highly fragmented.  This is usually the result of calling `frame.insert` many times, which has poor performance.  Consider joining all columns at once using pd.concat(axis=1) instead. To get a de-fragmented frame, use `newframe = frame.copy()`\n",
      "  df_merged[f\"%{shot}\"] = data_proc.percShotType(df_merged, 'playerId', shot, 'shots')\n",
      "/var/folders/0b/h0zc244107jg60tttkl4r0kw0000gn/T/ipykernel_20847/191244928.py:9: PerformanceWarning: DataFrame is highly fragmented.  This is usually the result of calling `frame.insert` many times, which has poor performance.  Consider joining all columns at once using pd.concat(axis=1) instead. To get a de-fragmented frame, use `newframe = frame.copy()`\n",
      "  df_merged[f\"%{shot}\"] = data_proc.percShotType(df_merged, 'playerId', shot, 'shots')\n",
      "/var/folders/0b/h0zc244107jg60tttkl4r0kw0000gn/T/ipykernel_20847/191244928.py:9: PerformanceWarning: DataFrame is highly fragmented.  This is usually the result of calling `frame.insert` many times, which has poor performance.  Consider joining all columns at once using pd.concat(axis=1) instead. To get a de-fragmented frame, use `newframe = frame.copy()`\n",
      "  df_merged[f\"%{shot}\"] = data_proc.percShotType(df_merged, 'playerId', shot, 'shots')\n"
     ]
    }
   ],
   "source": [
    "goals = ['goalsBackhand', 'goalsDeflected', 'goalsSlap', 'goalsSnap', 'goalsTipIn', 'goalsWrapAround', 'goalsWrist']\n",
    "\n",
    "shots = ['shotsOnNetBackhand', 'shotsOnNetDeflected', 'shotsOnNetSlap', 'shotsOnNetSnap', 'shotsOnNetTipIn', 'shotsOnNetWrapAround', 'shotsOnNetWrist']\n",
    "\n",
    "for goal in goals:\n",
    "    df_merged[f\"%{goal}\"] = data_proc.percShotType(df_merged, 'playerId', goal, 'goals')\n",
    "\n",
    "for shot in shots:\n",
    "    df_merged[f\"%{shot}\"] = data_proc.percShotType(df_merged, 'playerId', shot, 'shots')"
   ]
  },
  {
   "cell_type": "markdown",
   "id": "1e1929f5-b571-4211-a165-decb70043949",
   "metadata": {},
   "source": [
    "### Cleaning"
   ]
  },
  {
   "cell_type": "code",
   "execution_count": 28,
   "id": "1bd6a975-ec3c-407c-97d2-d800609001e6",
   "metadata": {},
   "outputs": [],
   "source": [
    "drop_cols = 'shootingPctMa7 shootingPctMa3 shootingPctLastGame shootingPctMa10 shootingPctMa14'.split()\n",
    "drop_cols.append('Unnamed: 0')\n",
    "drop_cols\n",
    "\n",
    "df_merged = data_prep.remove_columns(df_merged, drop_cols)"
   ]
  },
  {
   "cell_type": "code",
   "execution_count": 29,
   "id": "6a5bacc0-ee34-476b-bd67-85cd970a1272",
   "metadata": {},
   "outputs": [],
   "source": [
    "impute_by_player = 'hitsPer60 blockedShotsPer60 giveawaysPer60 takeawaysPer60 assistsMa3 assistsMa7 assistsMa10 assistsMa14 assistsLastGame goalsMa3 goalsMa7 goalsMa10 goalsMa14 goalsLastGame shotsMa3 shotsMa7 shotsMa10 shotsMa14 shotsLastGame plusMinusMa3 plusMinusMa7 plusMinusMa10 plusMinusMa14 plusMinusLastGame pointsMa3 pointsMa7 pointsMa10 pointsMa14 pointsLastGame fanPointsMa3 fanPointsMa7 ppTimeOnIceMa3 ppTimeOnIceMa7 ppTimeOnIceMa10 ppTimeOnIceMa14 ppTimeOnIceLastGame fanPointsMa10 fanPointsMa14 timeOnIcePerShiftMa3 timeOnIcePerShiftMa7 timeOnIcePerShiftMa10 timeOnIcePerShiftMa14 timeOnIcePerShiftLastGame fanPointsLastGame timeOnIcePerGameMa3 timeOnIcePerGameMa7 timeOnIcePerGameMa10 timeOnIcePerGameMa14 timeOnIcePerGameLastGame ppPointsLastGame ppPointsMa3 ppPointsMa7 ppPointsMa10 ppPointsMa14'.split()\n",
    "impute_by_perf = 'missedShotCrossbar missedShotGoalpost missedShotOverNet missedShotWideOfNet goalsBackhand goalsDeflected goalsSlap goalsSnap goalsTipIn goalsWrapAround goalsWrist shootingPct shotsOnNetBackhand shotsOnNetDeflected shotsOnNetSlap shotsOnNetSnap shotsOnNetTipIn shotsOnNetWrapAround shotsOnNetWrist hitsPer60 blockedShotsPer60 giveawaysPer60 takeawaysPer60 assistsMa3 assistsMa7 assistsMa10 assistsMa14 assistsLastGame goalsMa3 goalsMa7 goalsMa10 goalsMa14 goalsLastGame shotsMa3 shotsMa7 shotsMa10 shotsMa14 shotsLastGame plusMinusMa3 plusMinusMa7 plusMinusMa10 plusMinusMa14 plusMinusLastGame ppPointsLastGame ppPointsMa3 ppPointsMa7 ppPointsMa10 ppPointsMa14 timeOnIcePerGameMa3 timeOnIcePerGameMa7 timeOnIcePerGameMa10 timeOnIcePerGameMa14 timeOnIcePerGameLastGame pointsMa3 pointsMa7 pointsMa10 pointsMa14 pointsLastGame ppTimeOnIceMa3 ppTimeOnIceMa7 ppTimeOnIceMa10 ppTimeOnIceMa14 ppTimeOnIceLastGame fanPointsMa3 fanPointsMa7 fanPointsMa10 fanPointsMa14 fanPointsLastGame timeOnIcePerShiftMa3 timeOnIcePerShiftMa7 timeOnIcePerShiftMa10 timeOnIcePerShiftMa14 timeOnIcePerShiftLastGame'.split()"
   ]
  },
  {
   "cell_type": "code",
   "execution_count": 30,
   "id": "16be9392-9e47-4903-a824-00cbdf724344",
   "metadata": {},
   "outputs": [],
   "source": [
    "for col in impute_by_player:\n",
    "    data_prep.handle_missing(df_merged, 'playerId', col)"
   ]
  },
  {
   "cell_type": "code",
   "execution_count": 31,
   "id": "d770e899-a1fc-426d-beee-abe98eb5dd8b",
   "metadata": {},
   "outputs": [],
   "source": [
    "for col in impute_by_perf:\n",
    "    try:\n",
    "        data_prep.handle_missing(df_merged, 'overPerformDummy', col)\n",
    "    except:\n",
    "        continue"
   ]
  },
  {
   "cell_type": "markdown",
   "id": "b1b3817a-b817-4e16-9ff4-d662fae5d0bb",
   "metadata": {},
   "source": [
    "### Final Scrub, Rinse, and Split"
   ]
  },
  {
   "cell_type": "code",
   "execution_count": 32,
   "id": "ce599b4e-4c46-479c-887f-422a336257a3",
   "metadata": {},
   "outputs": [],
   "source": [
    "drop_cols = 'shootingPctMa7 shootingPctMa3 shootingPctLastGame shootingPctMa10 shootingPctMa14'.split()\n",
    "\n",
    "df_merged = data_prep.remove_columns(df_merged, drop_cols)"
   ]
  },
  {
   "cell_type": "code",
   "execution_count": 33,
   "id": "0b0f469b-5076-4158-9ea5-863f04a1b554",
   "metadata": {},
   "outputs": [
    {
     "name": "stderr",
     "output_type": "stream",
     "text": [
      "/var/folders/0b/h0zc244107jg60tttkl4r0kw0000gn/T/ipykernel_20847/468772600.py:1: PerformanceWarning: DataFrame is highly fragmented.  This is usually the result of calling `frame.insert` many times, which has poor performance.  Consider joining all columns at once using pd.concat(axis=1) instead. To get a de-fragmented frame, use `newframe = frame.copy()`\n",
      "  df_merged['homeRoad1'] = df_merged['homeRoad'].copy()\n",
      "/var/folders/0b/h0zc244107jg60tttkl4r0kw0000gn/T/ipykernel_20847/468772600.py:2: PerformanceWarning: DataFrame is highly fragmented.  This is usually the result of calling `frame.insert` many times, which has poor performance.  Consider joining all columns at once using pd.concat(axis=1) instead. To get a de-fragmented frame, use `newframe = frame.copy()`\n",
      "  df_merged['positionCode1'] = df_merged['positionCode'].copy()\n"
     ]
    }
   ],
   "source": [
    "df_merged['homeRoad1'] = df_merged['homeRoad'].copy()\n",
    "df_merged['positionCode1'] = df_merged['positionCode'].copy()"
   ]
  },
  {
   "cell_type": "code",
   "execution_count": 34,
   "id": "111b8301-fc61-407c-9855-9019ae0f152e",
   "metadata": {},
   "outputs": [],
   "source": [
    "df_merged = pd.get_dummies(df_merged, columns=['homeRoad', 'shootsCatches', 'positionCode', 'opponentTeamAbbrev'])"
   ]
  },
  {
   "cell_type": "markdown",
   "id": "62468f41-5194-4e71-bae3-2e45b1473708",
   "metadata": {},
   "source": [
    "## Pull Out Prediction DataFrame\n",
    "\n",
    "Pull out the rows you want to predict values for and add them to a new dataframe. Drop their target columns."
   ]
  },
  {
   "cell_type": "code",
   "execution_count": 35,
   "id": "948a4061-ab1f-46eb-95ea-8875022e99f8",
   "metadata": {},
   "outputs": [],
   "source": [
    "predictable_df = df_merged[df_merged['gameDate'] == today]"
   ]
  },
  {
   "cell_type": "code",
   "execution_count": 36,
   "id": "db4de560-d8a2-4ea8-8718-0072255bc1e4",
   "metadata": {},
   "outputs": [
    {
     "data": {
      "text/plain": [
       "CBJ    24\n",
       "PIT    23\n",
       "CHI    21\n",
       "FLA    21\n",
       "Name: teamAbbrev, dtype: int64"
      ]
     },
     "execution_count": 36,
     "metadata": {},
     "output_type": "execute_result"
    }
   ],
   "source": [
    "predictable_df['teamAbbrev'].value_counts()"
   ]
  },
  {
   "cell_type": "markdown",
   "id": "d8cfc405-ceda-406b-96d0-45f6ac78a187",
   "metadata": {},
   "source": [
    "#### Transform Predictable DataFrame"
   ]
  },
  {
   "cell_type": "code",
   "execution_count": 37,
   "id": "70690399-c9d1-4c8c-85d9-a97d9b0aa7e6",
   "metadata": {},
   "outputs": [],
   "source": [
    "home_df = pd.concat([predictable_df[((predictable_df['homeRoadPerf'] > 0) & (predictable_df['homeRoad1'] == 'H'))], predictable_df[(predictable_df['homeRoadPerf'] <= 0) & (predictable_df['homeRoad1'] == 'R')]])\n",
    "away_df = pd.concat([predictable_df[((predictable_df['homeRoadPerf'] > 0) & (predictable_df['homeRoad1'] == 'R'))], predictable_df[(predictable_df['homeRoadPerf'] <= 0) & (predictable_df['homeRoad1'] == 'H')]])"
   ]
  },
  {
   "cell_type": "code",
   "execution_count": 38,
   "id": "383b6ff9-4baa-41da-9244-31430a781728",
   "metadata": {},
   "outputs": [],
   "source": [
    "home_df.drop(['fanPoints', 'overPerform', 'overPerformDummy'], axis=1, inplace=True)\n",
    "away_df.drop(['fanPoints', 'overPerform', 'overPerformDummy'], axis=1, inplace=True)"
   ]
  },
  {
   "cell_type": "code",
   "execution_count": 39,
   "id": "b11632a5-8e72-4dec-8dc3-061d3616f5c3",
   "metadata": {},
   "outputs": [],
   "source": [
    "home_model_df = pd.concat([df_merged[((df_merged['homeRoadPerf'] > 0) & (df_merged['homeRoad1'] == 'H'))], df_merged[(df_merged['homeRoadPerf'] <= 0) & (df_merged['homeRoad1'] == 'R')]])\n",
    "away_model_df = pd.concat([df_merged[((df_merged['homeRoadPerf'] > 0) & (df_merged['homeRoad1'] == 'R'))], df_merged[(df_merged['homeRoadPerf'] <= 0) & (df_merged['homeRoad1'] == 'H')]])"
   ]
  },
  {
   "cell_type": "code",
   "execution_count": 111,
   "id": "dd049c98-b4bf-439a-8db7-04c175f14c34",
   "metadata": {},
   "outputs": [
    {
     "data": {
      "text/plain": [
       "(0, 199)"
      ]
     },
     "execution_count": 111,
     "metadata": {},
     "output_type": "execute_result"
    }
   ],
   "source": []
  },
  {
   "cell_type": "markdown",
   "id": "11214f36-1632-40d5-a500-4f7046bb434d",
   "metadata": {},
   "source": [
    "### Train Models\n",
    "\n",
    "Can skip this if already trained."
   ]
  },
  {
   "cell_type": "markdown",
   "id": "d2f9d8b0-fb3c-403d-a1d3-9a05bfbab883",
   "metadata": {},
   "source": [
    "#### Train Home Model"
   ]
  },
  {
   "cell_type": "code",
   "execution_count": 53,
   "id": "0b3cdff6-43da-48a7-990e-366197b0ebef",
   "metadata": {},
   "outputs": [],
   "source": [
    "features = '%shotsOnNetBackhand %shotsOnNetDeflected %shotsOnNetSlap %shotsOnNetSnap %shotsOnNetTipIn %shotsOnNetWrapAround %shotsOnNetWrist homeRoad_H positionCode_C positionCode_D positionCode_R assistsMa7 goalsMa7 plusMinusMa7 pointsMa7 fanPointsMa7 shotsMa7 assistsMa3 goalsMa3 plusMinusMa3 pointsMa3 fanPointsMa3 shotsMa3 assistsLastGame goalsLastGame plusMinusLastGame pointsLastGame fanPointsLastGame shotsLastGame assistsMa10 goalsMa10 plusMinusMa10 pointsMa10 fanPointsMa10 shotsMa10 assistsMa14 goalsMa14 plusMinusMa14 pointsMa14 fanPointsMa14 shotsMa14 timeOnIcePerShiftMa3 timeOnIcePerShiftMa7 timeOnIcePerShiftMa10 timeOnIcePerShiftMa14 timeOnIcePerShiftLastGame ppTimeOnIceMa3 ppTimeOnIceMa7 ppTimeOnIceMa10 ppTimeOnIceMa14 ppTimeOnIceLastGame'.split()\n",
    "target = 'fanPoints'"
   ]
  },
  {
   "cell_type": "code",
   "execution_count": 54,
   "id": "dae25e44-07f7-4fce-a9ce-da7ad846c46f",
   "metadata": {},
   "outputs": [],
   "source": [
    "X = home_model_df[features].values\n",
    "y = home_model_df[target].values"
   ]
  },
  {
   "cell_type": "code",
   "execution_count": 55,
   "id": "1e676962-6dca-4f84-b615-29a57ba5c691",
   "metadata": {},
   "outputs": [],
   "source": [
    "X_train, X_test, y_train, y_test = train_test_split(X, y, test_size=0.3, random_state=4)"
   ]
  },
  {
   "cell_type": "code",
   "execution_count": 56,
   "id": "b6b2400d-308e-4736-be3a-557d2f151c9e",
   "metadata": {},
   "outputs": [],
   "source": [
    "model = ensemble.GradientBoostingRegressor(n_estimators=1250, learning_rate=0.05, max_depth=6, min_samples_split=5, min_samples_leaf=8, max_features='auto', loss='huber')"
   ]
  },
  {
   "cell_type": "code",
   "execution_count": 57,
   "id": "fea49084-09dc-4c22-bf87-5ba731ec918e",
   "metadata": {},
   "outputs": [
    {
     "data": {
      "text/plain": [
       "GradientBoostingRegressor(learning_rate=0.05, loss='huber', max_depth=6,\n",
       "                          max_features='auto', min_samples_leaf=8,\n",
       "                          min_samples_split=5, n_estimators=1250)"
      ]
     },
     "execution_count": 57,
     "metadata": {},
     "output_type": "execute_result"
    }
   ],
   "source": [
    "model.fit(X_train, y_train)"
   ]
  },
  {
   "cell_type": "code",
   "execution_count": 58,
   "id": "c981eb8e-b916-4019-ac2d-ef15ebeedbe6",
   "metadata": {},
   "outputs": [
    {
     "data": {
      "text/plain": [
       "['nhl_home_fan.pkl']"
      ]
     },
     "execution_count": 58,
     "metadata": {},
     "output_type": "execute_result"
    }
   ],
   "source": [
    "joblib.dump(model, 'nhl_home_fan.pkl')"
   ]
  },
  {
   "cell_type": "code",
   "execution_count": 59,
   "id": "6e744a94-4f97-4504-a823-d88179c4002f",
   "metadata": {},
   "outputs": [
    {
     "name": "stdout",
     "output_type": "stream",
     "text": [
      "Training Set MSE: 5.48\n"
     ]
    }
   ],
   "source": [
    "mse=mean_absolute_error(y_train, model.predict(X_train))\n",
    "print(\"Training Set MSE: %.2f\" %mse)"
   ]
  },
  {
   "cell_type": "code",
   "execution_count": 60,
   "id": "f1250cdc-48a0-4469-87f3-c7bede4cb012",
   "metadata": {},
   "outputs": [
    {
     "name": "stdout",
     "output_type": "stream",
     "text": [
      "Training Set MSE: 5.79\n"
     ]
    }
   ],
   "source": [
    "mse=mean_absolute_error(y_test, model.predict(X_test))\n",
    "print(\"Training Set MSE: %.2f\" %mse)"
   ]
  },
  {
   "cell_type": "markdown",
   "id": "a256b924-9e5b-4e3e-88d0-6bb2e6b01533",
   "metadata": {},
   "source": [
    "#### Train Away Model"
   ]
  },
  {
   "cell_type": "code",
   "execution_count": 61,
   "id": "fa9cc911-722f-4571-80b6-0ecb5f00c8a9",
   "metadata": {},
   "outputs": [],
   "source": [
    "X = away_model_df[features].values\n",
    "y = away_model_df[target].values"
   ]
  },
  {
   "cell_type": "code",
   "execution_count": 62,
   "id": "75ed3d61-4668-4149-97a9-1dafed5a3028",
   "metadata": {},
   "outputs": [],
   "source": [
    "X_train, X_test, y_train, y_test = train_test_split(X, y, test_size=0.25, random_state=234)"
   ]
  },
  {
   "cell_type": "code",
   "execution_count": 63,
   "id": "96ff1698-1175-4523-8861-417e6b8d9eed",
   "metadata": {},
   "outputs": [],
   "source": [
    "model = ensemble.GradientBoostingRegressor(n_estimators=1250, learning_rate=0.05, max_depth=6, min_samples_split=5, min_samples_leaf=8, max_features='auto', loss='huber')"
   ]
  },
  {
   "cell_type": "code",
   "execution_count": 64,
   "id": "4b6e136c-caaa-4e76-8ad0-22cf9e2b7db3",
   "metadata": {},
   "outputs": [
    {
     "data": {
      "text/plain": [
       "GradientBoostingRegressor(learning_rate=0.05, loss='huber', max_depth=6,\n",
       "                          max_features='auto', min_samples_leaf=8,\n",
       "                          min_samples_split=5, n_estimators=1250)"
      ]
     },
     "execution_count": 64,
     "metadata": {},
     "output_type": "execute_result"
    }
   ],
   "source": [
    "model.fit(X_train, y_train)"
   ]
  },
  {
   "cell_type": "code",
   "execution_count": 65,
   "id": "72c0f9f8-b602-48dc-8789-45a14219f47d",
   "metadata": {},
   "outputs": [
    {
     "data": {
      "text/plain": [
       "['nhl_away_fan.pkl']"
      ]
     },
     "execution_count": 65,
     "metadata": {},
     "output_type": "execute_result"
    }
   ],
   "source": [
    "joblib.dump(model, 'nhl_away_fan.pkl')"
   ]
  },
  {
   "cell_type": "code",
   "execution_count": 66,
   "id": "d21c3b4b-252e-4256-943b-8ca9df6511b1",
   "metadata": {},
   "outputs": [
    {
     "name": "stdout",
     "output_type": "stream",
     "text": [
      "Training Set MSE: 4.15\n"
     ]
    }
   ],
   "source": [
    "mse=mean_absolute_error(y_train, model.predict(X_train))\n",
    "print(\"Training Set MSE: %.2f\" %mse)"
   ]
  },
  {
   "cell_type": "code",
   "execution_count": 67,
   "id": "664929ec-9e56-48a1-b48f-25bcbdf62a0c",
   "metadata": {},
   "outputs": [
    {
     "name": "stdout",
     "output_type": "stream",
     "text": [
      "Training Set MSE: 4.85\n"
     ]
    }
   ],
   "source": [
    "mse=mean_absolute_error(y_test, model.predict(X_test))\n",
    "print(\"Training Set MSE: %.2f\" %mse)"
   ]
  },
  {
   "cell_type": "markdown",
   "id": "6516f817-cf0c-4dbe-9214-0d5d095d9e69",
   "metadata": {},
   "source": [
    "### Applying Model"
   ]
  },
  {
   "cell_type": "markdown",
   "id": "f6dc56a4-5e94-4bec-a025-17c8eeb60ef8",
   "metadata": {},
   "source": [
    "#### Home Split"
   ]
  },
  {
   "cell_type": "code",
   "execution_count": 68,
   "id": "5aa1b32f-3e62-43ff-91b7-7aa8820244a4",
   "metadata": {},
   "outputs": [],
   "source": [
    "model = joblib.load('nhl_home_fan.pkl')"
   ]
  },
  {
   "cell_type": "code",
   "execution_count": 69,
   "id": "7339edbd-7fc2-47de-8cd7-65807796d4d0",
   "metadata": {},
   "outputs": [],
   "source": [
    "predictions = model.predict(home_df[features].values)"
   ]
  },
  {
   "cell_type": "code",
   "execution_count": 70,
   "id": "53c71183-cfcb-487a-87e5-e75938a24fcd",
   "metadata": {},
   "outputs": [],
   "source": [
    "home_df['prediction'] = predictions"
   ]
  },
  {
   "cell_type": "markdown",
   "id": "b94f1628-dd44-41ae-b02f-56c984573a4d",
   "metadata": {},
   "source": [
    "#### Away Split"
   ]
  },
  {
   "cell_type": "code",
   "execution_count": 71,
   "id": "3cc4d494-fa78-4d63-a35a-1d086b9f3578",
   "metadata": {},
   "outputs": [],
   "source": [
    "model = joblib.load('nhl_away_fan.pkl')"
   ]
  },
  {
   "cell_type": "code",
   "execution_count": 72,
   "id": "fc2ad74c-afc6-4eea-8904-91dcf36c061f",
   "metadata": {},
   "outputs": [],
   "source": [
    "predictions = model.predict(away_df[features].values)"
   ]
  },
  {
   "cell_type": "code",
   "execution_count": 73,
   "id": "76fc1fc8-2a9b-44f1-add2-ad364e2dfef5",
   "metadata": {},
   "outputs": [],
   "source": [
    "away_df['prediction'] = predictions"
   ]
  },
  {
   "cell_type": "markdown",
   "id": "2b27413a-f9e1-4d6f-887c-c1b9d4886e27",
   "metadata": {},
   "source": [
    "## Combine into Final Predictions"
   ]
  },
  {
   "cell_type": "code",
   "execution_count": 74,
   "id": "9c742041-f784-42dc-8895-91e297280db1",
   "metadata": {},
   "outputs": [],
   "source": [
    "all_skaters_df = pd.concat([home_df, away_df])"
   ]
  },
  {
   "cell_type": "code",
   "execution_count": 75,
   "id": "7509f16e-1481-416b-aa69-d274a4df52bc",
   "metadata": {},
   "outputs": [],
   "source": [
    "final_pred_df = all_skaters_df[['skaterFullName', 'teamAbbrev', 'prediction']].sort_values(by='prediction', ascending=False)"
   ]
  },
  {
   "cell_type": "code",
   "execution_count": 76,
   "id": "80dfe701-a9f3-4357-920e-e4f51ae07976",
   "metadata": {},
   "outputs": [],
   "source": [
    "final_pred_df.to_csv(f'predictions_{today}.csv')"
   ]
  },
  {
   "cell_type": "code",
   "execution_count": 77,
   "id": "2a04a88a-70fd-484b-acb4-3d6524d90465",
   "metadata": {},
   "outputs": [
    {
     "data": {
      "text/html": [
       "<div>\n",
       "<style scoped>\n",
       "    .dataframe tbody tr th:only-of-type {\n",
       "        vertical-align: middle;\n",
       "    }\n",
       "\n",
       "    .dataframe tbody tr th {\n",
       "        vertical-align: top;\n",
       "    }\n",
       "\n",
       "    .dataframe thead th {\n",
       "        text-align: right;\n",
       "    }\n",
       "</style>\n",
       "<table border=\"1\" class=\"dataframe\">\n",
       "  <thead>\n",
       "    <tr style=\"text-align: right;\">\n",
       "      <th></th>\n",
       "      <th>skaterFullName</th>\n",
       "      <th>teamAbbrev</th>\n",
       "      <th>prediction</th>\n",
       "    </tr>\n",
       "  </thead>\n",
       "  <tbody>\n",
       "    <tr>\n",
       "      <th>886559</th>\n",
       "      <td>Patrik Laine</td>\n",
       "      <td>CBJ</td>\n",
       "      <td>12.926496</td>\n",
       "    </tr>\n",
       "    <tr>\n",
       "      <th>886296</th>\n",
       "      <td>Patrick Kane</td>\n",
       "      <td>CHI</td>\n",
       "      <td>11.741910</td>\n",
       "    </tr>\n",
       "    <tr>\n",
       "      <th>886295</th>\n",
       "      <td>Jonathan Toews</td>\n",
       "      <td>CHI</td>\n",
       "      <td>10.585905</td>\n",
       "    </tr>\n",
       "    <tr>\n",
       "      <th>886546</th>\n",
       "      <td>Johnny Gaudreau</td>\n",
       "      <td>CBJ</td>\n",
       "      <td>10.471465</td>\n",
       "    </tr>\n",
       "    <tr>\n",
       "      <th>886556</th>\n",
       "      <td>Zach Werenski</td>\n",
       "      <td>CBJ</td>\n",
       "      <td>9.950972</td>\n",
       "    </tr>\n",
       "    <tr>\n",
       "      <th>886548</th>\n",
       "      <td>Boone Jenner</td>\n",
       "      <td>CBJ</td>\n",
       "      <td>9.731196</td>\n",
       "    </tr>\n",
       "    <tr>\n",
       "      <th>886542</th>\n",
       "      <td>Jakub Voracek</td>\n",
       "      <td>CBJ</td>\n",
       "      <td>9.278222</td>\n",
       "    </tr>\n",
       "    <tr>\n",
       "      <th>886293</th>\n",
       "      <td>Jack Johnson</td>\n",
       "      <td>CHI</td>\n",
       "      <td>8.942956</td>\n",
       "    </tr>\n",
       "    <tr>\n",
       "      <th>886305</th>\n",
       "      <td>Max Domi</td>\n",
       "      <td>CHI</td>\n",
       "      <td>8.205111</td>\n",
       "    </tr>\n",
       "    <tr>\n",
       "      <th>886543</th>\n",
       "      <td>Gustav Nyquist</td>\n",
       "      <td>CBJ</td>\n",
       "      <td>7.874062</td>\n",
       "    </tr>\n",
       "    <tr>\n",
       "      <th>886303</th>\n",
       "      <td>Andreas Athanasiou</td>\n",
       "      <td>CHI</td>\n",
       "      <td>7.759589</td>\n",
       "    </tr>\n",
       "    <tr>\n",
       "      <th>886558</th>\n",
       "      <td>Vladislav Gavrikov</td>\n",
       "      <td>CBJ</td>\n",
       "      <td>6.930142</td>\n",
       "    </tr>\n",
       "    <tr>\n",
       "      <th>886574</th>\n",
       "      <td>Cole Sillinger</td>\n",
       "      <td>CBJ</td>\n",
       "      <td>6.444019</td>\n",
       "    </tr>\n",
       "    <tr>\n",
       "      <th>887949</th>\n",
       "      <td>Emil Bemstrom</td>\n",
       "      <td>CBJ</td>\n",
       "      <td>6.200692</td>\n",
       "    </tr>\n",
       "    <tr>\n",
       "      <th>886560</th>\n",
       "      <td>Andrew Peeke</td>\n",
       "      <td>CBJ</td>\n",
       "      <td>5.917734</td>\n",
       "    </tr>\n",
       "    <tr>\n",
       "      <th>888140</th>\n",
       "      <td>Colin Blackwell</td>\n",
       "      <td>CHI</td>\n",
       "      <td>5.837139</td>\n",
       "    </tr>\n",
       "    <tr>\n",
       "      <th>886555</th>\n",
       "      <td>Jack Roslovic</td>\n",
       "      <td>CBJ</td>\n",
       "      <td>5.673456</td>\n",
       "    </tr>\n",
       "    <tr>\n",
       "      <th>886302</th>\n",
       "      <td>Jake McCabe</td>\n",
       "      <td>CHI</td>\n",
       "      <td>5.466151</td>\n",
       "    </tr>\n",
       "    <tr>\n",
       "      <th>886547</th>\n",
       "      <td>Sean Kuraly</td>\n",
       "      <td>CBJ</td>\n",
       "      <td>5.217244</td>\n",
       "    </tr>\n",
       "    <tr>\n",
       "      <th>886322</th>\n",
       "      <td>Philipp Kurashev</td>\n",
       "      <td>CHI</td>\n",
       "      <td>5.110123</td>\n",
       "    </tr>\n",
       "    <tr>\n",
       "      <th>886572</th>\n",
       "      <td>Yegor Chinakhov</td>\n",
       "      <td>CBJ</td>\n",
       "      <td>5.040315</td>\n",
       "    </tr>\n",
       "    <tr>\n",
       "      <th>886566</th>\n",
       "      <td>Eric Robinson</td>\n",
       "      <td>CBJ</td>\n",
       "      <td>4.823854</td>\n",
       "    </tr>\n",
       "    <tr>\n",
       "      <th>886299</th>\n",
       "      <td>Connor Murphy</td>\n",
       "      <td>CHI</td>\n",
       "      <td>4.801073</td>\n",
       "    </tr>\n",
       "    <tr>\n",
       "      <th>886304</th>\n",
       "      <td>Jason Dickinson</td>\n",
       "      <td>CHI</td>\n",
       "      <td>4.491187</td>\n",
       "    </tr>\n",
       "    <tr>\n",
       "      <th>886315</th>\n",
       "      <td>Taylor Raddysh</td>\n",
       "      <td>CHI</td>\n",
       "      <td>4.373162</td>\n",
       "    </tr>\n",
       "    <tr>\n",
       "      <th>886301</th>\n",
       "      <td>Jujhar Khaira</td>\n",
       "      <td>CHI</td>\n",
       "      <td>4.301987</td>\n",
       "    </tr>\n",
       "    <tr>\n",
       "      <th>886311</th>\n",
       "      <td>Caleb Jones</td>\n",
       "      <td>CHI</td>\n",
       "      <td>4.282678</td>\n",
       "    </tr>\n",
       "    <tr>\n",
       "      <th>886562</th>\n",
       "      <td>Jake Bean</td>\n",
       "      <td>CBJ</td>\n",
       "      <td>4.247065</td>\n",
       "    </tr>\n",
       "    <tr>\n",
       "      <th>886544</th>\n",
       "      <td>Erik Gudbranson</td>\n",
       "      <td>CBJ</td>\n",
       "      <td>4.244332</td>\n",
       "    </tr>\n",
       "    <tr>\n",
       "      <th>886327</th>\n",
       "      <td>Filip Roos</td>\n",
       "      <td>CHI</td>\n",
       "      <td>4.152581</td>\n",
       "    </tr>\n",
       "    <tr>\n",
       "      <th>886298</th>\n",
       "      <td>Jarred Tinordi</td>\n",
       "      <td>CHI</td>\n",
       "      <td>3.874173</td>\n",
       "    </tr>\n",
       "    <tr>\n",
       "      <th>886573</th>\n",
       "      <td>Kent Johnson</td>\n",
       "      <td>CBJ</td>\n",
       "      <td>3.820645</td>\n",
       "    </tr>\n",
       "    <tr>\n",
       "      <th>886324</th>\n",
       "      <td>Reese Johnson</td>\n",
       "      <td>CHI</td>\n",
       "      <td>3.585413</td>\n",
       "    </tr>\n",
       "    <tr>\n",
       "      <th>886314</th>\n",
       "      <td>Boris Katchouk</td>\n",
       "      <td>CHI</td>\n",
       "      <td>3.296859</td>\n",
       "    </tr>\n",
       "    <tr>\n",
       "      <th>888555</th>\n",
       "      <td>Jake Christiansen</td>\n",
       "      <td>CBJ</td>\n",
       "      <td>3.256148</td>\n",
       "    </tr>\n",
       "    <tr>\n",
       "      <th>886575</th>\n",
       "      <td>Nick Blankenburg</td>\n",
       "      <td>CBJ</td>\n",
       "      <td>3.183550</td>\n",
       "    </tr>\n",
       "    <tr>\n",
       "      <th>890187</th>\n",
       "      <td>Ian Mitchell</td>\n",
       "      <td>CHI</td>\n",
       "      <td>3.082521</td>\n",
       "    </tr>\n",
       "    <tr>\n",
       "      <th>886319</th>\n",
       "      <td>MacKenzie Entwistle</td>\n",
       "      <td>CHI</td>\n",
       "      <td>2.989702</td>\n",
       "    </tr>\n",
       "    <tr>\n",
       "      <th>886310</th>\n",
       "      <td>Sam Lafferty</td>\n",
       "      <td>CHI</td>\n",
       "      <td>2.960130</td>\n",
       "    </tr>\n",
       "    <tr>\n",
       "      <th>888558</th>\n",
       "      <td>Marcus Bjork</td>\n",
       "      <td>CBJ</td>\n",
       "      <td>2.251165</td>\n",
       "    </tr>\n",
       "    <tr>\n",
       "      <th>888547</th>\n",
       "      <td>Gavin Bayreuther</td>\n",
       "      <td>CBJ</td>\n",
       "      <td>2.241689</td>\n",
       "    </tr>\n",
       "    <tr>\n",
       "      <th>886918</th>\n",
       "      <td>Mathieu Olivier</td>\n",
       "      <td>CBJ</td>\n",
       "      <td>2.063732</td>\n",
       "    </tr>\n",
       "    <tr>\n",
       "      <th>886568</th>\n",
       "      <td>Liam Foudy</td>\n",
       "      <td>CBJ</td>\n",
       "      <td>1.918862</td>\n",
       "    </tr>\n",
       "    <tr>\n",
       "      <th>886606</th>\n",
       "      <td>Alec Regula</td>\n",
       "      <td>CHI</td>\n",
       "      <td>1.826686</td>\n",
       "    </tr>\n",
       "    <tr>\n",
       "      <th>887931</th>\n",
       "      <td>Brendan Gaunce</td>\n",
       "      <td>CBJ</td>\n",
       "      <td>1.791367</td>\n",
       "    </tr>\n",
       "  </tbody>\n",
       "</table>\n",
       "</div>"
      ],
      "text/plain": [
       "             skaterFullName teamAbbrev  prediction\n",
       "886559         Patrik Laine        CBJ   12.926496\n",
       "886296         Patrick Kane        CHI   11.741910\n",
       "886295       Jonathan Toews        CHI   10.585905\n",
       "886546      Johnny Gaudreau        CBJ   10.471465\n",
       "886556        Zach Werenski        CBJ    9.950972\n",
       "886548         Boone Jenner        CBJ    9.731196\n",
       "886542        Jakub Voracek        CBJ    9.278222\n",
       "886293         Jack Johnson        CHI    8.942956\n",
       "886305             Max Domi        CHI    8.205111\n",
       "886543       Gustav Nyquist        CBJ    7.874062\n",
       "886303   Andreas Athanasiou        CHI    7.759589\n",
       "886558   Vladislav Gavrikov        CBJ    6.930142\n",
       "886574       Cole Sillinger        CBJ    6.444019\n",
       "887949        Emil Bemstrom        CBJ    6.200692\n",
       "886560         Andrew Peeke        CBJ    5.917734\n",
       "888140      Colin Blackwell        CHI    5.837139\n",
       "886555        Jack Roslovic        CBJ    5.673456\n",
       "886302          Jake McCabe        CHI    5.466151\n",
       "886547          Sean Kuraly        CBJ    5.217244\n",
       "886322     Philipp Kurashev        CHI    5.110123\n",
       "886572      Yegor Chinakhov        CBJ    5.040315\n",
       "886566        Eric Robinson        CBJ    4.823854\n",
       "886299        Connor Murphy        CHI    4.801073\n",
       "886304      Jason Dickinson        CHI    4.491187\n",
       "886315       Taylor Raddysh        CHI    4.373162\n",
       "886301        Jujhar Khaira        CHI    4.301987\n",
       "886311          Caleb Jones        CHI    4.282678\n",
       "886562            Jake Bean        CBJ    4.247065\n",
       "886544      Erik Gudbranson        CBJ    4.244332\n",
       "886327           Filip Roos        CHI    4.152581\n",
       "886298       Jarred Tinordi        CHI    3.874173\n",
       "886573         Kent Johnson        CBJ    3.820645\n",
       "886324        Reese Johnson        CHI    3.585413\n",
       "886314       Boris Katchouk        CHI    3.296859\n",
       "888555    Jake Christiansen        CBJ    3.256148\n",
       "886575     Nick Blankenburg        CBJ    3.183550\n",
       "890187         Ian Mitchell        CHI    3.082521\n",
       "886319  MacKenzie Entwistle        CHI    2.989702\n",
       "886310         Sam Lafferty        CHI    2.960130\n",
       "888558         Marcus Bjork        CBJ    2.251165\n",
       "888547     Gavin Bayreuther        CBJ    2.241689\n",
       "886918      Mathieu Olivier        CBJ    2.063732\n",
       "886568           Liam Foudy        CBJ    1.918862\n",
       "886606          Alec Regula        CHI    1.826686\n",
       "887931       Brendan Gaunce        CBJ    1.791367"
      ]
     },
     "execution_count": 77,
     "metadata": {},
     "output_type": "execute_result"
    }
   ],
   "source": [
    "final_pred_df"
   ]
  }
 ],
 "metadata": {
  "kernelspec": {
   "display_name": "Python 3 (ipykernel)",
   "language": "python",
   "name": "python3"
  },
  "language_info": {
   "codemirror_mode": {
    "name": "ipython",
    "version": 3
   },
   "file_extension": ".py",
   "mimetype": "text/x-python",
   "name": "python",
   "nbconvert_exporter": "python",
   "pygments_lexer": "ipython3",
   "version": "3.9.13"
  }
 },
 "nbformat": 4,
 "nbformat_minor": 5
}
