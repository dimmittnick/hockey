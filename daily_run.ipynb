{
 "cells": [
  {
   "cell_type": "markdown",
   "id": "ca3d8c7c-4a82-4ff8-834c-d355243373c3",
   "metadata": {},
   "source": [
    "# Daily Predictions\n",
    "\n",
    "Uses models in the pickle files to make predictions on daily data that is drawn in from daily lineups and linked with the most recent statistics from the original dataframe. This new dataframe is updated with current opponent/home/away and pushed through the respective models and output is displayed."
   ]
  },
  {
   "cell_type": "code",
   "execution_count": 46,
   "id": "d3bc74f2-045c-4f54-8ed0-673effb8ae2a",
   "metadata": {},
   "outputs": [],
   "source": [
    "import pandas as pd\n",
    "import numpy as np\n",
    "import importlib\n",
    "import os\n",
    "import requests\n",
    "import json\n",
    "from lxml import etree\n",
    "from lxml import html\n",
    "from sklearn.model_selection import train_test_split\n",
    "import joblib\n",
    "from datetime import *\n",
    "from sklearn.preprocessing import MinMaxScaler\n",
    "from sklearn.metrics import mean_absolute_error\n",
    "from sklearn import ensemble\n",
    "htmlparser =  etree.HTMLParser()\n",
    "\n",
    "pd.options.mode.chained_assignment = None\n",
    "\n",
    "import data_grab, data_proc, data_prep, data_explor"
   ]
  },
  {
   "cell_type": "markdown",
   "id": "ab158418-2e26-48ca-983b-0aad7d05b315",
   "metadata": {},
   "source": [
    "### Read in Daily Lineups"
   ]
  },
  {
   "cell_type": "code",
   "execution_count": 47,
   "id": "9935ebd9-257c-4855-90fe-bf4d082027d8",
   "metadata": {},
   "outputs": [],
   "source": [
    "daily_url = \"https://www.rotowire.com/hockey/nhl-lineups.php\"\n",
    "daily_results = requests.get(daily_url)\n",
    "daily_results_tree = html.fromstring(daily_results.content)"
   ]
  },
  {
   "cell_type": "code",
   "execution_count": 48,
   "id": "478bfd5f-21fb-4fcc-a5d9-92c12ecfb041",
   "metadata": {},
   "outputs": [],
   "source": [
    "away_teams_xpath = '/html/body/div[1]/div/main/div[3]//div//div//div//div//a[1]//div//text()'\n",
    "away_teams = daily_results_tree.xpath(away_teams_xpath)"
   ]
  },
  {
   "cell_type": "code",
   "execution_count": 49,
   "id": "91422f17-ae59-46be-b301-9c559f4fed76",
   "metadata": {},
   "outputs": [],
   "source": [
    "home_teams_xpath = '/html/body/div[1]/div/main/div[3]//div//div//div//div//a[2]//div//text()'\n",
    "home_teams = daily_results_tree.xpath(home_teams_xpath)"
   ]
  },
  {
   "cell_type": "code",
   "execution_count": 50,
   "id": "b3b714fd-0d3f-4cc0-8a59-1e38d4dd0855",
   "metadata": {},
   "outputs": [],
   "source": [
    "nhl_teams = 'ANA ANH ARI BOS BUF CAR CGY CHI CLS CBJ COL DAL DET EDM FLA LA MIN MON NJ NSH NYI NYR OTT PHI PIT SEA SJ SJS STL TB TOR VAN VGK WAS WPG'.split()"
   ]
  },
  {
   "cell_type": "code",
   "execution_count": 51,
   "id": "0cb732ee-6933-4ef9-9ef8-44c1db21a729",
   "metadata": {},
   "outputs": [],
   "source": [
    "away_teams = [x for x in away_teams if x in nhl_teams]\n",
    "home_teams = [x for x in home_teams if x in nhl_teams]"
   ]
  },
  {
   "cell_type": "code",
   "execution_count": 52,
   "id": "1d90b0f2-e406-4d53-9fed-d94cb32118ff",
   "metadata": {},
   "outputs": [],
   "source": [
    "games_away = [(x,y) for x,y in zip(away_teams, home_teams)]\n",
    "games_home = [(x,y) for x,y in zip(home_teams, away_teams)]\n",
    "\n",
    "games_dict_away = dict(games_away)\n",
    "games_dict_home = dict(games_home)"
   ]
  },
  {
   "cell_type": "markdown",
   "id": "2a5dcb1e-076a-4b63-a0fb-f9ac8c1ac505",
   "metadata": {},
   "source": [
    "### Read in Updated Dataframe\n",
    "\n",
    "Read in the merged dataframe and then create new dataframe for players playing on teams playing today. Will then be able to generate the feature columns and use pickled files to predict their outputs. Simple."
   ]
  },
  {
   "cell_type": "code",
   "execution_count": 53,
   "id": "cfd66892-e6a5-4174-8e10-1115463a19e1",
   "metadata": {},
   "outputs": [],
   "source": [
    "## most recent update: 11-21-2022"
   ]
  },
  {
   "cell_type": "code",
   "execution_count": 54,
   "id": "08301ffb-29ba-4020-9934-9f4270902efc",
   "metadata": {},
   "outputs": [
    {
     "data": {
      "text/plain": [
       "<module 'data_proc' from '/Users/nickdimmitt/hockey/data_proc.py'>"
      ]
     },
     "execution_count": 54,
     "metadata": {},
     "output_type": "execute_result"
    }
   ],
   "source": [
    "importlib.reload(data_grab)\n",
    "importlib.reload(data_prep)\n",
    "importlib.reload(data_explor)\n",
    "importlib.reload(data_proc)"
   ]
  },
  {
   "cell_type": "code",
   "execution_count": 55,
   "id": "c058ede6-1eda-45bd-9308-01d431a52ab6",
   "metadata": {},
   "outputs": [],
   "source": [
    "end_date = \"2022-11-19\"\n",
    "yesterday = (datetime.today() - timedelta(days=1)).strftime(\"%Y-%m-%d\")\n",
    "today = datetime.today().strftime(\"%Y-%m-%d\")"
   ]
  },
  {
   "cell_type": "code",
   "execution_count": 56,
   "id": "f44b2cef-b797-4593-af70-cd766ea666e9",
   "metadata": {},
   "outputs": [],
   "source": [
    "df_skaters = data_grab.main(yesterday, end_date, 'skater', \"~/dfs/hockey/data/df_skaters.csv\", 0, 10000, 100, update=True, saveData=False)\n",
    "df_skate_misc = data_grab.main(yesterday, end_date, 'misc', \"~/dfs/hockey/data/df_skaters_misc.csv\", 0, 10000, 100, update=True, saveData=False)\n",
    "df_skate_shot = data_grab.main(yesterday, end_date, 'shots', \"~/dfs/hockey/data/df_skaters_shot.csv\", 0, 10000, 100, update=True, saveData=False)\n",
    "df_skate_toi = data_grab.main(yesterday, end_date, 'toi', \"~/dfs/hockey/data/df_skaters_toi.csv\", 0, 10000, 100, update=True, saveData=False)"
   ]
  },
  {
   "cell_type": "code",
   "execution_count": 57,
   "id": "79812d47-a426-4932-99ed-34e6fa84f219",
   "metadata": {},
   "outputs": [
    {
     "name": "stderr",
     "output_type": "stream",
     "text": [
      "/Users/nickdimmitt/hockey/data_prep.py:98: FutureWarning: Passing 'suffixes' which cause duplicate columns {'teamAbbrev_y', 'gamesPlayed_y', 'opponentTeamAbbrev_y', 'Unnamed: 0_y', 'gameDate_y', 'homeRoad_y', 'lastName_y', 'skaterFullName_y'} in the result is deprecated and will raise a MergeError in a future version.\n",
      "  df = pd.merge(df1, df2, how='inner', left_index=True, right_index=True)\n"
     ]
    }
   ],
   "source": [
    "df_merged = data_prep.main(df_skaters, df_skate_misc, df_skate_shot, df_skate_toi, ['gameId','playerId'], 'Unnamed: 0_y, goals_y, shots_y, gameDate_y, shootingPct_y, gamesPlayed_y, homeRoad_y, lastName_y, opponentTeamAbbrev_y, otGoals_y, positionCode_y, shootsCatches_y, skaterFullName_y, teamAbbrev_y, timeOnIcePerGame_y'.split(\", \"), ['Unnamed: 0', 'emptyNetAssists', 'emptyNetPoints', 'faceoffWinPct', 'shootingPctBackhand', 'shootingPctDeflected', 'shootingPctSlap', 'shootingPctSnap', 'shootingPctTipIn', 'shootingPctWrapAround', 'shootingPctWrist'], saveData=True)"
   ]
  },
  {
   "cell_type": "markdown",
   "id": "68d2bd9f-ecca-441d-b416-b1a6b3f85812",
   "metadata": {},
   "source": [
    "### Add Today's Rows\n",
    "\n",
    "Either duplicate or generate rows for all the players playing today and append to bottom of dataframe."
   ]
  },
  {
   "cell_type": "code",
   "execution_count": 58,
   "id": "d595d66b-0cb2-4ada-892c-3819b9fefc9e",
   "metadata": {},
   "outputs": [],
   "source": [
    "today_home_df = df_merged[(df_merged['gameDate'] > \"2022-11-01\") & (df_merged['teamAbbrev'].isin(home_teams))]\n",
    "today_away_df = df_merged[(df_merged['gameDate'] > \"2022-11-01\") & (df_merged['teamAbbrev'].isin(away_teams))]"
   ]
  },
  {
   "cell_type": "code",
   "execution_count": 59,
   "id": "012c93ad-228d-406e-aa86-c91185da0642",
   "metadata": {},
   "outputs": [],
   "source": [
    "today_home_df['gameDate'] = today\n",
    "today_away_df['gameDate'] = today\n",
    "\n",
    "today_home_df['homeRoad'] = 'H'\n",
    "today_away_df['homeRoad'] = 'R'"
   ]
  },
  {
   "cell_type": "code",
   "execution_count": 60,
   "id": "addae229-9a1c-4e7b-9788-ae7a57b68e34",
   "metadata": {},
   "outputs": [
    {
     "data": {
      "text/plain": [
       "CGY    161\n",
       "CAR    160\n",
       "NYI    158\n",
       "OTT    144\n",
       "VGK    143\n",
       "BOS    142\n",
       "EDM    142\n",
       "ARI    126\n",
       "COL    126\n",
       "Name: teamAbbrev, dtype: int64"
      ]
     },
     "execution_count": 60,
     "metadata": {},
     "output_type": "execute_result"
    }
   ],
   "source": [
    "today_away_df['teamAbbrev'].value_counts()\n"
   ]
  },
  {
   "cell_type": "code",
   "execution_count": 61,
   "id": "50d79083-6c38-4c0e-b456-0689058d7319",
   "metadata": {},
   "outputs": [],
   "source": [
    "today_home_df[['gamesPlayed', 'goals', 'evTimeOnIce', 'evTimeOnIcePerGame', 'otTimeOnIce', 'otTimeOnIcePerOtGame', 'goalsBackhand', 'goalsDeflected', 'goalsSlap', 'goalsSnap',\n",
    "       'goalsTipIn', 'ppTimeOnIce',\n",
    "       'ppTimeOnIcePerGame', 'shTimeOnIce', 'shTimeOnIcePerGame', 'shifts',\n",
    "       'shiftsPerGame', 'goalsWrapAround', 'goalsWrist','shootingPct', 'shots', 'shotsOnNetBackhand',\n",
    "       'shotsOnNetDeflected', 'shotsOnNetSlap', 'shotsOnNetSnap',\n",
    "       'shotsOnNetTipIn', 'shotsOnNetWrapAround', 'shotsOnNetWrist','assists', 'evGoals', 'evPoints',\n",
    "       'gameWinningGoals', 'otGoals', 'penaltyMinutes', 'plusMinus', 'points',\n",
    "       'pointsPerGame', 'positionCode', 'ppGoals', 'ppPoints', 'shGoals',\n",
    "       'shPoints', 'timeOnIcePerGame', 'blockedShots',\n",
    "       'blockedShotsPer60', 'emptyNetGoals', 'firstGoals', 'giveaways',\n",
    "       'giveawaysPer60', 'hits', 'hitsPer60', 'missedShotCrossbar',\n",
    "       'missedShotGoalpost', 'missedShotOverNet', 'missedShotWideOfNet',\n",
    "       'missedShots', 'takeaways', 'takeawaysPer60']] = 0\n",
    "\n",
    "today_away_df[['gamesPlayed', 'goals', 'evTimeOnIce', 'evTimeOnIcePerGame', 'otTimeOnIce', 'otTimeOnIcePerOtGame', 'goalsBackhand', 'goalsDeflected', 'goalsSlap', 'goalsSnap',\n",
    "       'goalsTipIn', 'ppTimeOnIce',\n",
    "       'ppTimeOnIcePerGame', 'shTimeOnIce', 'shTimeOnIcePerGame', 'shifts',\n",
    "       'shiftsPerGame', 'goalsWrapAround', 'goalsWrist','shootingPct', 'shots', 'shotsOnNetBackhand',\n",
    "       'shotsOnNetDeflected', 'shotsOnNetSlap', 'shotsOnNetSnap',\n",
    "       'shotsOnNetTipIn', 'shotsOnNetWrapAround', 'shotsOnNetWrist','assists', 'evGoals', 'evPoints',\n",
    "       'gameWinningGoals', 'otGoals', 'penaltyMinutes', 'plusMinus', 'points',\n",
    "       'pointsPerGame', 'positionCode', 'ppGoals', 'ppPoints', 'shGoals',\n",
    "       'shPoints', 'timeOnIcePerGame', 'blockedShots',\n",
    "       'blockedShotsPer60', 'emptyNetGoals', 'firstGoals', 'giveaways',\n",
    "       'giveawaysPer60', 'hits', 'hitsPer60', 'missedShotCrossbar',\n",
    "       'missedShotGoalpost', 'missedShotOverNet', 'missedShotWideOfNet',\n",
    "       'missedShots', 'takeaways', 'takeawaysPer60']] = 0"
   ]
  },
  {
   "cell_type": "code",
   "execution_count": 62,
   "id": "0637fe1b-68ab-40f3-806b-f9c0f5759810",
   "metadata": {},
   "outputs": [],
   "source": [
    "today_away_df['opponentTeamAbbrev'] = today_away_df['teamAbbrev'].map(games_dict_away)\n",
    "today_home_df['opponentTeamAbbrev'] = today_home_df['teamAbbrev'].map(games_dict_home)"
   ]
  },
  {
   "cell_type": "code",
   "execution_count": 63,
   "id": "73c5ccd3-1689-4093-ac41-4deceded46fb",
   "metadata": {},
   "outputs": [],
   "source": [
    "today_df = pd.concat([today_home_df, today_away_df])\n",
    "today_df.drop_duplicates(subset='playerId', inplace=True)"
   ]
  },
  {
   "cell_type": "code",
   "execution_count": 64,
   "id": "27fa6b86-d152-47fc-b94e-310320320359",
   "metadata": {},
   "outputs": [
    {
     "data": {
      "text/plain": [
       "STL    24\n",
       "VAN    24\n",
       "COL    24\n",
       "TOR    22\n",
       "PHI    22\n",
       "NSH    22\n",
       "BOS    22\n",
       "OTT    22\n",
       "CGY    22\n",
       "WPG    21\n",
       "CAR    21\n",
       "EDM    21\n",
       "DAL    20\n",
       "NYI    20\n",
       "VGK    19\n",
       "ARI    19\n",
       "Name: teamAbbrev, dtype: int64"
      ]
     },
     "execution_count": 64,
     "metadata": {},
     "output_type": "execute_result"
    }
   ],
   "source": [
    "today_df['teamAbbrev'].value_counts()"
   ]
  },
  {
   "cell_type": "code",
   "execution_count": 65,
   "id": "27303752-8295-4bf8-9607-95848fb350d5",
   "metadata": {},
   "outputs": [],
   "source": [
    "df_merged = pd.concat([df_merged, today_df])"
   ]
  },
  {
   "cell_type": "markdown",
   "id": "b4d9aeee-501f-486d-9922-0c62808cf5cb",
   "metadata": {},
   "source": [
    "### Add Calculated Columns"
   ]
  },
  {
   "cell_type": "code",
   "execution_count": 66,
   "id": "9390e1c7-d3cf-45a9-bbec-10822d8bb8e1",
   "metadata": {},
   "outputs": [],
   "source": [
    "df_merged['fanPoints'] = data_explor.fan_points(df_merged)\n",
    "df_merged['overPerform'] = data_explor.overperform(df_merged, 'fanPoints', 'playerId')\n",
    "df_merged['overPerformDummy'] = data_explor.over_perf_dummy(df_merged, 'overPerform')\n",
    "df_merged['underPerformDummy'] = data_explor.under_perf_dummy(df_merged, 'overPerform')\n",
    "df_merged['samePerfDummy'] = data_explor.same_perf_dummy(df_merged, 'overPerform')\n",
    "df_merged['homeRoadPerf'] = data_explor.home_away_perf(df_merged, 'overPerform', ['playerId', 'homeRoad'])"
   ]
  },
  {
   "cell_type": "code",
   "execution_count": 67,
   "id": "dab7216e-a3c4-4438-bb2c-d85802905dc1",
   "metadata": {},
   "outputs": [],
   "source": [
    "better_home_skater = list(np.where((df_merged['homeRoad'] == 'H') & (df_merged['homeRoadPerf'] > 0), df_merged['playerId'], None))\n",
    "better_away_skater = list(np.where((df_merged['homeRoad'] == 'R') & (df_merged['homeRoadPerf'] > 0), df_merged['playerId'], None))\n",
    "better_home_skater = [*set(better_home_skater)]\n",
    "better_away_skater = [*set(better_away_skater)]"
   ]
  },
  {
   "cell_type": "code",
   "execution_count": 68,
   "id": "c0f2320a-7d22-4366-a855-ef9bee4143b9",
   "metadata": {},
   "outputs": [],
   "source": [
    "df_skaters['OpHomeDummy'] = np.where(df_skaters['playerId'].isin(better_home_skater), 1, 0)\n",
    "df_skaters['OpRoadDummy'] = np.where(df_skaters['playerId'].isin(better_away_skater), 1, 0)\n",
    "df_skaters['OpNowhereDummy'] = np.where((df_skaters['OpHomeDummy'] == 0) & (df_skaters['OpRoadDummy'] == 0), 1, 0)"
   ]
  },
  {
   "cell_type": "code",
   "execution_count": 69,
   "id": "8669b982-438f-494b-aa90-59945f51f18a",
   "metadata": {},
   "outputs": [],
   "source": [
    "feature_list = ['assists', 'goals', 'plusMinus', 'points', 'ppPoints', 'fanPoints', 'shootingPct', 'shots', 'timeOnIcePerGame', 'ppTimeOnIce', 'timeOnIcePerShift']"
   ]
  },
  {
   "cell_type": "code",
   "execution_count": 70,
   "id": "d094346f-17f0-48ae-aa75-089c1c4a4c3d",
   "metadata": {},
   "outputs": [],
   "source": [
    "for feature in feature_list:\n",
    "    df_merged[f'{feature}Ma7'] = data_proc.moving_average(df_merged, feature, 'playerId', 7)\n",
    "    df_merged[f'{feature}Ma7'] = df_merged[f'{feature}Ma7'].shift(1)\n",
    "    \n",
    "for feature in feature_list:\n",
    "    df_merged[f'{feature}Ma3'] = data_proc.moving_average(df_merged, feature, 'playerId', 3)\n",
    "    df_merged[f'{feature}Ma3'] = df_merged[f'{feature}Ma3'].shift(1)\n",
    "    \n",
    "for feature in feature_list:\n",
    "    df_merged[f'{feature}LastGame'] = df_merged[feature].shift(1)\n",
    "    \n",
    "for feature in feature_list:\n",
    "    df_merged[f'{feature}Ma10'] = data_proc.moving_average(df_merged, feature, 'playerId', 10)\n",
    "    df_merged[f'{feature}Ma10'] = df_merged[f'{feature}Ma10'].shift(1)\n",
    "\n",
    "for feature in feature_list:\n",
    "    df_merged[f'{feature}Ma14'] = data_proc.moving_average(df_merged, feature, 'playerId', 14)\n",
    "    df_merged[f'{feature}Ma14'] = df_merged[f'{feature}Ma14'].shift(1)"
   ]
  },
  {
   "cell_type": "code",
   "execution_count": 71,
   "id": "cf69807e-52ae-4aaf-9cbf-13b16da38014",
   "metadata": {},
   "outputs": [
    {
     "name": "stderr",
     "output_type": "stream",
     "text": [
      "/var/folders/0b/h0zc244107jg60tttkl4r0kw0000gn/T/ipykernel_47597/191244928.py:6: PerformanceWarning: DataFrame is highly fragmented.  This is usually the result of calling `frame.insert` many times, which has poor performance.  Consider joining all columns at once using pd.concat(axis=1) instead. To get a de-fragmented frame, use `newframe = frame.copy()`\n",
      "  df_merged[f\"%{goal}\"] = data_proc.percShotType(df_merged, 'playerId', goal, 'goals')\n",
      "/var/folders/0b/h0zc244107jg60tttkl4r0kw0000gn/T/ipykernel_47597/191244928.py:6: PerformanceWarning: DataFrame is highly fragmented.  This is usually the result of calling `frame.insert` many times, which has poor performance.  Consider joining all columns at once using pd.concat(axis=1) instead. To get a de-fragmented frame, use `newframe = frame.copy()`\n",
      "  df_merged[f\"%{goal}\"] = data_proc.percShotType(df_merged, 'playerId', goal, 'goals')\n",
      "/var/folders/0b/h0zc244107jg60tttkl4r0kw0000gn/T/ipykernel_47597/191244928.py:9: PerformanceWarning: DataFrame is highly fragmented.  This is usually the result of calling `frame.insert` many times, which has poor performance.  Consider joining all columns at once using pd.concat(axis=1) instead. To get a de-fragmented frame, use `newframe = frame.copy()`\n",
      "  df_merged[f\"%{shot}\"] = data_proc.percShotType(df_merged, 'playerId', shot, 'shots')\n",
      "/var/folders/0b/h0zc244107jg60tttkl4r0kw0000gn/T/ipykernel_47597/191244928.py:9: PerformanceWarning: DataFrame is highly fragmented.  This is usually the result of calling `frame.insert` many times, which has poor performance.  Consider joining all columns at once using pd.concat(axis=1) instead. To get a de-fragmented frame, use `newframe = frame.copy()`\n",
      "  df_merged[f\"%{shot}\"] = data_proc.percShotType(df_merged, 'playerId', shot, 'shots')\n",
      "/var/folders/0b/h0zc244107jg60tttkl4r0kw0000gn/T/ipykernel_47597/191244928.py:9: PerformanceWarning: DataFrame is highly fragmented.  This is usually the result of calling `frame.insert` many times, which has poor performance.  Consider joining all columns at once using pd.concat(axis=1) instead. To get a de-fragmented frame, use `newframe = frame.copy()`\n",
      "  df_merged[f\"%{shot}\"] = data_proc.percShotType(df_merged, 'playerId', shot, 'shots')\n",
      "/var/folders/0b/h0zc244107jg60tttkl4r0kw0000gn/T/ipykernel_47597/191244928.py:9: PerformanceWarning: DataFrame is highly fragmented.  This is usually the result of calling `frame.insert` many times, which has poor performance.  Consider joining all columns at once using pd.concat(axis=1) instead. To get a de-fragmented frame, use `newframe = frame.copy()`\n",
      "  df_merged[f\"%{shot}\"] = data_proc.percShotType(df_merged, 'playerId', shot, 'shots')\n",
      "/var/folders/0b/h0zc244107jg60tttkl4r0kw0000gn/T/ipykernel_47597/191244928.py:9: PerformanceWarning: DataFrame is highly fragmented.  This is usually the result of calling `frame.insert` many times, which has poor performance.  Consider joining all columns at once using pd.concat(axis=1) instead. To get a de-fragmented frame, use `newframe = frame.copy()`\n",
      "  df_merged[f\"%{shot}\"] = data_proc.percShotType(df_merged, 'playerId', shot, 'shots')\n",
      "/var/folders/0b/h0zc244107jg60tttkl4r0kw0000gn/T/ipykernel_47597/191244928.py:9: PerformanceWarning: DataFrame is highly fragmented.  This is usually the result of calling `frame.insert` many times, which has poor performance.  Consider joining all columns at once using pd.concat(axis=1) instead. To get a de-fragmented frame, use `newframe = frame.copy()`\n",
      "  df_merged[f\"%{shot}\"] = data_proc.percShotType(df_merged, 'playerId', shot, 'shots')\n",
      "/var/folders/0b/h0zc244107jg60tttkl4r0kw0000gn/T/ipykernel_47597/191244928.py:9: PerformanceWarning: DataFrame is highly fragmented.  This is usually the result of calling `frame.insert` many times, which has poor performance.  Consider joining all columns at once using pd.concat(axis=1) instead. To get a de-fragmented frame, use `newframe = frame.copy()`\n",
      "  df_merged[f\"%{shot}\"] = data_proc.percShotType(df_merged, 'playerId', shot, 'shots')\n"
     ]
    }
   ],
   "source": [
    "goals = ['goalsBackhand', 'goalsDeflected', 'goalsSlap', 'goalsSnap', 'goalsTipIn', 'goalsWrapAround', 'goalsWrist']\n",
    "\n",
    "shots = ['shotsOnNetBackhand', 'shotsOnNetDeflected', 'shotsOnNetSlap', 'shotsOnNetSnap', 'shotsOnNetTipIn', 'shotsOnNetWrapAround', 'shotsOnNetWrist']\n",
    "\n",
    "for goal in goals:\n",
    "    df_merged[f\"%{goal}\"] = data_proc.percShotType(df_merged, 'playerId', goal, 'goals')\n",
    "\n",
    "for shot in shots:\n",
    "    df_merged[f\"%{shot}\"] = data_proc.percShotType(df_merged, 'playerId', shot, 'shots')"
   ]
  },
  {
   "cell_type": "markdown",
   "id": "1c6dd53e-6854-4e0e-89da-a2d1d9c7f5a9",
   "metadata": {},
   "source": [
    "### Cleaning"
   ]
  },
  {
   "cell_type": "code",
   "execution_count": 72,
   "id": "7bd00a67-d905-48b7-8f25-982f38814d79",
   "metadata": {},
   "outputs": [],
   "source": [
    "drop_cols = 'shootingPctMa7 shootingPctMa3 shootingPctLastGame shootingPctMa10 shootingPctMa14'.split()\n",
    "drop_cols.append('Unnamed: 0')\n",
    "drop_cols\n",
    "\n",
    "df_merged = data_prep.remove_columns(df_merged, drop_cols)"
   ]
  },
  {
   "cell_type": "code",
   "execution_count": 73,
   "id": "6550e384-dd8a-49fd-ba75-bbb689269611",
   "metadata": {},
   "outputs": [],
   "source": [
    "impute_by_player = 'hitsPer60 blockedShotsPer60 giveawaysPer60 takeawaysPer60 assistsMa3 assistsMa7 assistsMa10 assistsMa14 assistsLastGame goalsMa3 goalsMa7 goalsMa10 goalsMa14 goalsLastGame shotsMa3 shotsMa7 shotsMa10 shotsMa14 shotsLastGame plusMinusMa3 plusMinusMa7 plusMinusMa10 plusMinusMa14 plusMinusLastGame pointsMa3 pointsMa7 pointsMa10 pointsMa14 pointsLastGame fanPointsMa3 fanPointsMa7 ppTimeOnIceMa3 ppTimeOnIceMa7 ppTimeOnIceMa10 ppTimeOnIceMa14 ppTimeOnIceLastGame fanPointsMa10 fanPointsMa14 timeOnIcePerShiftMa3 timeOnIcePerShiftMa7 timeOnIcePerShiftMa10 timeOnIcePerShiftMa14 timeOnIcePerShiftLastGame fanPointsLastGame timeOnIcePerGameMa3 timeOnIcePerGameMa7 timeOnIcePerGameMa10 timeOnIcePerGameMa14 timeOnIcePerGameLastGame ppPointsLastGame ppPointsMa3 ppPointsMa7 ppPointsMa10 ppPointsMa14'.split()\n",
    "impute_by_perf = 'missedShotCrossbar missedShotGoalpost missedShotOverNet missedShotWideOfNet goalsBackhand goalsDeflected goalsSlap goalsSnap goalsTipIn goalsWrapAround goalsWrist shootingPct shotsOnNetBackhand shotsOnNetDeflected shotsOnNetSlap shotsOnNetSnap shotsOnNetTipIn shotsOnNetWrapAround shotsOnNetWrist hitsPer60 blockedShotsPer60 giveawaysPer60 takeawaysPer60 assistsMa3 assistsMa7 assistsMa10 assistsMa14 assistsLastGame goalsMa3 goalsMa7 goalsMa10 goalsMa14 goalsLastGame shotsMa3 shotsMa7 shotsMa10 shotsMa14 shotsLastGame plusMinusMa3 plusMinusMa7 plusMinusMa10 plusMinusMa14 plusMinusLastGame ppPointsLastGame ppPointsMa3 ppPointsMa7 ppPointsMa10 ppPointsMa14 timeOnIcePerGameMa3 timeOnIcePerGameMa7 timeOnIcePerGameMa10 timeOnIcePerGameMa14 timeOnIcePerGameLastGame pointsMa3 pointsMa7 pointsMa10 pointsMa14 pointsLastGame ppTimeOnIceMa3 ppTimeOnIceMa7 ppTimeOnIceMa10 ppTimeOnIceMa14 ppTimeOnIceLastGame fanPointsMa3 fanPointsMa7 fanPointsMa10 fanPointsMa14 fanPointsLastGame timeOnIcePerShiftMa3 timeOnIcePerShiftMa7 timeOnIcePerShiftMa10 timeOnIcePerShiftMa14 timeOnIcePerShiftLastGame'.split()"
   ]
  },
  {
   "cell_type": "code",
   "execution_count": 74,
   "id": "bf4ae0d5-84f4-414b-abdd-f2996cd5e00e",
   "metadata": {},
   "outputs": [],
   "source": [
    "for col in impute_by_player:\n",
    "    data_prep.handle_missing(df_merged, 'playerId', col)"
   ]
  },
  {
   "cell_type": "code",
   "execution_count": 75,
   "id": "9348aed4-3187-4db7-8762-7a3ef949e2c2",
   "metadata": {},
   "outputs": [],
   "source": [
    "for col in impute_by_perf:\n",
    "    try:\n",
    "        data_prep.handle_missing(df_merged, 'overPerformDummy', col)\n",
    "    except:\n",
    "        continue"
   ]
  },
  {
   "cell_type": "markdown",
   "id": "e8b1fd8c-b040-4ffd-94c4-41ae740aed58",
   "metadata": {},
   "source": [
    "### Final Scrub"
   ]
  },
  {
   "cell_type": "code",
   "execution_count": 76,
   "id": "efe21f2c-89e9-4aef-a64c-c8b8009cb2f8",
   "metadata": {},
   "outputs": [],
   "source": [
    "drop_cols = 'shootingPctMa7 shootingPctMa3 shootingPctLastGame shootingPctMa10 shootingPctMa14'.split()\n",
    "\n",
    "df_merged = data_prep.remove_columns(df_merged, drop_cols)"
   ]
  },
  {
   "cell_type": "code",
   "execution_count": 77,
   "id": "a0bb336c-bb6d-4310-a374-2e249f1393f8",
   "metadata": {},
   "outputs": [
    {
     "name": "stderr",
     "output_type": "stream",
     "text": [
      "/var/folders/0b/h0zc244107jg60tttkl4r0kw0000gn/T/ipykernel_47597/468772600.py:1: PerformanceWarning: DataFrame is highly fragmented.  This is usually the result of calling `frame.insert` many times, which has poor performance.  Consider joining all columns at once using pd.concat(axis=1) instead. To get a de-fragmented frame, use `newframe = frame.copy()`\n",
      "  df_merged['homeRoad1'] = df_merged['homeRoad'].copy()\n",
      "/var/folders/0b/h0zc244107jg60tttkl4r0kw0000gn/T/ipykernel_47597/468772600.py:2: PerformanceWarning: DataFrame is highly fragmented.  This is usually the result of calling `frame.insert` many times, which has poor performance.  Consider joining all columns at once using pd.concat(axis=1) instead. To get a de-fragmented frame, use `newframe = frame.copy()`\n",
      "  df_merged['positionCode1'] = df_merged['positionCode'].copy()\n"
     ]
    }
   ],
   "source": [
    "df_merged['homeRoad1'] = df_merged['homeRoad'].copy()\n",
    "df_merged['positionCode1'] = df_merged['positionCode'].copy()"
   ]
  },
  {
   "cell_type": "code",
   "execution_count": 78,
   "id": "0d950ea7-08bf-419d-9bb0-416815ea37a2",
   "metadata": {},
   "outputs": [],
   "source": [
    "df_merged = pd.get_dummies(df_merged, columns=['homeRoad', 'shootsCatches', 'positionCode', 'opponentTeamAbbrev'])"
   ]
  },
  {
   "cell_type": "markdown",
   "id": "62468f41-5194-4e71-bae3-2e45b1473708",
   "metadata": {},
   "source": [
    "## Pull Out Prediction DataFrame\n",
    "\n",
    "Pull out the rows you want to predict values for and add them to a new dataframe. Drop their target columns."
   ]
  },
  {
   "cell_type": "code",
   "execution_count": 79,
   "id": "948a4061-ab1f-46eb-95ea-8875022e99f8",
   "metadata": {},
   "outputs": [],
   "source": [
    "predictable_df = df_merged[df_merged['gameDate'] == today]"
   ]
  },
  {
   "cell_type": "markdown",
   "id": "d8cfc405-ceda-406b-96d0-45f6ac78a187",
   "metadata": {},
   "source": [
    "#### Transform Predictable DataFrame"
   ]
  },
  {
   "cell_type": "code",
   "execution_count": 80,
   "id": "70690399-c9d1-4c8c-85d9-a97d9b0aa7e6",
   "metadata": {},
   "outputs": [],
   "source": [
    "home_df = pd.concat([predictable_df[((predictable_df['homeRoadPerf'] > 0) & (predictable_df['homeRoad1'] == 'H'))], predictable_df[(predictable_df['homeRoadPerf'] <= 0) & (predictable_df['homeRoad1'] == 'R')]])\n",
    "away_df = pd.concat([predictable_df[((predictable_df['homeRoadPerf'] > 0) & (predictable_df['homeRoad1'] == 'R'))], predictable_df[(predictable_df['homeRoadPerf'] <= 0) & (predictable_df['homeRoad1'] == 'H')]])"
   ]
  },
  {
   "cell_type": "code",
   "execution_count": 81,
   "id": "383b6ff9-4baa-41da-9244-31430a781728",
   "metadata": {},
   "outputs": [],
   "source": [
    "home_df.drop(['fanPoints', 'overPerform', 'overPerformDummy'], axis=1, inplace=True)\n",
    "away_df.drop(['fanPoints', 'overPerform', 'overPerformDummy'], axis=1, inplace=True)"
   ]
  },
  {
   "cell_type": "code",
   "execution_count": 82,
   "id": "b11632a5-8e72-4dec-8dc3-061d3616f5c3",
   "metadata": {},
   "outputs": [],
   "source": [
    "home_model_df = pd.concat([df_merged[((df_merged['homeRoadPerf'] > 0) & (df_merged['homeRoad1'] == 'H'))], df_merged[(df_merged['homeRoadPerf'] <= 0) & (df_merged['homeRoad1'] == 'R')]])\n",
    "away_model_df = pd.concat([df_merged[((df_merged['homeRoadPerf'] > 0) & (df_merged['homeRoad1'] == 'R'))], df_merged[(df_merged['homeRoadPerf'] <= 0) & (df_merged['homeRoad1'] == 'H')]])"
   ]
  },
  {
   "cell_type": "markdown",
   "id": "11214f36-1632-40d5-a500-4f7046bb434d",
   "metadata": {},
   "source": [
    "### Train Models\n",
    "\n",
    "Can skip this if already trained."
   ]
  },
  {
   "cell_type": "markdown",
   "id": "d2f9d8b0-fb3c-403d-a1d3-9a05bfbab883",
   "metadata": {
    "tags": []
   },
   "source": [
    "#### Train Home Model"
   ]
  },
  {
   "cell_type": "code",
   "execution_count": 83,
   "id": "0b3cdff6-43da-48a7-990e-366197b0ebef",
   "metadata": {},
   "outputs": [],
   "source": [
    "features = '%shotsOnNetBackhand %shotsOnNetDeflected %shotsOnNetSlap %shotsOnNetSnap %shotsOnNetTipIn %shotsOnNetWrapAround %shotsOnNetWrist homeRoad_H positionCode_C positionCode_D positionCode_R assistsMa7 goalsMa7 plusMinusMa7 pointsMa7 fanPointsMa7 shotsMa7 assistsMa3 goalsMa3 plusMinusMa3 pointsMa3 fanPointsMa3 shotsMa3 assistsLastGame goalsLastGame plusMinusLastGame pointsLastGame fanPointsLastGame shotsLastGame assistsMa10 goalsMa10 plusMinusMa10 pointsMa10 fanPointsMa10 shotsMa10 assistsMa14 goalsMa14 plusMinusMa14 pointsMa14 fanPointsMa14 shotsMa14 timeOnIcePerShiftMa3 timeOnIcePerShiftMa7 timeOnIcePerShiftMa10 timeOnIcePerShiftMa14 timeOnIcePerShiftLastGame ppTimeOnIceMa3 ppTimeOnIceMa7 ppTimeOnIceMa10 ppTimeOnIceMa14 ppTimeOnIceLastGame'.split()\n",
    "target = 'fanPoints'"
   ]
  },
  {
   "cell_type": "code",
   "execution_count": 84,
   "id": "dae25e44-07f7-4fce-a9ce-da7ad846c46f",
   "metadata": {},
   "outputs": [],
   "source": [
    "X = home_model_df[features].values\n",
    "y = home_model_df[target].values"
   ]
  },
  {
   "cell_type": "code",
   "execution_count": 85,
   "id": "2f7744da-f42a-4d44-b5d2-197f9bf72069",
   "metadata": {},
   "outputs": [],
   "source": [
    "scaler = MinMaxScaler()\n",
    "model = scaler.fit(X)\n",
    "scaled_X = model.transform(X)"
   ]
  },
  {
   "cell_type": "code",
   "execution_count": 86,
   "id": "1e676962-6dca-4f84-b615-29a57ba5c691",
   "metadata": {},
   "outputs": [],
   "source": [
    "X_train, X_test, y_train, y_test = train_test_split(scaled_X, y, test_size=0.3, random_state=4)"
   ]
  },
  {
   "cell_type": "code",
   "execution_count": 87,
   "id": "b6b2400d-308e-4736-be3a-557d2f151c9e",
   "metadata": {},
   "outputs": [],
   "source": [
    "model = ensemble.GradientBoostingRegressor(n_estimators=1500, learning_rate=0.05, max_depth=6, min_samples_split=5, min_samples_leaf=8, max_features='auto', loss='huber')"
   ]
  },
  {
   "cell_type": "code",
   "execution_count": 88,
   "id": "fea49084-09dc-4c22-bf87-5ba731ec918e",
   "metadata": {},
   "outputs": [
    {
     "data": {
      "text/plain": [
       "GradientBoostingRegressor(learning_rate=0.05, loss='huber', max_depth=6,\n",
       "                          max_features='auto', min_samples_leaf=8,\n",
       "                          min_samples_split=5, n_estimators=1500)"
      ]
     },
     "execution_count": 88,
     "metadata": {},
     "output_type": "execute_result"
    }
   ],
   "source": [
    "model.fit(X_train, y_train)"
   ]
  },
  {
   "cell_type": "code",
   "execution_count": 89,
   "id": "c981eb8e-b916-4019-ac2d-ef15ebeedbe6",
   "metadata": {},
   "outputs": [
    {
     "data": {
      "text/plain": [
       "['nhl_home_fan_scaled.pkl']"
      ]
     },
     "execution_count": 89,
     "metadata": {},
     "output_type": "execute_result"
    }
   ],
   "source": [
    "joblib.dump(model, 'nhl_home_fan_scaled.pkl')"
   ]
  },
  {
   "cell_type": "code",
   "execution_count": 90,
   "id": "6e744a94-4f97-4504-a823-d88179c4002f",
   "metadata": {},
   "outputs": [
    {
     "name": "stdout",
     "output_type": "stream",
     "text": [
      "Training Set MSE: 5.40\n"
     ]
    }
   ],
   "source": [
    "mse=mean_absolute_error(y_train, model.predict(X_train))\n",
    "print(\"Training Set MSE: %.2f\" %mse)"
   ]
  },
  {
   "cell_type": "code",
   "execution_count": 91,
   "id": "f1250cdc-48a0-4469-87f3-c7bede4cb012",
   "metadata": {},
   "outputs": [
    {
     "name": "stdout",
     "output_type": "stream",
     "text": [
      "Training Set MSE: 5.81\n"
     ]
    }
   ],
   "source": [
    "mse=mean_absolute_error(y_test, model.predict(X_test))\n",
    "print(\"Training Set MSE: %.2f\" %mse)"
   ]
  },
  {
   "cell_type": "markdown",
   "id": "a256b924-9e5b-4e3e-88d0-6bb2e6b01533",
   "metadata": {},
   "source": [
    "#### Train Away Model"
   ]
  },
  {
   "cell_type": "code",
   "execution_count": 92,
   "id": "fa9cc911-722f-4571-80b6-0ecb5f00c8a9",
   "metadata": {},
   "outputs": [],
   "source": [
    "X = away_model_df[features].values\n",
    "y = away_model_df[target].values"
   ]
  },
  {
   "cell_type": "code",
   "execution_count": 93,
   "id": "6765513a-0fc4-48be-83f9-821b911ee35d",
   "metadata": {},
   "outputs": [],
   "source": [
    "scaler = MinMaxScaler()\n",
    "model = scaler.fit(X)\n",
    "scaled_X = model.transform(X)"
   ]
  },
  {
   "cell_type": "code",
   "execution_count": 94,
   "id": "75ed3d61-4668-4149-97a9-1dafed5a3028",
   "metadata": {},
   "outputs": [],
   "source": [
    "X_train, X_test, y_train, y_test = train_test_split(scaled_X, y, test_size=0.3, random_state=4)"
   ]
  },
  {
   "cell_type": "code",
   "execution_count": 95,
   "id": "96ff1698-1175-4523-8861-417e6b8d9eed",
   "metadata": {},
   "outputs": [],
   "source": [
    "model = ensemble.GradientBoostingRegressor(n_estimators=1500, learning_rate=0.05, max_depth=6, min_samples_split=5, min_samples_leaf=8, max_features='auto', loss='huber')"
   ]
  },
  {
   "cell_type": "code",
   "execution_count": 96,
   "id": "4b6e136c-caaa-4e76-8ad0-22cf9e2b7db3",
   "metadata": {},
   "outputs": [
    {
     "data": {
      "text/plain": [
       "GradientBoostingRegressor(learning_rate=0.05, loss='huber', max_depth=6,\n",
       "                          max_features='auto', min_samples_leaf=8,\n",
       "                          min_samples_split=5, n_estimators=1500)"
      ]
     },
     "execution_count": 96,
     "metadata": {},
     "output_type": "execute_result"
    }
   ],
   "source": [
    "model.fit(X_train, y_train)"
   ]
  },
  {
   "cell_type": "code",
   "execution_count": 97,
   "id": "72c0f9f8-b602-48dc-8789-45a14219f47d",
   "metadata": {},
   "outputs": [
    {
     "data": {
      "text/plain": [
       "['nhl_away_fan_scaled.pkl']"
      ]
     },
     "execution_count": 97,
     "metadata": {},
     "output_type": "execute_result"
    }
   ],
   "source": [
    "joblib.dump(model, 'nhl_away_fan_scaled.pkl')"
   ]
  },
  {
   "cell_type": "code",
   "execution_count": 98,
   "id": "d21c3b4b-252e-4256-943b-8ca9df6511b1",
   "metadata": {},
   "outputs": [
    {
     "name": "stdout",
     "output_type": "stream",
     "text": [
      "Training Set MSE: 4.05\n"
     ]
    }
   ],
   "source": [
    "mse=mean_absolute_error(y_train, model.predict(X_train))\n",
    "print(\"Training Set MSE: %.2f\" %mse)"
   ]
  },
  {
   "cell_type": "code",
   "execution_count": 99,
   "id": "664929ec-9e56-48a1-b48f-25bcbdf62a0c",
   "metadata": {},
   "outputs": [
    {
     "name": "stdout",
     "output_type": "stream",
     "text": [
      "Training Set MSE: 4.85\n"
     ]
    }
   ],
   "source": [
    "mse=mean_absolute_error(y_test, model.predict(X_test))\n",
    "print(\"Training Set MSE: %.2f\" %mse)"
   ]
  },
  {
   "cell_type": "markdown",
   "id": "6516f817-cf0c-4dbe-9214-0d5d095d9e69",
   "metadata": {},
   "source": [
    "### Applying Model"
   ]
  },
  {
   "cell_type": "markdown",
   "id": "f6dc56a4-5e94-4bec-a025-17c8eeb60ef8",
   "metadata": {},
   "source": [
    "#### Home Split"
   ]
  },
  {
   "cell_type": "code",
   "execution_count": 133,
   "id": "040d6463-0d6f-49ca-a26e-a58f8aeeb90e",
   "metadata": {},
   "outputs": [
    {
     "name": "stderr",
     "output_type": "stream",
     "text": [
      "/Users/nickdimmitt/opt/anaconda3/lib/python3.9/site-packages/sklearn/base.py:443: UserWarning: X has feature names, but MinMaxScaler was fitted without feature names\n",
      "  warnings.warn(\n"
     ]
    }
   ],
   "source": [
    "scaler = MinMaxScaler()\n",
    "model = scaler.fit(home_df[features].values)\n",
    "scaled_X = model.transform(home_df[features])"
   ]
  },
  {
   "cell_type": "code",
   "execution_count": 151,
   "id": "e98834fb-4f74-4ff5-a60b-677423742fb9",
   "metadata": {},
   "outputs": [],
   "source": [
    "X = home_df[features].values"
   ]
  },
  {
   "cell_type": "code",
   "execution_count": 152,
   "id": "b6838338-2b69-492f-a50e-25e80f3ea306",
   "metadata": {},
   "outputs": [],
   "source": [
    "model = joblib.load('nhl_home_fan.pkl')"
   ]
  },
  {
   "cell_type": "code",
   "execution_count": 153,
   "id": "7339edbd-7fc2-47de-8cd7-65807796d4d0",
   "metadata": {},
   "outputs": [],
   "source": [
    "predictions = model.predict(X)"
   ]
  },
  {
   "cell_type": "code",
   "execution_count": 154,
   "id": "53c71183-cfcb-487a-87e5-e75938a24fcd",
   "metadata": {},
   "outputs": [],
   "source": [
    "home_df['prediction'] = predictions"
   ]
  },
  {
   "cell_type": "code",
   "execution_count": 155,
   "id": "52f7433c-fd70-4020-8527-d0c16e1186c6",
   "metadata": {},
   "outputs": [
    {
     "data": {
      "text/plain": [
       "884551     9.219015\n",
       "884552     9.948372\n",
       "884553    12.150338\n",
       "884554     3.591461\n",
       "884557     9.135465\n",
       "            ...    \n",
       "887306     3.348030\n",
       "887418     4.121558\n",
       "887605     3.021518\n",
       "887643     5.315027\n",
       "887709     3.217179\n",
       "Name: prediction, Length: 239, dtype: float64"
      ]
     },
     "execution_count": 155,
     "metadata": {},
     "output_type": "execute_result"
    }
   ],
   "source": [
    "home_df['prediction']"
   ]
  },
  {
   "cell_type": "markdown",
   "id": "b94f1628-dd44-41ae-b02f-56c984573a4d",
   "metadata": {},
   "source": [
    "#### Away Split"
   ]
  },
  {
   "cell_type": "code",
   "execution_count": 138,
   "id": "e5939b52-1b33-4b77-89ff-44ecf141b995",
   "metadata": {},
   "outputs": [
    {
     "name": "stderr",
     "output_type": "stream",
     "text": [
      "/Users/nickdimmitt/opt/anaconda3/lib/python3.9/site-packages/sklearn/base.py:443: UserWarning: X has feature names, but MinMaxScaler was fitted without feature names\n",
      "  warnings.warn(\n"
     ]
    }
   ],
   "source": [
    "scaler = MinMaxScaler()\n",
    "model = scaler.fit(away_df[features].values)\n",
    "scaled_X = model.transform(away_df[features])"
   ]
  },
  {
   "cell_type": "code",
   "execution_count": 156,
   "id": "c676db3a-f8a9-453f-bc35-3e0f853a9043",
   "metadata": {},
   "outputs": [],
   "source": [
    "X = away_df[features].values"
   ]
  },
  {
   "cell_type": "code",
   "execution_count": 157,
   "id": "5d07733b-8e4d-45c7-baa4-ed345b5434af",
   "metadata": {},
   "outputs": [],
   "source": [
    "model = joblib.load('nhl_away_fan.pkl')"
   ]
  },
  {
   "cell_type": "code",
   "execution_count": 158,
   "id": "fc2ad74c-afc6-4eea-8904-91dcf36c061f",
   "metadata": {},
   "outputs": [],
   "source": [
    "predictions = model.predict(X)"
   ]
  },
  {
   "cell_type": "code",
   "execution_count": 159,
   "id": "76fc1fc8-2a9b-44f1-add2-ad364e2dfef5",
   "metadata": {},
   "outputs": [],
   "source": [
    "away_df['prediction'] = predictions"
   ]
  },
  {
   "cell_type": "code",
   "execution_count": 160,
   "id": "9fad905e-b1cf-4583-988c-0563ae0aadd5",
   "metadata": {},
   "outputs": [
    {
     "data": {
      "text/plain": [
       "884637    5.056829\n",
       "884639    3.711435\n",
       "884644    3.924253\n",
       "884646    5.602734\n",
       "884652    4.289475\n",
       "            ...   \n",
       "886868    2.622660\n",
       "887188    4.208523\n",
       "887489    4.045339\n",
       "887576    6.366531\n",
       "887811    2.715968\n",
       "Name: prediction, Length: 106, dtype: float64"
      ]
     },
     "execution_count": 160,
     "metadata": {},
     "output_type": "execute_result"
    }
   ],
   "source": [
    "away_df['prediction']"
   ]
  },
  {
   "cell_type": "markdown",
   "id": "2b27413a-f9e1-4d6f-887c-c1b9d4886e27",
   "metadata": {},
   "source": [
    "## Combine into Final Predictions"
   ]
  },
  {
   "cell_type": "code",
   "execution_count": 161,
   "id": "9c742041-f784-42dc-8895-91e297280db1",
   "metadata": {},
   "outputs": [],
   "source": [
    "all_skaters_df = pd.concat([home_df, away_df])"
   ]
  },
  {
   "cell_type": "code",
   "execution_count": 163,
   "id": "7509f16e-1481-416b-aa69-d274a4df52bc",
   "metadata": {},
   "outputs": [],
   "source": [
    "final_pred_df = all_skaters_df[['skaterFullName', 'teamAbbrev', 'positionCode1', 'prediction']].sort_values(by='prediction', ascending=False)"
   ]
  },
  {
   "cell_type": "code",
   "execution_count": 165,
   "id": "80dfe701-a9f3-4357-920e-e4f51ae07976",
   "metadata": {},
   "outputs": [],
   "source": [
    "final_pred_df.to_csv(f'predictions_{today}_scaled.csv')"
   ]
  },
  {
   "cell_type": "code",
   "execution_count": null,
   "id": "17e8ee91-451e-4e04-add8-7738a9bc849b",
   "metadata": {},
   "outputs": [],
   "source": []
  }
 ],
 "metadata": {
  "kernelspec": {
   "display_name": "Python 3 (ipykernel)",
   "language": "python",
   "name": "python3"
  },
  "language_info": {
   "codemirror_mode": {
    "name": "ipython",
    "version": 3
   },
   "file_extension": ".py",
   "mimetype": "text/x-python",
   "name": "python",
   "nbconvert_exporter": "python",
   "pygments_lexer": "ipython3",
   "version": "3.9.13"
  }
 },
 "nbformat": 4,
 "nbformat_minor": 5
}
