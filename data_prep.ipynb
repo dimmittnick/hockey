{
 "cells": [
  {
   "cell_type": "markdown",
   "id": "fdd79f59-6a94-410a-97c7-b1eb69ff87ea",
   "metadata": {},
   "source": [
    "## Data Preperation for Modeling\n",
    "\n",
    "Joining the dataframes, cleaning data, creating columns, removing redundant and transforming for modeling."
   ]
  },
  {
   "cell_type": "code",
   "execution_count": 48,
   "id": "655ff6b4-e501-4d16-ab48-94b2c73da62f",
   "metadata": {},
   "outputs": [],
   "source": [
    "import sys\n",
    "import importlib\n",
    "import os\n",
    "import pandas as pd\n",
    "import numpy as np\n",
    "from datetime import *\n",
    "import data_prep, data_grab"
   ]
  },
  {
   "cell_type": "code",
   "execution_count": 45,
   "id": "134109a7-1350-4222-a407-b9240a41add8",
   "metadata": {},
   "outputs": [
    {
     "data": {
      "text/plain": [
       "<module 'data_prep' from '/Users/nickdimmitt/dfs/hockey/data_prep.py'>"
      ]
     },
     "execution_count": 45,
     "metadata": {},
     "output_type": "execute_result"
    }
   ],
   "source": [
    "importlib.reload(data_prep)"
   ]
  },
  {
   "cell_type": "markdown",
   "id": "6699745a-f7eb-4e79-a384-61c221f22879",
   "metadata": {},
   "source": [
    "### Read in Data"
   ]
  },
  {
   "cell_type": "code",
   "execution_count": 5,
   "id": "e68d554c-cea4-4624-b6d1-1cfb6fb47362",
   "metadata": {},
   "outputs": [],
   "source": [
    "skaters_path = '~/dfs/hockey/data/df_skaters.csv'\n",
    "skaters_misc_path = '~/dfs/hockey/data/df_skaters_misc.csv'\n",
    "skaters_shot_path = '~/dfs/hockey/data/df_skaters_shot.csv'"
   ]
  },
  {
   "cell_type": "code",
   "execution_count": 6,
   "id": "d8806b58-55eb-4eea-bb38-29311b9e7de9",
   "metadata": {},
   "outputs": [],
   "source": [
    "df_skaters = data_prep.read_data(skaters_path)\n",
    "df_skaters_misc = data_prep.read_data(skaters_misc_path)\n",
    "df_skaters_shots = data_prep.read_data(skaters_shot_path)"
   ]
  },
  {
   "cell_type": "markdown",
   "id": "585dbff8-4a69-4ff9-a41e-a174dc81e27b",
   "metadata": {},
   "source": [
    "## Update Data\n",
    "\n",
    "Current end-date: '11-0-2022'"
   ]
  },
  {
   "cell_type": "code",
   "execution_count": 52,
   "id": "32ebbe96-9a2a-4607-8f56-1684816334fa",
   "metadata": {},
   "outputs": [],
   "source": [
    "yesterday = (datetime.today() - timedelta(days=1)).strftime(\"%m-%d-%y\")\n",
    "\n",
    "## this needs to be updated whenever ran\n",
    "end_date = \"11-01-2022\""
   ]
  },
  {
   "cell_type": "code",
   "execution_count": 54,
   "id": "fd6e5809-904b-4c6a-bf71-4528292c0e22",
   "metadata": {},
   "outputs": [],
   "source": [
    "# df_skate_update = data_grab.main(yesterday, end_date, 'skate', 0, 10000, 100)\n",
    "# df_misc_update = data_grab.main(yesterday, end_date, 'misc', 0, 10000, 100)\n",
    "# df_shot_update = data_grab.main(yesterday, end_date, 'shots', 0, 10000, 100)"
   ]
  },
  {
   "cell_type": "markdown",
   "id": "3c71c0e7-c95a-4572-a0c3-a63116b6d06e",
   "metadata": {},
   "source": [
    "### Sanity Check"
   ]
  },
  {
   "cell_type": "code",
   "execution_count": null,
   "id": "61b5ee4f-3ae5-412b-aaf9-64ce3489c2c7",
   "metadata": {},
   "outputs": [],
   "source": [
    "data_prep.data_review(df_skaters_shots)"
   ]
  },
  {
   "cell_type": "markdown",
   "id": "8074ec1f-d626-4d38-ad99-75fa58072fc8",
   "metadata": {},
   "source": [
    "### Data Clean Before Joining"
   ]
  },
  {
   "cell_type": "code",
   "execution_count": 20,
   "id": "a15a3312-555a-4e17-afeb-34cb2abd6fa6",
   "metadata": {},
   "outputs": [],
   "source": [
    "## drop duplicates\n",
    "df_skaters = data_prep.drop_duplicates(df_skaters)\n",
    "df_skaters_misc = data_prep.drop_duplicates(df_skaters_misc)\n",
    "df_skaters_shots = data_prep.drop_duplicates(df_skaters_shots)"
   ]
  },
  {
   "cell_type": "code",
   "execution_count": null,
   "id": "307be7cb-2368-4c5f-81e4-e68559635bca",
   "metadata": {},
   "outputs": [],
   "source": [
    "data_prep.data_review(df_skaters_shots)"
   ]
  },
  {
   "cell_type": "code",
   "execution_count": 27,
   "id": "dd8e9eef-9fa3-425e-8118-9e323eeff18c",
   "metadata": {},
   "outputs": [],
   "source": [
    "## set index\n",
    "df_skaters = data_prep.make_index(df_skaters, ['gameId', 'playerId'])\n",
    "df_skaters_misc = data_prep.make_index(df_skaters_misc, ['gameId', 'playerId'])\n",
    "df_skaters_shots = data_prep.make_index(df_skaters_shots, ['gameId', 'playerId'])"
   ]
  },
  {
   "cell_type": "code",
   "execution_count": 31,
   "id": "b1ee8f15-775a-472c-8968-603dae90e219",
   "metadata": {},
   "outputs": [],
   "source": [
    "## drop columns\n",
    "df_skaters = data_prep.remove_columns(df_skaters, 'Unnamed: 0')\n",
    "df_skaters_misc = data_prep.remove_columns(df_skaters_misc, 'Unnamed: 0')\n",
    "df_skaters_shots = data_prep.remove_columns(df_skaters_shots, 'Unnamed: 0')"
   ]
  },
  {
   "cell_type": "markdown",
   "id": "da90c131-b9b5-47f3-95a2-ac71084e0aa6",
   "metadata": {},
   "source": [
    "### Joining\n",
    "\n",
    "Will join dataframes by playerId and gameId into one dataframe."
   ]
  },
  {
   "cell_type": "code",
   "execution_count": 34,
   "id": "33737540-8b14-41ba-a17d-9d12415d53fd",
   "metadata": {},
   "outputs": [],
   "source": [
    "df_merged = data_prep.df_join_index(df_skaters_shots, data_prep.df_join_index(df_skaters, df_skaters_misc))"
   ]
  },
  {
   "cell_type": "code",
   "execution_count": null,
   "id": "18f22e93-950d-4dfa-b7c7-5e54d6e25481",
   "metadata": {},
   "outputs": [],
   "source": [
    "data_prep.data_review(df_merged)"
   ]
  },
  {
   "cell_type": "code",
   "execution_count": 37,
   "id": "7d9d9389-6ad7-46cb-947a-7d727d818df2",
   "metadata": {},
   "outputs": [],
   "source": [
    "df_merged = data_prep.drop_duplicates(df_merged)"
   ]
  },
  {
   "cell_type": "code",
   "execution_count": 40,
   "id": "84c76052-f890-4a94-aff8-2e3cf7e4794d",
   "metadata": {},
   "outputs": [],
   "source": [
    "df_merged = data_prep.remove_index(df_merged)"
   ]
  },
  {
   "cell_type": "code",
   "execution_count": null,
   "id": "e202210a-8c6a-4812-bf74-6587fe893c0d",
   "metadata": {},
   "outputs": [],
   "source": [
    "## sanity check\n",
    "data_prep.data_review(df_merged)"
   ]
  },
  {
   "cell_type": "code",
   "execution_count": 46,
   "id": "00bb990e-bd62-47d3-a2b1-038e937cb98a",
   "metadata": {},
   "outputs": [],
   "source": [
    "## save to csv\n",
    "data_prep.save_data(df_merged, '~/dfs/hockey/data/', 'skate_misc_shot_merged.csv')"
   ]
  },
  {
   "cell_type": "code",
   "execution_count": null,
   "id": "52626cb3-0d3d-4fb8-88df-167ddde1d229",
   "metadata": {},
   "outputs": [],
   "source": []
  }
 ],
 "metadata": {
  "kernelspec": {
   "display_name": "Python 3 (ipykernel)",
   "language": "python",
   "name": "python3"
  },
  "language_info": {
   "codemirror_mode": {
    "name": "ipython",
    "version": 3
   },
   "file_extension": ".py",
   "mimetype": "text/x-python",
   "name": "python",
   "nbconvert_exporter": "python",
   "pygments_lexer": "ipython3",
   "version": "3.9.13"
  }
 },
 "nbformat": 4,
 "nbformat_minor": 5
}
