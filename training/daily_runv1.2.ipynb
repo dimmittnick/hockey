{
 "cells": [
  {
   "cell_type": "markdown",
   "id": "758e0a7d-1f22-434c-9deb-7a81faeed1ea",
   "metadata": {},
   "source": [
    "# Training Notebook\n",
    "\n",
    "\n",
    "Notebook is used to experiment with various models and features to optimize the current predictive model which, on avergae, is off by ~5 fantasy points but seems to have strong ranking skills and differentiating between high scoring players and low scoring."
   ]
  },
  {
   "cell_type": "markdown",
   "id": "5e968936-01b1-4981-80ff-e4960d1bd542",
   "metadata": {},
   "source": [
    "## Packages"
   ]
  },
  {
   "cell_type": "code",
   "execution_count": 1,
   "id": "8519a059-b2e0-43c4-bbe8-cea682b9c262",
   "metadata": {},
   "outputs": [],
   "source": [
    "import pandas as pd\n",
    "import numpy as np\n",
    "import sys\n",
    "import os\n",
    "import json\n",
    "import requests\n",
    "import importlib\n",
    "from lxml import etree, html\n",
    "from sklearn.model_selection import train_test_split\n",
    "from sklearn.preprocessing import StandardScaler\n",
    "import joblib\n",
    "from datetime import *\n",
    "htmlparser = etree.HTMLParser()\n",
    "\n",
    "pd.options.mode.chained_assignment = None"
   ]
  },
  {
   "cell_type": "code",
   "execution_count": 2,
   "id": "de9af82f-d2d6-491b-b272-9dfc236b2822",
   "metadata": {},
   "outputs": [],
   "source": [
    "sys.path.append(\"/Users/nickdimmitt/hockey/scripts/\")\n",
    "import data_proc, data_explor, data_prep\n",
    "sys.path.append(\"/Users/nickdimmitt/hockey/data_grab/\")\n",
    "import data_grab"
   ]
  },
  {
   "cell_type": "code",
   "execution_count": 3,
   "id": "537ec438-4572-4240-80b9-e8e433036f33",
   "metadata": {},
   "outputs": [
    {
     "data": {
      "text/plain": [
       "<module 'data_grab' from '/Users/nickdimmitt/hockey/data_grab/data_grab.py'>"
      ]
     },
     "execution_count": 3,
     "metadata": {},
     "output_type": "execute_result"
    }
   ],
   "source": [
    "importlib.reload(data_grab)"
   ]
  },
  {
   "cell_type": "markdown",
   "id": "ffee6468-d797-4fe1-a1f3-cee2c09eec21",
   "metadata": {},
   "source": [
    "### Daily Lineups"
   ]
  },
  {
   "cell_type": "code",
   "execution_count": 4,
   "id": "0159ba6e-ecf0-458d-8409-e1b6c592b945",
   "metadata": {},
   "outputs": [],
   "source": [
    "daily_url = \"https://www.rotowire.com/hockey/nhl-lineups.php\"\n",
    "daily_results = requests.get(daily_url)\n",
    "daily_results_tree = html.fromstring(daily_results.content)"
   ]
  },
  {
   "cell_type": "code",
   "execution_count": 5,
   "id": "79362bea-fb9c-4fda-aeb2-d4b2bd52c6c5",
   "metadata": {},
   "outputs": [],
   "source": [
    "away_teams_xpath = '/html/body/div[1]/div/main/div[3]//div//div//div//div//a[1]//div//text()'\n",
    "away_teams = daily_results_tree.xpath(away_teams_xpath)"
   ]
  },
  {
   "cell_type": "code",
   "execution_count": 6,
   "id": "9a2c2bbd-7ab7-4c2e-b6be-d21a0c936799",
   "metadata": {},
   "outputs": [],
   "source": [
    "home_teams_xpath = '/html/body/div[1]/div/main/div[3]//div//div//div//div//a[2]//div//text()'\n",
    "home_teams = daily_results_tree.xpath(home_teams_xpath)"
   ]
  },
  {
   "cell_type": "code",
   "execution_count": 7,
   "id": "0524799f-530f-499a-b9b6-d7ca46af6852",
   "metadata": {},
   "outputs": [],
   "source": [
    "nhl_teams = 'ANA ANH ARI BOS BUF CAR CGY CHI CLS CBJ COL DAL DET EDM FLA LA LAK MIN MON MTL NJ NSH NYI NYR OTT PHI PIT SEA SJ SJS STL TB TBL TOR VAN VGK WAS WPG'.split()"
   ]
  },
  {
   "cell_type": "code",
   "execution_count": 8,
   "id": "e6988fb8-7b25-4909-a453-b42347913b43",
   "metadata": {},
   "outputs": [],
   "source": [
    "team_map = {'ANH':'ANA', \n",
    "            'ARI':'ARI', \n",
    "            'BOS':'BOS', \n",
    "            'BUF': 'BUF', \n",
    "            'CAR':'CAR', \n",
    "            'CGY':'CGY', \n",
    "            'CHI':'CHI', \n",
    "            'CLS': 'CBJ', \n",
    "            'COL':'COL', \n",
    "            'DAL':'DAL', \n",
    "            'DET':'DET', \n",
    "            'EDM':'EDM', \n",
    "            'FLA':'FLA', \n",
    "            'LA':'LAK', \n",
    "            'MIN':'MIN', \n",
    "            'MON': 'MTL', \n",
    "            'NJ':'NJD', \n",
    "            'NSH':'NSH', \n",
    "            'NYI':'NYI', \n",
    "            'NYR': 'NYR', \n",
    "            'OTT':'OTT', \n",
    "            'PHI':'PHI', \n",
    "            'PIT':'PIT', \n",
    "            'SEA':'SEA', \n",
    "            'SJ': 'SJS', \n",
    "            'STL': 'STL', \n",
    "            'TB':'TBL', \n",
    "            'TOR':'TOR', \n",
    "            'VAN':'VAN', \n",
    "            'VGK':'VGK', \n",
    "            'WAS':'WSH', \n",
    "            'WPG':'WPG'}"
   ]
  },
  {
   "cell_type": "code",
   "execution_count": 9,
   "id": "9953bad6-2557-41d7-856b-f938535d02cc",
   "metadata": {},
   "outputs": [],
   "source": [
    "away_teams = [team_map[x] for x in away_teams if x in nhl_teams]\n",
    "home_teams = [team_map[x] for x in home_teams if x in nhl_teams]"
   ]
  },
  {
   "cell_type": "code",
   "execution_count": 10,
   "id": "5eb1dc92-6b12-4f76-bfe6-841278812c23",
   "metadata": {},
   "outputs": [],
   "source": [
    "games_away = [(x,y) for x,y in zip(away_teams, home_teams)]\n",
    "games_home = [(x,y) for x,y in zip(home_teams, away_teams)]\n",
    "\n",
    "games_dict_away = dict(games_away)\n",
    "games_dict_home = dict(games_home)"
   ]
  },
  {
   "cell_type": "code",
   "execution_count": 11,
   "id": "923206b7-34dc-405f-85db-12cd74527de5",
   "metadata": {},
   "outputs": [],
   "source": [
    "home_goalie_xpath = '/html/body/div[1]/div/main/div[3]//div//div//div//ul[2]//li[1]//div[1]/a[1]/text()'\n",
    "home_goalies = daily_results_tree.xpath(home_goalie_xpath)"
   ]
  },
  {
   "cell_type": "code",
   "execution_count": 12,
   "id": "2f3c294c-2c52-42a6-a428-4c5e19120945",
   "metadata": {},
   "outputs": [],
   "source": [
    "away_goalie_xpath = '/html/body/div[1]/div/main/div[3]//div//div//div//ul[1]//li[1]//div[1]/a[1]/text()'\n",
    "away_goalies = daily_results_tree.xpath(away_goalie_xpath)"
   ]
  },
  {
   "cell_type": "code",
   "execution_count": 13,
   "id": "6bb4bf7b-94a9-45dd-9cb6-151f2d55e057",
   "metadata": {},
   "outputs": [],
   "source": [
    "goalie_dict = {}\n",
    "\n",
    "for x in range(len(home_goalies)):\n",
    "    goalie_dict[away_teams[x]] = home_goalies[x]\n",
    "    goalie_dict[home_teams[x]] = away_goalies[x]"
   ]
  },
  {
   "cell_type": "markdown",
   "id": "54edc42f-9a9d-482a-99c1-f0ee9825dae5",
   "metadata": {},
   "source": [
    "## Data"
   ]
  },
  {
   "cell_type": "code",
   "execution_count": 14,
   "id": "8c02a48e-b400-4e97-85a8-19edb19d33eb",
   "metadata": {},
   "outputs": [],
   "source": [
    "end_date = \"2022-11-30\"\n",
    "yesterday = (datetime.today() - timedelta(days=1)).strftime(\"%Y-%m-%d\")\n",
    "today = datetime.today().strftime(\"%Y-%m-%d\")"
   ]
  },
  {
   "cell_type": "code",
   "execution_count": 15,
   "id": "8b578886-d890-45f7-9d53-ddaa496c574e",
   "metadata": {},
   "outputs": [],
   "source": [
    "df_skater = data_grab.main(yesterday, end_date, 'skater', \"~/hockey/data/df_skater.csv\", 0, 10000, 100, update=True, saveData=False)\n",
    "df_misc = data_grab.main(yesterday, end_date, 'misc', \"~/hockey/data/df_misc.csv\", 0, 10000, 100, update=True, saveData=False)\n",
    "df_shot = data_grab.main(yesterday, end_date, 'shots', \"~/hockey/data/df_shots.csv\", 0, 10000, 100, update=True, saveData=False)\n",
    "df_toi = data_grab.main(yesterday, end_date, 'toi', \"~/hockey/data/df_toi.csv\", 0, 10000, 100, update=True, saveData=False)\n",
    "df_goalie = data_grab.main(yesterday, end_date, 'goalie', \"/Users/nickdimmitt/hockey/data/df_goalies.csv\", 0, 10000, 100, update=True, saveData=False)\n",
    "df_team = data_grab.main(yesterday, end_date, 'team', \"~/hockey/data/df_teams.csv\", 0, 10000, 100, update=True, saveData=False)"
   ]
  },
  {
   "cell_type": "markdown",
   "id": "07044a78-d541-45a0-9027-515baf3495a7",
   "metadata": {},
   "source": [
    "### Remove Unnecessary Columns"
   ]
  },
  {
   "cell_type": "code",
   "execution_count": 16,
   "id": "2dfc2e7c-4f9e-44b6-832c-ad6a84f76478",
   "metadata": {},
   "outputs": [],
   "source": [
    "df_goalie = df_goalie.drop(['Unnamed: 0', 'assists', 'gamesStarted', 'goals', 'goalsAgainstAverage', 'lastName', 'points', 'saves', 'ties', 'timeOnIce', 'wins'], axis=1)"
   ]
  },
  {
   "cell_type": "code",
   "execution_count": 17,
   "id": "4f635cdc-bbf2-465b-bec6-d222acd7ed95",
   "metadata": {},
   "outputs": [],
   "source": [
    "df_misc = df_misc.drop(['Unnamed: 0.1', 'blockedShotsPer60', 'emptyNetAssists', 'homeRoad', 'emptyNetGoals', 'emptyNetPoints', 'firstGoals', 'gamesPlayed', 'giveaways', 'giveawaysPer60', 'hits', 'hitsPer60', 'missedShotCrossbar', 'missedShotGoalpost', 'missedShotOverNet', 'missedShotWideOfNet', 'missedShots', 'opponentTeamAbbrev', 'otGoals', 'takeaways', 'takeawaysPer60', 'Unnamed: 0'], axis=1)"
   ]
  },
  {
   "cell_type": "code",
   "execution_count": 18,
   "id": "b0502d84-30f3-4b0a-8463-a74ae4f7ada7",
   "metadata": {},
   "outputs": [],
   "source": [
    "df_shot = df_shot.drop(['Unnamed: 0.1', 'gamesPlayed', 'goals', 'homeRoad', 'lastName', 'opponentTeamAbbrev', 'teamAbbrev', 'skaterFullName', 'Unnamed: 0'], axis=1)"
   ]
  },
  {
   "cell_type": "code",
   "execution_count": 19,
   "id": "e3ecd349-2fca-4185-951b-41cc6e2a1fa3",
   "metadata": {},
   "outputs": [],
   "source": [
    "df_skater = df_skater.drop(['Unnamed: 0.1', 'evGoals', 'evPoints','faceoffWinPct', 'gameWinningGoals', 'gamesPlayed', 'lastName', 'otGoals', 'pointsPerGame', 'timeOnIcePerGame', 'Unnamed: 0'], axis=1)"
   ]
  },
  {
   "cell_type": "code",
   "execution_count": 20,
   "id": "6ff6ff7b-4904-404c-a239-63e88c1428ce",
   "metadata": {},
   "outputs": [],
   "source": [
    "df_toi = df_toi.drop(['Unnamed: 0.1', 'evTimeOnIce', 'evTimeOnIcePerGame', 'gameDate', 'gamesPlayed', 'homeRoad', 'lastName', 'opponentTeamAbbrev','otTimeOnIce', 'otTimeOnIcePerOtGame', 'positionCode', 'shootsCatches','skaterFullName', 'teamAbbrev', 'timeOnIcePerGame', 'Unnamed: 0'], axis=1)"
   ]
  },
  {
   "cell_type": "code",
   "execution_count": 21,
   "id": "b38f4834-d35a-4f9e-9020-4e1e8930d846",
   "metadata": {},
   "outputs": [],
   "source": [
    "df_team = df_team.drop(['Unnamed: 0', 'faceoffWinPct', 'gamesPlayed', 'goalsAgainstPerGame', 'goalsForPerGame', 'losses', 'otLosses', 'penaltyKillNetPct', 'pointPct', 'powerPlayNetPct', 'powerPlayPct', 'regulationAndOtWins', 'ties', 'wins', 'winsInRegulation', 'winsInShootout'], axis=1)"
   ]
  },
  {
   "cell_type": "markdown",
   "id": "a6b6fc29-b918-4f36-be52-0f44d36c327f",
   "metadata": {},
   "source": [
    "#### Merging"
   ]
  },
  {
   "cell_type": "code",
   "execution_count": 22,
   "id": "faf9f6bc-9753-411f-8b1a-298546816826",
   "metadata": {},
   "outputs": [],
   "source": [
    "df_goalie['goalieId'] = df_goalie['playerId'].copy()\n",
    "df_goalie['teamAbbrevMerge'] = df_goalie['opponentTeamAbbrev'].copy()\n",
    "df_team['teamAbbrevMerge'] = df_team['opponentTeamAbbrev'].copy()"
   ]
  },
  {
   "cell_type": "code",
   "execution_count": 23,
   "id": "18a72d71-c8ed-4a6e-a286-99a1f54ffc7f",
   "metadata": {},
   "outputs": [],
   "source": [
    "df_skater['teamAbbrevMerge'] = df_skater['teamAbbrev']"
   ]
  },
  {
   "cell_type": "code",
   "execution_count": 24,
   "id": "5333a4cf-6be4-411f-b81a-2cf62eb9fb3e",
   "metadata": {},
   "outputs": [],
   "source": [
    "df_goalie = df_goalie[['gameId', 'goalieId','goalieFullName','teamAbbrevMerge','savePct']]\n",
    "df_team = df_team[['gameId', 'teamId', 'teamAbbrevMerge', 'goalsAgainst', 'shotsAgainstPerGame']]"
   ]
  },
  {
   "cell_type": "code",
   "execution_count": 100,
   "id": "dbb58433-b0c1-4aea-818f-076f2e8004d8",
   "metadata": {},
   "outputs": [],
   "source": [
    "df_merged = pd.merge(df_skater, df_misc, on=['gameId', 'playerId'])"
   ]
  },
  {
   "cell_type": "code",
   "execution_count": 101,
   "id": "d53e05e9-a5e5-41fd-9766-fcb47c8958ae",
   "metadata": {},
   "outputs": [],
   "source": [
    "df_merged = pd.merge(df_merged, df_shot, on=['gameId', 'playerId'])"
   ]
  },
  {
   "cell_type": "code",
   "execution_count": 102,
   "id": "e2f8e58f-5286-438f-9601-40207c72bd37",
   "metadata": {},
   "outputs": [
    {
     "name": "stderr",
     "output_type": "stream",
     "text": [
      "/var/folders/0b/h0zc244107jg60tttkl4r0kw0000gn/T/ipykernel_52891/874148174.py:1: FutureWarning: Passing 'suffixes' which cause duplicate columns {'Unnamed: 0.2_x', 'Unnamed: 0.3_x'} in the result is deprecated and will raise a MergeError in a future version.\n",
      "  df_merged = pd.merge(df_merged, df_toi, on=['gameId', 'playerId'])\n"
     ]
    }
   ],
   "source": [
    "df_merged = pd.merge(df_merged, df_toi, on=['gameId', 'playerId'])"
   ]
  },
  {
   "cell_type": "code",
   "execution_count": 103,
   "id": "559ae990-4dbd-49e2-bdc9-53366a16ed78",
   "metadata": {},
   "outputs": [],
   "source": [
    "df_merged = pd.merge(df_merged, df_goalie, on=['gameId', 'teamAbbrevMerge'])"
   ]
  },
  {
   "cell_type": "code",
   "execution_count": 104,
   "id": "95da79ce-ccb7-444f-b254-3b2d247e3375",
   "metadata": {},
   "outputs": [],
   "source": [
    "df_merged = pd.merge(df_merged, df_team, on=['gameId', 'teamAbbrevMerge'])"
   ]
  },
  {
   "cell_type": "code",
   "execution_count": 105,
   "id": "c427167c-ad4f-4141-b1e6-98cfbc5ec590",
   "metadata": {},
   "outputs": [],
   "source": [
    "df_merged.drop_duplicates(inplace=True)"
   ]
  },
  {
   "cell_type": "code",
   "execution_count": 106,
   "id": "87186365-0954-44c2-952e-4874f8e803c1",
   "metadata": {},
   "outputs": [],
   "source": [
    "df_merged = df_merged[['gameId', 'gameDate','playerId', 'opponentTeamAbbrev', 'teamAbbrevMerge', 'homeRoad', 'goalieId', 'goalieFullName', 'goals', 'assists', 'plusMinus',\n",
    "       'points', 'positionCode_x', 'ppGoals', 'ppPoints', 'shGoals',\n",
    "       'shPoints', 'shootingPct_x', 'shootsCatches_x', 'shots_x',\n",
    "       'skaterFullName_x', 'blockedShots',\n",
    "       'ppTimeOnIce', 'shTimeOnIce', 'shifts', 'timeOnIce',\n",
    "       'timeOnIcePerShift', 'savePct', 'goalsAgainst', 'shotsAgainstPerGame']]"
   ]
  },
  {
   "cell_type": "code",
   "execution_count": 107,
   "id": "1444a155-6d77-40a0-a16f-47dc56b754a7",
   "metadata": {},
   "outputs": [],
   "source": [
    "df_merged.columns = df_merged.columns.str.rstrip('_x')"
   ]
  },
  {
   "cell_type": "markdown",
   "id": "0cdb8f4e-20da-41a9-8eee-15d3f71fab24",
   "metadata": {},
   "source": [
    "## Add Today's Rows"
   ]
  },
  {
   "cell_type": "code",
   "execution_count": 108,
   "id": "3315134f-9f14-4eda-8df3-150ae17f10a9",
   "metadata": {},
   "outputs": [],
   "source": [
    "today_home_df = df_merged[(df_merged['gameDate'] > \"2022-11-01\") & (df_merged['teamAbbrevMerge'].isin(home_teams))]\n",
    "today_away_df = df_merged[(df_merged['gameDate'] > \"2022-11-01\") & (df_merged['teamAbbrevMerge'].isin(away_teams))]"
   ]
  },
  {
   "cell_type": "code",
   "execution_count": 109,
   "id": "62b82991-a9d5-4c71-80db-9f72bbe553af",
   "metadata": {},
   "outputs": [],
   "source": [
    "today_home_df['gameDate'] = today\n",
    "today_away_df['gameDate'] = today\n",
    "\n",
    "today_home_df['homeRoad'] = 'H'\n",
    "today_away_df['homeRoad'] = 'R'"
   ]
  },
  {
   "cell_type": "code",
   "execution_count": 110,
   "id": "c6a8adb7-efdb-4c17-9d3f-66c0198a7bde",
   "metadata": {},
   "outputs": [],
   "source": [
    "today_home_df[['goals', 'assists',\n",
    "       'plusMinus', 'points', 'ppGoals', 'ppPoints', 'shGoals',\n",
    "       'shPoints', 'shootingPct', 'shots', 'blockedShots', 'ppTimeOnIce', 'shTimeOnIce', 'shifts', 'timeOnIce',\n",
    "       'timeOnIcePerShift', 'savePct', 'goalsAgainst', 'shotsAgainstPerGame']] = 0\n",
    "\n",
    "today_away_df[['goals', 'assists',\n",
    "       'plusMinus', 'points', 'ppGoals', 'ppPoints', 'shGoals',\n",
    "       'shPoints', 'shootingPct', 'shots', 'blockedShots', 'ppTimeOnIce', 'shTimeOnIce', 'shifts', 'timeOnIce',\n",
    "       'timeOnIcePerShift', 'savePct', 'goalsAgainst', 'shotsAgainstPerGame']] = 0"
   ]
  },
  {
   "cell_type": "code",
   "execution_count": 111,
   "id": "daf79340-712f-4941-b20c-9fa790228467",
   "metadata": {},
   "outputs": [],
   "source": [
    "today_away_df['opponentTeamAbbrev'] = today_away_df['teamAbbrevMerge'].map(games_dict_away)\n",
    "today_home_df['opponentTeamAbbrev'] = today_home_df['teamAbbrevMerge'].map(games_dict_home)"
   ]
  },
  {
   "cell_type": "code",
   "execution_count": 112,
   "id": "49b8b296-d884-4a27-a64b-725c73493df4",
   "metadata": {},
   "outputs": [],
   "source": [
    "today_away_df['goalieFullName'] = today_away_df['teamAbbrevMerge'].map(goalie_dict)\n",
    "today_home_df['goalieFullName'] = today_home_df['teamAbbrevMerge'].map(goalie_dict)"
   ]
  },
  {
   "cell_type": "code",
   "execution_count": 113,
   "id": "00a6ff8c-6ae4-4626-9103-e52f2e6ac476",
   "metadata": {},
   "outputs": [],
   "source": [
    "today_df = pd.concat([today_home_df, today_away_df])\n",
    "today_df.drop_duplicates(subset='playerId', inplace=True)"
   ]
  },
  {
   "cell_type": "code",
   "execution_count": 114,
   "id": "58a0957b-ad47-4e96-afc9-0ed87c93f6d8",
   "metadata": {},
   "outputs": [],
   "source": [
    "goalies = list(df_goalie['goalieFullName'])\n",
    "goalieId = list(df_goalie['goalieId'])\n",
    "\n",
    "goalie_map = {}\n",
    "\n",
    "for i in range(len(goalies)):\n",
    "    goalie_map[goalies[i]] = goalieId[i]"
   ]
  },
  {
   "cell_type": "code",
   "execution_count": 115,
   "id": "665bf835-d2c2-421d-b0b0-7a9838feafdb",
   "metadata": {},
   "outputs": [],
   "source": [
    "today_df['goalieId'] = today_df['goalieFullName'].map(goalie_map)"
   ]
  },
  {
   "cell_type": "code",
   "execution_count": 116,
   "id": "222622fb-5aaf-4658-8aad-b51bcf044f2a",
   "metadata": {},
   "outputs": [],
   "source": [
    "df_merged = pd.concat([df_merged, today_df])"
   ]
  },
  {
   "cell_type": "markdown",
   "id": "73caa781-556f-4a55-a042-58c97a0a39db",
   "metadata": {},
   "source": [
    "### Create Calculated Features"
   ]
  },
  {
   "cell_type": "code",
   "execution_count": 117,
   "id": "da8bf943-d8ad-4d02-b0f6-cdccec0b801e",
   "metadata": {},
   "outputs": [],
   "source": [
    "df_merged['savePercLastGame'] = df_merged.groupby('goalieId')['savePct'].shift(1)\n",
    "df_merged['savePercMa3'] = df_merged.groupby('goalieId')['savePct'].transform(lambda x: x.rolling(3).mean()).shift(1)\n",
    "df_merged['savePercMa7'] = df_merged.groupby('goalieId')['savePct'].transform(lambda x: x.rolling(7).mean()).shift(1)\n",
    "df_merged['savePercMa16'] = df_merged.groupby('goalieId')['savePct'].transform(lambda x: x.rolling(16).mean()).shift(1)"
   ]
  },
  {
   "cell_type": "code",
   "execution_count": 118,
   "id": "51f56f25-562c-45df-8209-40742e9a309e",
   "metadata": {},
   "outputs": [],
   "source": [
    "df_merged['goalsPerGameLastGame'] = df_merged.groupby('opponentTeamAbbrev')['goalsAgainst'].shift()\n",
    "df_merged['shotsPerGameLastGame'] = df_merged.groupby('opponentTeamAbbrev')['shotsAgainstPerGame'].shift()\n",
    "\n",
    "df_merged['goalsPerGameMa3'] = df_merged.groupby('opponentTeamAbbrev')['goalsAgainst'].transform(lambda x: x.rolling(3).mean()).shift()\n",
    "df_merged['shotsPerGameMa3'] = df_merged.groupby('opponentTeamAbbrev')['shotsAgainstPerGame'].transform(lambda x: x.rolling(3).mean()).shift()\n",
    "\n",
    "df_merged['goalsPerGameMa7'] = df_merged.groupby('opponentTeamAbbrev')['goalsAgainst'].transform(lambda x: x.rolling(7).mean()).shift()\n",
    "df_merged['shotsPerGameMa7'] = df_merged.groupby('opponentTeamAbbrev')['shotsAgainstPerGame'].transform(lambda x: x.rolling(7).mean()).shift()\n",
    "\n",
    "df_merged['goalsPerGameMa16'] = df_merged.groupby('opponentTeamAbbrev')['goalsAgainst'].transform(lambda x: x.rolling(16).mean()).shift()\n",
    "df_merged['shotsPerGameMa16'] = df_merged.groupby('opponentTeamAbbrev')['shotsAgainstPerGame'].transform(lambda x: x.rolling(16).mean()).shift()"
   ]
  },
  {
   "cell_type": "markdown",
   "id": "c549480c-26de-4906-8950-42c257692907",
   "metadata": {},
   "source": [
    "#### Rolling Averages"
   ]
  },
  {
   "cell_type": "code",
   "execution_count": 119,
   "id": "9201af73-1888-416a-8f18-108003c592cf",
   "metadata": {},
   "outputs": [],
   "source": [
    "df_merged['fanPoints'] = data_explor.fan_points(df_merged)\n",
    "df_merged['overPerform'] = data_explor.overperform(df_merged, 'fanPoints', 'playerId')\n",
    "df_merged['homeRoadPerf'] = data_explor.home_away_perf(df_merged, 'overPerform', ['playerId', 'homeRoad'])"
   ]
  },
  {
   "cell_type": "code",
   "execution_count": 120,
   "id": "8196552b-5be9-435b-9d0b-1885ea61ce99",
   "metadata": {},
   "outputs": [],
   "source": [
    "better_home_skater = list(np.where((df_merged['homeRoad'] == 'H') & (df_merged['homeRoadPerf'] > 0), df_merged['playerId'], None))\n",
    "better_away_skater = list(np.where((df_merged['homeRoad'] == 'R') & (df_merged['homeRoadPerf'] > 0), df_merged['playerId'], None))\n",
    "better_home_skater = [*set(better_home_skater)]\n",
    "better_away_skater = [*set(better_away_skater)]"
   ]
  },
  {
   "cell_type": "code",
   "execution_count": 121,
   "id": "438743d0-8875-463f-9f13-be4158c6318f",
   "metadata": {},
   "outputs": [],
   "source": [
    "df_merged['OpHomeDummy'] = np.where(df_merged['playerId'].isin(better_home_skater), 1, 0)\n",
    "df_merged['OpRoadDummy'] = np.where(df_merged['playerId'].isin(better_away_skater), 1, 0)\n",
    "df_merged['OpNowhereDummy'] = np.where((df_merged['OpHomeDummy'] == 0) & (df_merged['OpRoadDummy'] == 0), 1, 0)"
   ]
  },
  {
   "cell_type": "code",
   "execution_count": 122,
   "id": "8fc4e8c2-e69c-45b9-97c7-e4cc6496308f",
   "metadata": {},
   "outputs": [],
   "source": [
    "feature_list = ['assists', 'goals', 'plusMinus', 'points', 'ppPoints', 'fanPoints', 'blockedShots','shootingPct', 'shots', 'timeOnIce', 'ppTimeOnIce', 'shifts', 'timeOnIcePerShift']"
   ]
  },
  {
   "cell_type": "code",
   "execution_count": 123,
   "id": "5bd10a2e-377f-480a-8349-e30c88bbc366",
   "metadata": {},
   "outputs": [],
   "source": [
    "for feature in feature_list:\n",
    "    df_merged[f'{feature}Ma7'] = data_proc.moving_average(df_merged, feature, 'playerId', 7)\n",
    "    df_merged[f'{feature}Ma7'] = df_merged[f'{feature}Ma7'].shift(1)\n",
    "    \n",
    "for feature in feature_list:\n",
    "    df_merged[f'{feature}Ma3'] = data_proc.moving_average(df_merged, feature, 'playerId', 3)\n",
    "    df_merged[f'{feature}Ma3'] = df_merged[f'{feature}Ma3'].shift(1)\n",
    "    \n",
    "for feature in feature_list:\n",
    "    df_merged[f'{feature}LastGame'] = df_merged[feature].shift(1)\n",
    "    \n",
    "for feature in feature_list:\n",
    "    df_merged[f'{feature}Ma16'] = data_proc.moving_average(df_merged, feature, 'playerId', 16)\n",
    "    df_merged[f'{feature}Ma16'] = df_merged[f'{feature}Ma16'].shift(1)"
   ]
  },
  {
   "cell_type": "markdown",
   "id": "fdd4b429-2bfb-4a69-bc01-09808e15d684",
   "metadata": {},
   "source": [
    "### All Time Average"
   ]
  },
  {
   "cell_type": "code",
   "execution_count": 124,
   "id": "474068cc-2bc7-49ec-8a75-9bf226a1d14d",
   "metadata": {},
   "outputs": [],
   "source": [
    "df_merged['avgFanPoints'] = df_merged.groupby('playerId')['fanPoints'].transform(lambda x: x.mean())"
   ]
  },
  {
   "cell_type": "markdown",
   "id": "45ab783e-7537-4486-9502-9d7798d4f709",
   "metadata": {},
   "source": [
    "## Cleaning"
   ]
  },
  {
   "cell_type": "code",
   "execution_count": 125,
   "id": "fcec1819-abd5-4a14-a315-ef61a974c23f",
   "metadata": {},
   "outputs": [
    {
     "data": {
      "text/plain": [
       "Index(['gameId', 'gameDate', 'playerId', 'opponentTeamAbbrev',\n",
       "       'teamAbbrevMerge', 'homeRoad', 'goalieId', 'goalieFullName', 'goals',\n",
       "       'assists',\n",
       "       ...\n",
       "       'ppPointsMa16', 'fanPointsMa16', 'blockedShotsMa16', 'shootingPctMa16',\n",
       "       'shotsMa16', 'timeOnIceMa16', 'ppTimeOnIceMa16', 'shiftsMa16',\n",
       "       'timeOnIcePerShiftMa16', 'avgFanPoints'],\n",
       "      dtype='object', length=101)"
      ]
     },
     "execution_count": 125,
     "metadata": {},
     "output_type": "execute_result"
    }
   ],
   "source": [
    "df_merged.columns"
   ]
  },
  {
   "cell_type": "code",
   "execution_count": 126,
   "id": "13e60faa-dbde-4d47-bb02-39aee6272fb6",
   "metadata": {},
   "outputs": [],
   "source": [
    "impute_by_player = ['assistsMa7', 'goalsMa7', 'plusMinusMa7', 'pointsMa7',\n",
    "       'ppPointsMa7', 'fanPointsMa7', 'blockedShotsMa7', 'shootingPctMa7',\n",
    "       'shotsMa7', 'timeOnIceMa7', 'ppTimeOnIceMa7', 'shiftsMa7',\n",
    "       'timeOnIcePerShiftMa7', 'assistsMa3', 'goalsMa3', 'plusMinusMa3',\n",
    "       'pointsMa3', 'ppPointsMa3', 'fanPointsMa3', 'blockedShotsMa3',\n",
    "       'shootingPctMa3', 'shotsMa3', 'timeOnIceMa3', 'ppTimeOnIceMa3',\n",
    "       'shiftsMa3', 'timeOnIcePerShiftMa3', 'assistsLastGame', 'goalsLastGame',\n",
    "       'plusMinusLastGame', 'pointsLastGame', 'ppPointsLastGame',\n",
    "       'fanPointsLastGame', 'blockedShotsLastGame', 'shootingPctLastGame',\n",
    "       'shotsLastGame', 'timeOnIceLastGame', 'ppTimeOnIceLastGame',\n",
    "       'shiftsLastGame', 'timeOnIcePerShiftLastGame', 'assistsMa16',\n",
    "       'goalsMa16', 'plusMinusMa16', 'pointsMa16', 'ppPointsMa16',\n",
    "       'fanPointsMa16', 'blockedShotsMa16', 'shootingPctMa16', 'shotsMa16',\n",
    "       'timeOnIceMa16', 'ppTimeOnIceMa16', 'shiftsMa16',\n",
    "       'timeOnIcePerShiftMa16']\n",
    "\n",
    "impute_by_goalie = ['savePercLastGame', 'savePercMa3', 'savePercMa7', 'savePercMa16']\n",
    "\n",
    "impute_by_team = ['goalsPerGameLastGame', 'goalsPerGameMa3',\n",
    "       'goalsPerGameMa7', 'goalsPerGameMa16', 'shotsPerGameLastGame',\n",
    "       'shotsPerGameMa3', 'shotsPerGameMa7', 'shotsPerGameMa16']"
   ]
  },
  {
   "cell_type": "code",
   "execution_count": 127,
   "id": "0aefe2eb-eb6d-4b52-a2e0-1178905c4e80",
   "metadata": {},
   "outputs": [],
   "source": [
    "for col in impute_by_player:\n",
    "    df_merged[col] = df_merged.groupby('playerId')[col].transform(lambda x: x.fillna(x.mean()))\n",
    "    \n",
    "for col in impute_by_goalie:\n",
    "    df_merged[col] = df_merged.groupby('playerId')[col].transform(lambda x: x.fillna(x.mean()))\n",
    "\n",
    "    \n",
    "for col in impute_by_team:\n",
    "    df_merged[col] = df_merged.groupby('playerId')[col].transform(lambda x: x.fillna(x.mean()))"
   ]
  },
  {
   "cell_type": "code",
   "execution_count": 128,
   "id": "3f39736d-1571-446c-b9ea-087af9e0368d",
   "metadata": {},
   "outputs": [],
   "source": [
    "df_merged.drop('shootingPct', axis=1, inplace=True)"
   ]
  },
  {
   "cell_type": "code",
   "execution_count": 129,
   "id": "5e8db0f1-a4c8-49f8-80a6-86ac627c9a80",
   "metadata": {},
   "outputs": [],
   "source": [
    "impute_by_perf = ['assistsMa7', 'goalsMa7', 'plusMinusMa7', 'pointsMa7',\n",
    "       'ppPointsMa7', 'fanPointsMa7', 'blockedShotsMa7', 'shootingPctMa7',\n",
    "       'shotsMa7', 'timeOnIceMa7', 'ppTimeOnIceMa7', 'shiftsMa7',\n",
    "       'timeOnIcePerShiftMa7', 'assistsMa3', 'goalsMa3', 'plusMinusMa3',\n",
    "       'pointsMa3', 'ppPointsMa3', 'fanPointsMa3', 'blockedShotsMa3',\n",
    "       'shootingPctMa3', 'shotsMa3', 'timeOnIceMa3', 'ppTimeOnIceMa3',\n",
    "       'shiftsMa3', 'timeOnIcePerShiftMa3', 'assistsLastGame', 'goalsLastGame',\n",
    "       'plusMinusLastGame', 'pointsLastGame', 'ppPointsLastGame',\n",
    "       'fanPointsLastGame', 'blockedShotsLastGame', 'shootingPctLastGame',\n",
    "       'shotsLastGame', 'timeOnIceLastGame', 'ppTimeOnIceLastGame',\n",
    "       'shiftsLastGame', 'timeOnIcePerShiftLastGame', 'assistsMa16',\n",
    "       'goalsMa16', 'plusMinusMa16', 'pointsMa16', 'ppPointsMa16',\n",
    "       'fanPointsMa16', 'blockedShotsMa16', 'shootingPctMa16', 'shotsMa16',\n",
    "       'timeOnIceMa16', 'ppTimeOnIceMa16', 'shiftsMa16',\n",
    "       'timeOnIcePerShiftMa16', 'savePercLastGame', 'savePercMa3', 'savePercMa7', 'savePercMa16', 'goalsPerGameLastGame', 'goalsPerGameMa3',\n",
    "       'goalsPerGameMa7', 'goalsPerGameMa16', 'shotsPerGameLastGame',\n",
    "       'shotsPerGameMa3', 'shotsPerGameMa7', 'shotsPerGameMa16']"
   ]
  },
  {
   "cell_type": "code",
   "execution_count": 130,
   "id": "28436cb2-719a-44b2-a306-9183166d2436",
   "metadata": {},
   "outputs": [],
   "source": [
    "for col in impute_by_perf:\n",
    "    df_merged[col] = df_merged.groupby('playerId')[col].transform(lambda x: x.fillna(x.mean()))"
   ]
  },
  {
   "cell_type": "code",
   "execution_count": 131,
   "id": "c6996203-be46-48b4-8107-1c5697a279f1",
   "metadata": {},
   "outputs": [],
   "source": [
    "df_merged.dropna(axis=0, inplace=True)"
   ]
  },
  {
   "cell_type": "code",
   "execution_count": 132,
   "id": "3fa7ca2e-cefb-4186-9d17-715387fb0870",
   "metadata": {},
   "outputs": [],
   "source": [
    "df_merged['positionCodeCopy'] = df_merged['positionCode'].copy()\n",
    "df_merged['homeRoadCopy'] = df_merged['homeRoad'].copy()"
   ]
  },
  {
   "cell_type": "code",
   "execution_count": 133,
   "id": "47f53d21-55d8-4dcc-b6ed-71a93f8ebe61",
   "metadata": {},
   "outputs": [],
   "source": [
    "df_merged = pd.get_dummies(df_merged, columns=['homeRoadCopy', 'positionCodeCopy', 'shootsCatches'])"
   ]
  },
  {
   "cell_type": "markdown",
   "id": "59090659-0550-4b24-bbaf-a0b5b3e11e8f",
   "metadata": {},
   "source": [
    "## Splitting"
   ]
  },
  {
   "cell_type": "code",
   "execution_count": 134,
   "id": "f70945f0-81c0-42bb-96cf-0cc49d117357",
   "metadata": {},
   "outputs": [],
   "source": [
    "predictable_df = df_merged[df_merged['gameDate'] == today]"
   ]
  },
  {
   "cell_type": "code",
   "execution_count": 135,
   "id": "1304dcf4-857d-4cb1-93cf-93ec235a1c91",
   "metadata": {},
   "outputs": [],
   "source": [
    "home_df = pd.concat([predictable_df[((predictable_df['homeRoadPerf'] > 0) & (predictable_df['homeRoad'] == 'H'))], predictable_df[(predictable_df['homeRoadPerf'] <= 0) & (predictable_df['homeRoad'] == 'R')]])\n",
    "away_df = pd.concat([predictable_df[((predictable_df['homeRoadPerf'] > 0) & (predictable_df['homeRoad'] == 'R'))], predictable_df[(predictable_df['homeRoadPerf'] <= 0) & (predictable_df['homeRoad'] == 'H')]])"
   ]
  },
  {
   "cell_type": "code",
   "execution_count": 137,
   "id": "4f7745e6-95fa-4966-a71f-d316935c2ffd",
   "metadata": {},
   "outputs": [],
   "source": [
    "home_df_d = home_df[home_df['positionCode'] == 'D']\n",
    "home_df_c = home_df[home_df['positionCode'] == 'C']\n",
    "home_df_w = home_df[(home_df['positionCode'] == 'L') | (home_df['positionCode'] == 'R') ]"
   ]
  },
  {
   "cell_type": "code",
   "execution_count": 138,
   "id": "796989d5-3bf6-4a3a-92d3-704c9c68e8af",
   "metadata": {},
   "outputs": [],
   "source": [
    "away_df_d = away_df[away_df['positionCode'] == 'D']\n",
    "away_df_c = away_df[away_df['positionCode'] == 'C']\n",
    "away_df_w = away_df[(away_df['positionCode'] == 'L') | (away_df['positionCode'] == 'R') ]"
   ]
  },
  {
   "cell_type": "code",
   "execution_count": 139,
   "id": "3e79f2a5-4ccd-4080-bb34-93bf1a644619",
   "metadata": {},
   "outputs": [],
   "source": [
    "home_df_d_good = home_df_d[home_df_d['avgFanPoints'] >= home_df_d['avgFanPoints'].mean()]\n",
    "home_df_d_bad = home_df_d[home_df_d['avgFanPoints'] < home_df_d['avgFanPoints'].mean()]\n",
    "\n",
    "home_df_c_good = home_df_c[home_df_c['avgFanPoints'] >= home_df_c['avgFanPoints'].mean()]\n",
    "home_df_c_bad = home_df_c[home_df_c['avgFanPoints'] < home_df_c['avgFanPoints'].mean()]\n",
    "\n",
    "home_df_w_good = home_df_w[home_df_w['avgFanPoints'] >= home_df_w['avgFanPoints'].mean()]\n",
    "home_df_w_bad = home_df_w[home_df_w['avgFanPoints'] < home_df_w['avgFanPoints'].mean()]"
   ]
  },
  {
   "cell_type": "code",
   "execution_count": 140,
   "id": "dd98ba22-c238-48eb-b237-9d8831f7030f",
   "metadata": {},
   "outputs": [],
   "source": [
    "away_df_d_good = away_df_d[away_df_d['avgFanPoints'] >= away_df_d['avgFanPoints'].mean()]\n",
    "away_df_d_bad = away_df_d[away_df_d['avgFanPoints'] < away_df_d['avgFanPoints'].mean()]\n",
    "\n",
    "away_df_c_good = away_df_c[away_df_c['avgFanPoints'] >= away_df_c['avgFanPoints'].mean()]\n",
    "away_df_c_bad = away_df_c[away_df_c['avgFanPoints'] < away_df_c['avgFanPoints'].mean()]\n",
    "\n",
    "away_df_w_good = away_df_w[away_df_w['avgFanPoints'] >= away_df_w['avgFanPoints'].mean()]\n",
    "away_df_w_bad = away_df_w[away_df_w['avgFanPoints'] < away_df_w['avgFanPoints'].mean()]"
   ]
  },
  {
   "cell_type": "markdown",
   "id": "d0d17c58-5bc6-4d82-bc65-8514871bdbe3",
   "metadata": {},
   "source": [
    "## Training"
   ]
  },
  {
   "cell_type": "code",
   "execution_count": 141,
   "id": "6b353cd8-442a-450d-9895-25fba27d8ad4",
   "metadata": {},
   "outputs": [],
   "source": [
    "features = ['assistsMa7', 'goalsMa7', 'plusMinusMa7', 'pointsMa7',\n",
    "       'ppPointsMa7', 'fanPointsMa7', 'blockedShotsMa7', 'shootingPctMa7',\n",
    "       'shotsMa7', 'timeOnIceMa7', 'ppTimeOnIceMa7', 'shiftsMa7',\n",
    "       'timeOnIcePerShiftMa7', 'assistsMa3', 'goalsMa3', 'plusMinusMa3',\n",
    "       'pointsMa3', 'ppPointsMa3', 'fanPointsMa3', 'blockedShotsMa3',\n",
    "       'shootingPctMa3', 'shotsMa3', 'timeOnIceMa3', 'ppTimeOnIceMa3',\n",
    "       'shiftsMa3', 'timeOnIcePerShiftMa3', 'assistsLastGame', 'goalsLastGame',\n",
    "       'plusMinusLastGame', 'pointsLastGame', 'ppPointsLastGame',\n",
    "       'fanPointsLastGame', 'blockedShotsLastGame', 'shootingPctLastGame',\n",
    "       'shotsLastGame', 'timeOnIceLastGame', 'ppTimeOnIceLastGame',\n",
    "       'shiftsLastGame', 'timeOnIcePerShiftLastGame', 'assistsMa16',\n",
    "       'goalsMa16', 'plusMinusMa16', 'pointsMa16', 'ppPointsMa16',\n",
    "       'fanPointsMa16', 'blockedShotsMa16', 'shootingPctMa16', 'shotsMa16',\n",
    "       'timeOnIceMa16', 'ppTimeOnIceMa16', 'shiftsMa16',\n",
    "       'timeOnIcePerShiftMa16', 'savePercLastGame', 'savePercMa3', 'savePercMa7', 'savePercMa16', 'goalsPerGameLastGame', 'goalsPerGameMa3',\n",
    "       'goalsPerGameMa7', 'goalsPerGameMa16', 'shotsPerGameLastGame',\n",
    "       'shotsPerGameMa3', 'shotsPerGameMa7', 'shotsPerGameMa16', 'homeRoadCopy_H']\n",
    "target = 'fanPoints'"
   ]
  },
  {
   "cell_type": "code",
   "execution_count": 142,
   "id": "d382dd90-2014-4fdc-a118-6c7b343c2e29",
   "metadata": {},
   "outputs": [],
   "source": [
    "X = home_df_d_good[features].values"
   ]
  },
  {
   "cell_type": "code",
   "execution_count": 143,
   "id": "39bc8a16-784b-4433-a3de-54fc29c8993f",
   "metadata": {},
   "outputs": [],
   "source": [
    "model = joblib.load('/Users/nickdimmitt/hockey/models/home_df_d_good.pkl')"
   ]
  },
  {
   "cell_type": "code",
   "execution_count": 144,
   "id": "8e64d342-37dd-496b-adaf-25bd6fe49666",
   "metadata": {},
   "outputs": [],
   "source": [
    "predictions = model.predict(X)"
   ]
  },
  {
   "cell_type": "code",
   "execution_count": 147,
   "id": "68bf0c4c-6667-4cc1-a875-d2ea0411eb17",
   "metadata": {},
   "outputs": [],
   "source": [
    "home_df_d_good['prediction'] = predictions"
   ]
  },
  {
   "cell_type": "code",
   "execution_count": 148,
   "id": "94ab58f0-8b81-48bc-8b68-b42cecc79c88",
   "metadata": {},
   "outputs": [],
   "source": [
    "X = home_df_d_bad[features].values"
   ]
  },
  {
   "cell_type": "code",
   "execution_count": 149,
   "id": "a8fff48b-265d-4f64-910b-6cf0bf1982ef",
   "metadata": {},
   "outputs": [],
   "source": [
    "model = joblib.load('/Users/nickdimmitt/hockey/models/home_df_d_bad.pkl')"
   ]
  },
  {
   "cell_type": "code",
   "execution_count": 150,
   "id": "fe7dd0f0-1e99-4a38-b120-f91e5fc20d0a",
   "metadata": {},
   "outputs": [],
   "source": [
    "predictions = model.predict(X)"
   ]
  },
  {
   "cell_type": "code",
   "execution_count": 151,
   "id": "dc0dd0ec-7051-4000-8b49-c4231f847283",
   "metadata": {},
   "outputs": [],
   "source": [
    "home_df_d_bad['prediction'] = predictions"
   ]
  },
  {
   "cell_type": "code",
   "execution_count": 152,
   "id": "4ce33bc4-b69a-4ef8-a6ca-dbee50f1b280",
   "metadata": {},
   "outputs": [],
   "source": [
    "X = home_df_c_good[features].values"
   ]
  },
  {
   "cell_type": "code",
   "execution_count": 153,
   "id": "3e28327d-a8f5-4898-b834-e54787aff075",
   "metadata": {},
   "outputs": [],
   "source": [
    "model = joblib.load('/Users/nickdimmitt/hockey/models/home_df_c_good.pkl')"
   ]
  },
  {
   "cell_type": "code",
   "execution_count": 154,
   "id": "b15039f8-9bac-4875-aa47-91e70c451f07",
   "metadata": {},
   "outputs": [],
   "source": [
    "predictions = model.predict(X)"
   ]
  },
  {
   "cell_type": "code",
   "execution_count": 155,
   "id": "827df93e-98c2-41d3-b832-2e8ef137532f",
   "metadata": {},
   "outputs": [],
   "source": [
    "home_df_c_good['prediction'] = predictions"
   ]
  },
  {
   "cell_type": "code",
   "execution_count": 156,
   "id": "f416bd40-daef-4c31-ae6c-666aeab3ebab",
   "metadata": {},
   "outputs": [],
   "source": [
    "X = home_df_c_bad[features].values"
   ]
  },
  {
   "cell_type": "code",
   "execution_count": 157,
   "id": "ddddef8c-effb-4cc8-be6d-52a550b00b56",
   "metadata": {},
   "outputs": [],
   "source": [
    "model = joblib.load('/Users/nickdimmitt/hockey/models/home_df_c_bad.pkl')"
   ]
  },
  {
   "cell_type": "code",
   "execution_count": 158,
   "id": "8e37e4d2-2f08-499f-86de-936607ea5f5c",
   "metadata": {},
   "outputs": [],
   "source": [
    "predictions = model.predict(X)"
   ]
  },
  {
   "cell_type": "code",
   "execution_count": 159,
   "id": "ced8f2ec-c16a-4112-92e4-3cac71424d21",
   "metadata": {},
   "outputs": [],
   "source": [
    "home_df_c_bad['prediction'] = predictions"
   ]
  },
  {
   "cell_type": "code",
   "execution_count": 160,
   "id": "9b7fa53a-f19f-40b0-8563-b380f6777963",
   "metadata": {},
   "outputs": [],
   "source": [
    "X = home_df_w_good[features].values"
   ]
  },
  {
   "cell_type": "code",
   "execution_count": 161,
   "id": "5b75323b-8a73-4035-90db-4c0de6499207",
   "metadata": {},
   "outputs": [],
   "source": [
    "model = joblib.load('/Users/nickdimmitt/hockey/models/home_df_w_good.pkl')"
   ]
  },
  {
   "cell_type": "code",
   "execution_count": 162,
   "id": "b98589d0-006b-4d15-b5ab-3e3f7f5a9c84",
   "metadata": {},
   "outputs": [],
   "source": [
    "predictions = model.predict(X)"
   ]
  },
  {
   "cell_type": "code",
   "execution_count": 163,
   "id": "74665a46-0823-4123-9a78-a7195c1e512e",
   "metadata": {},
   "outputs": [],
   "source": [
    "home_df_w_good['prediction'] = predictions"
   ]
  },
  {
   "cell_type": "code",
   "execution_count": 164,
   "id": "0db76e69-75c5-4d41-bd07-34ecbb663558",
   "metadata": {},
   "outputs": [],
   "source": [
    "X = home_df_w_bad[features].values"
   ]
  },
  {
   "cell_type": "code",
   "execution_count": 165,
   "id": "5de26c3b-a9d9-4423-9821-a9ef9029d87d",
   "metadata": {},
   "outputs": [],
   "source": [
    "model = joblib.load('/Users/nickdimmitt/hockey/models/home_df_w_bad.pkl')"
   ]
  },
  {
   "cell_type": "code",
   "execution_count": 166,
   "id": "57c4b0c3-02ba-4f9b-950e-601aa7a2fa6a",
   "metadata": {},
   "outputs": [],
   "source": [
    "predictions = model.predict(X)"
   ]
  },
  {
   "cell_type": "code",
   "execution_count": 167,
   "id": "9706aa5b-eeb7-44bd-bcd2-d68e2ef711b4",
   "metadata": {},
   "outputs": [],
   "source": [
    "home_df_w_bad['prediction'] = predictions"
   ]
  },
  {
   "cell_type": "code",
   "execution_count": 168,
   "id": "f49003f9-c9dd-43e8-a2b6-5685b63346fe",
   "metadata": {},
   "outputs": [],
   "source": [
    "X = away_df_d_good[features].values"
   ]
  },
  {
   "cell_type": "code",
   "execution_count": 169,
   "id": "6bcfaf82-3595-43ba-9b2f-933cf02dda7e",
   "metadata": {},
   "outputs": [],
   "source": [
    "model = joblib.load('/Users/nickdimmitt/hockey/models/away_df_d_good.pkl')"
   ]
  },
  {
   "cell_type": "code",
   "execution_count": 170,
   "id": "7b6fdc30-3c10-4e12-a13e-633fcb3d1cd0",
   "metadata": {},
   "outputs": [],
   "source": [
    "predictions = model.predict(X)"
   ]
  },
  {
   "cell_type": "code",
   "execution_count": 171,
   "id": "7d3148df-faad-437d-9a20-f97d9372fbbd",
   "metadata": {},
   "outputs": [],
   "source": [
    "away_df_d_good['prediction'] = predictions"
   ]
  },
  {
   "cell_type": "code",
   "execution_count": 172,
   "id": "0c1e72c0-f92f-4d12-9a39-51a057efd5a2",
   "metadata": {},
   "outputs": [],
   "source": [
    "X = away_df_d_bad[features].values"
   ]
  },
  {
   "cell_type": "code",
   "execution_count": 173,
   "id": "d5cdc42a-3d4f-4a52-8ff2-6db7aa6ee715",
   "metadata": {},
   "outputs": [],
   "source": [
    "model = joblib.load('/Users/nickdimmitt/hockey/models/away_df_d_bad.pkl')"
   ]
  },
  {
   "cell_type": "code",
   "execution_count": 174,
   "id": "46389564-ee55-4460-b882-5f21660beae8",
   "metadata": {},
   "outputs": [],
   "source": [
    "predictions = model.predict(X)"
   ]
  },
  {
   "cell_type": "code",
   "execution_count": 175,
   "id": "30a3d23c-b0b2-4269-9da0-24d7f9530abf",
   "metadata": {},
   "outputs": [],
   "source": [
    "away_df_d_bad['prediction'] = predictions"
   ]
  },
  {
   "cell_type": "code",
   "execution_count": 176,
   "id": "2d386bb0-bc9f-4c96-8dc5-b13b6759de6c",
   "metadata": {},
   "outputs": [],
   "source": [
    "X = away_df_c_good[features].values"
   ]
  },
  {
   "cell_type": "code",
   "execution_count": 177,
   "id": "38b6dc9a-5fbc-4bab-9bad-e81e32126096",
   "metadata": {},
   "outputs": [],
   "source": [
    "model = joblib.load('/Users/nickdimmitt/hockey/models/away_df_c_good.pkl')"
   ]
  },
  {
   "cell_type": "code",
   "execution_count": 178,
   "id": "949cb156-9e18-42bb-adba-dba3636fabb0",
   "metadata": {},
   "outputs": [],
   "source": [
    "predictions = model.predict(X)"
   ]
  },
  {
   "cell_type": "code",
   "execution_count": 179,
   "id": "86349014-633d-4aec-a7ce-06f0ee3155a5",
   "metadata": {},
   "outputs": [],
   "source": [
    "away_df_c_good['prediction'] = predictions"
   ]
  },
  {
   "cell_type": "code",
   "execution_count": 180,
   "id": "77c8a964-75ad-4659-a82c-2f60866b882d",
   "metadata": {},
   "outputs": [],
   "source": [
    "X = away_df_c_bad[features].values"
   ]
  },
  {
   "cell_type": "code",
   "execution_count": 181,
   "id": "413f2cab-9d3a-4f44-b07a-b4a591f56e56",
   "metadata": {},
   "outputs": [],
   "source": [
    "model = joblib.load('/Users/nickdimmitt/hockey/models/away_df_c_bad.pkl')"
   ]
  },
  {
   "cell_type": "code",
   "execution_count": 182,
   "id": "18ce7f02-b485-4ff4-bf3c-83e94f005ca6",
   "metadata": {},
   "outputs": [],
   "source": [
    "predictions = model.predict(X)"
   ]
  },
  {
   "cell_type": "code",
   "execution_count": 183,
   "id": "c93e56d9-08eb-45d1-904f-c6b2242c9a7c",
   "metadata": {},
   "outputs": [],
   "source": [
    "away_df_c_bad['prediction'] = predictions"
   ]
  },
  {
   "cell_type": "code",
   "execution_count": 184,
   "id": "c3870a99-5dcd-4d98-b799-7be1fb6a2473",
   "metadata": {},
   "outputs": [],
   "source": [
    "X = away_df_w_good[features].values"
   ]
  },
  {
   "cell_type": "code",
   "execution_count": 185,
   "id": "5aa03e1e-4507-462a-9eb4-d388ea3096b9",
   "metadata": {},
   "outputs": [],
   "source": [
    "model = joblib.load('/Users/nickdimmitt/hockey/models/away_df_w_good.pkl')"
   ]
  },
  {
   "cell_type": "code",
   "execution_count": 186,
   "id": "d8ad5c07-e223-41ec-bd76-ae36cd4aecda",
   "metadata": {},
   "outputs": [],
   "source": [
    "predictions = model.predict(X)"
   ]
  },
  {
   "cell_type": "code",
   "execution_count": 187,
   "id": "2f842339-761d-4488-9f91-55326a6fbd8c",
   "metadata": {},
   "outputs": [],
   "source": [
    "away_df_w_good['prediction'] = predictions"
   ]
  },
  {
   "cell_type": "code",
   "execution_count": 188,
   "id": "ee41b280-30d2-4930-8ee5-cfdff5cd515f",
   "metadata": {},
   "outputs": [],
   "source": [
    "X = away_df_w_bad[features].values"
   ]
  },
  {
   "cell_type": "code",
   "execution_count": 189,
   "id": "b2f73d72-7b03-4c41-bf05-ade3786a936b",
   "metadata": {},
   "outputs": [],
   "source": [
    "model = joblib.load('/Users/nickdimmitt/hockey/models/away_df_w_bad.pkl')"
   ]
  },
  {
   "cell_type": "code",
   "execution_count": 190,
   "id": "a39d0625-4a83-4e63-b6d1-c92e8d53c695",
   "metadata": {},
   "outputs": [],
   "source": [
    "predictions = model.predict(X)"
   ]
  },
  {
   "cell_type": "code",
   "execution_count": 191,
   "id": "5b230a28-f92e-4126-ad6f-5159418bbcfd",
   "metadata": {},
   "outputs": [],
   "source": [
    "away_df_w_bad['prediction'] = predictions"
   ]
  },
  {
   "cell_type": "code",
   "execution_count": 192,
   "id": "17bb9644-4dee-4a9e-9df0-84546686b27d",
   "metadata": {},
   "outputs": [],
   "source": [
    "all_pred_df = pd.concat([home_df_d_good, home_df_d_bad, home_df_c_good, home_df_c_bad, home_df_w_good, home_df_w_bad, away_df_d_good, away_df_d_bad, away_df_c_good, away_df_c_bad, away_df_w_good, away_df_w_bad])"
   ]
  },
  {
   "cell_type": "code",
   "execution_count": 194,
   "id": "a666e52a-a7ec-49d0-b944-853cf1c5587c",
   "metadata": {},
   "outputs": [],
   "source": [
    "final_pred = all_pred_df[['skaterFullName', 'positionCode', 'teamAbbrevMerge', 'prediction']].sort_values(by='prediction', ascending=False)"
   ]
  },
  {
   "cell_type": "code",
   "execution_count": 197,
   "id": "12ff6ea7-801d-45f2-9cb2-c1baafe66f8f",
   "metadata": {},
   "outputs": [],
   "source": [
    "final_pred.to_csv(f'/Users/nickdimmitt/hockey/predictions/predictions_{today}.csv')"
   ]
  }
 ],
 "metadata": {
  "kernelspec": {
   "display_name": "Python 3 (ipykernel)",
   "language": "python",
   "name": "python3"
  },
  "language_info": {
   "codemirror_mode": {
    "name": "ipython",
    "version": 3
   },
   "file_extension": ".py",
   "mimetype": "text/x-python",
   "name": "python",
   "nbconvert_exporter": "python",
   "pygments_lexer": "ipython3",
   "version": "3.9.13"
  }
 },
 "nbformat": 4,
 "nbformat_minor": 5
}
