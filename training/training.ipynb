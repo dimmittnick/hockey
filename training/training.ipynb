{
 "cells": [
  {
   "cell_type": "markdown",
   "id": "758e0a7d-1f22-434c-9deb-7a81faeed1ea",
   "metadata": {},
   "source": [
    "# Training Notebook\n",
    "\n",
    "\n",
    "Notebook is used to experiment with various models and features to optimize the current predictive model which, on avergae, is off by ~5 fantasy points but seems to have strong ranking skills and differentiating between high scoring players and low scoring."
   ]
  },
  {
   "cell_type": "markdown",
   "id": "5e968936-01b1-4981-80ff-e4960d1bd542",
   "metadata": {},
   "source": [
    "## Packages"
   ]
  },
  {
   "cell_type": "code",
   "execution_count": 22,
   "id": "8519a059-b2e0-43c4-bbe8-cea682b9c262",
   "metadata": {},
   "outputs": [],
   "source": [
    "import pandas as pd\n",
    "import numpy as np"
   ]
  },
  {
   "cell_type": "markdown",
   "id": "54edc42f-9a9d-482a-99c1-f0ee9825dae5",
   "metadata": {},
   "source": [
    "## Data"
   ]
  },
  {
   "cell_type": "code",
   "execution_count": 23,
   "id": "5330825b-ce8f-4239-a2ac-d446b42ea05f",
   "metadata": {},
   "outputs": [],
   "source": [
    "df_goalie = pd.read_csv('/Users/nickdimmitt/hockey/data/df_goalies.csv')\n",
    "df_misc = pd.read_csv('/Users/nickdimmitt/hockey/data/df_misc.csv')\n",
    "df_shot = pd.read_csv('/Users/nickdimmitt/hockey/data/df_shots.csv')\n",
    "df_skater = pd.read_csv('/Users/nickdimmitt/hockey/data/df_skater.csv')\n",
    "df_toi = pd.read_csv('/Users/nickdimmitt/hockey/data/df_toi.csv')"
   ]
  },
  {
   "cell_type": "markdown",
   "id": "07044a78-d541-45a0-9027-515baf3495a7",
   "metadata": {},
   "source": [
    "### Remove Unnecessary Columns"
   ]
  },
  {
   "cell_type": "code",
   "execution_count": 24,
   "id": "2dfc2e7c-4f9e-44b6-832c-ad6a84f76478",
   "metadata": {},
   "outputs": [],
   "source": [
    "df_goalie = df_goalie.drop(['Unnamed: 0', 'assists', 'gamesStarted', 'goalieFullName', 'goals', 'goalsAgainstAverage', 'lastName', 'points', 'saves', 'ties', 'timeOnIce', 'wins'], axis=1)"
   ]
  },
  {
   "cell_type": "code",
   "execution_count": 25,
   "id": "4f635cdc-bbf2-465b-bec6-d222acd7ed95",
   "metadata": {},
   "outputs": [],
   "source": [
    "df_misc = df_misc.drop(['Unnamed: 0.1', 'blockedShotsPer60', 'emptyNetAssists', 'homeRoad', 'emptyNetGoals', 'emptyNetPoints', 'firstGoals', 'gamesPlayed', 'giveaways', 'giveawaysPer60', 'hits', 'hitsPer60', 'missedShotCrossbar', 'missedShotGoalpost', 'missedShotOverNet', 'missedShotWideOfNet', 'missedShots', 'opponentTeamAbbrev', 'otGoals', 'takeaways', 'takeawaysPer60', 'Unnamed: 0'], axis=1)"
   ]
  },
  {
   "cell_type": "code",
   "execution_count": 26,
   "id": "b0502d84-30f3-4b0a-8463-a74ae4f7ada7",
   "metadata": {},
   "outputs": [],
   "source": [
    "df_shot = df_shot.drop(['Unnamed: 0.1', 'gamesPlayed', 'goals', 'homeRoad', 'lastName', 'opponentTeamAbbrev', 'teamAbbrev', 'skaterFullName', 'Unnamed: 0'], axis=1)"
   ]
  },
  {
   "cell_type": "code",
   "execution_count": 27,
   "id": "e3ecd349-2fca-4185-951b-41cc6e2a1fa3",
   "metadata": {},
   "outputs": [],
   "source": [
    "df_skater = df_skater.drop(['Unnamed: 0.1', 'evGoals', 'evPoints','faceoffWinPct', 'gameWinningGoals', 'gamesPlayed', 'lastName', 'otGoals', 'pointsPerGame', 'timeOnIcePerGame', 'Unnamed: 0'], axis=1)"
   ]
  },
  {
   "cell_type": "code",
   "execution_count": 28,
   "id": "6ff6ff7b-4904-404c-a239-63e88c1428ce",
   "metadata": {},
   "outputs": [],
   "source": [
    "df_toi = df_toi.drop(['Unnamed: 0.1', 'evTimeOnIce', 'evTimeOnIcePerGame', 'gameDate', 'gamesPlayed', 'homeRoad', 'lastName', 'opponentTeamAbbrev','otTimeOnIce', 'otTimeOnIcePerOtGame', 'positionCode', 'shootsCatches','skaterFullName', 'teamAbbrev', 'timeOnIcePerGame', 'Unnamed: 0'], axis=1)"
   ]
  },
  {
   "cell_type": "markdown",
   "id": "73caa781-556f-4a55-a042-58c97a0a39db",
   "metadata": {},
   "source": [
    "### Create Calculated Features"
   ]
  },
  {
   "cell_type": "markdown",
   "id": "c549480c-26de-4906-8950-42c257692907",
   "metadata": {},
   "source": [
    "#### Rolling Averages"
   ]
  },
  {
   "cell_type": "code",
   "execution_count": null,
   "id": "179a58de-11ce-4ea3-a142-f2a53d468987",
   "metadata": {},
   "outputs": [],
   "source": []
  }
 ],
 "metadata": {
  "kernelspec": {
   "display_name": "Python 3 (ipykernel)",
   "language": "python",
   "name": "python3"
  },
  "language_info": {
   "codemirror_mode": {
    "name": "ipython",
    "version": 3
   },
   "file_extension": ".py",
   "mimetype": "text/x-python",
   "name": "python",
   "nbconvert_exporter": "python",
   "pygments_lexer": "ipython3",
   "version": "3.9.13"
  }
 },
 "nbformat": 4,
 "nbformat_minor": 5
}
