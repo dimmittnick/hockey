{
 "cells": [
  {
   "cell_type": "code",
   "execution_count": 31,
   "id": "34664f79-3d1d-4ffa-b6b1-db20c1e2630b",
   "metadata": {},
   "outputs": [],
   "source": [
    "import pandas as pd\n",
    "import numpy as np\n",
    "import importlib\n",
    "import os\n",
    "import requests\n",
    "import json\n",
    "from lxml import etree\n",
    "from lxml import html\n",
    "from sklearn.model_selection import train_test_split\n",
    "import joblib\n",
    "from datetime import *\n",
    "from sklearn.metrics import mean_absolute_error\n",
    "from sklearn import ensemble\n",
    "htmlparser =  etree.HTMLParser()\n",
    "from sklearn.metrics import classification_report, confusion_matrix\n",
    "\n",
    "pd.options.mode.chained_assignment = None\n",
    "\n",
    "import data_grab, data_proc, data_prep, data_explor"
   ]
  },
  {
   "cell_type": "code",
   "execution_count": 9,
   "id": "f08908c9-604d-4c39-a7f1-8793d6e4c1ca",
   "metadata": {},
   "outputs": [],
   "source": [
    "df_merged = pd.read_csv('data/merged_df.csv')\n",
    "df_skaters = pd.read_csv('data/df_skater.csv')"
   ]
  },
  {
   "cell_type": "markdown",
   "id": "8e2bb2e0-2d0c-4048-9c34-fc9242f758c7",
   "metadata": {},
   "source": [
    "### Add Calculated Columns"
   ]
  },
  {
   "cell_type": "code",
   "execution_count": 10,
   "id": "796873fb-b842-4668-a112-2660421e6600",
   "metadata": {},
   "outputs": [],
   "source": [
    "df_merged['fanPoints'] = data_explor.fan_points(df_merged)\n",
    "df_merged['overPerform'] = data_explor.overperform(df_merged, 'fanPoints', 'playerId')\n",
    "df_merged['overPerformDummy'] = data_explor.over_perf_dummy(df_merged, 'overPerform')\n",
    "df_merged['underPerformDummy'] = data_explor.under_perf_dummy(df_merged, 'overPerform')\n",
    "df_merged['samePerfDummy'] = data_explor.same_perf_dummy(df_merged, 'overPerform')\n",
    "df_merged['homeRoadPerf'] = data_explor.home_away_perf(df_merged, 'overPerform', ['playerId', 'homeRoad'])\n",
    "df_merged['goalDummy'] = np.where(df_merged['goals'] > 0, 1, 0)"
   ]
  },
  {
   "cell_type": "code",
   "execution_count": 11,
   "id": "3d20785e-888e-4bce-92da-f9249d2dcedd",
   "metadata": {},
   "outputs": [],
   "source": [
    "better_home_skater = list(np.where((df_merged['homeRoad'] == 'H') & (df_merged['homeRoadPerf'] > 0), df_merged['playerId'], None))\n",
    "better_away_skater = list(np.where((df_merged['homeRoad'] == 'R') & (df_merged['homeRoadPerf'] > 0), df_merged['playerId'], None))\n",
    "better_home_skater = [*set(better_home_skater)]\n",
    "better_away_skater = [*set(better_away_skater)]"
   ]
  },
  {
   "cell_type": "code",
   "execution_count": 12,
   "id": "a8c830e3-cb26-48d3-813d-80963351685f",
   "metadata": {},
   "outputs": [],
   "source": [
    "df_skaters['OpHomeDummy'] = np.where(df_skaters['playerId'].isin(better_home_skater), 1, 0)\n",
    "df_skaters['OpRoadDummy'] = np.where(df_skaters['playerId'].isin(better_away_skater), 1, 0)\n",
    "df_skaters['OpNowhereDummy'] = np.where((df_skaters['OpHomeDummy'] == 0) & (df_skaters['OpRoadDummy'] == 0), 1, 0)"
   ]
  },
  {
   "cell_type": "code",
   "execution_count": 13,
   "id": "9d321857-e884-47e4-a1b1-07a53ec4d9e9",
   "metadata": {},
   "outputs": [],
   "source": [
    "feature_list = ['assists', 'goals', 'plusMinus', 'points', 'ppPoints', 'fanPoints', 'shootingPct', 'shots', 'timeOnIcePerGame', 'ppTimeOnIce', 'timeOnIcePerShift']"
   ]
  },
  {
   "cell_type": "code",
   "execution_count": 14,
   "id": "6e8fb64d-5957-4d24-913b-1ffe59be243e",
   "metadata": {},
   "outputs": [],
   "source": [
    "for feature in feature_list:\n",
    "    df_merged[f'{feature}Ma7'] = data_proc.moving_average(df_merged, feature, 'playerId', 7)\n",
    "    df_merged[f'{feature}Ma7'] = df_merged[f'{feature}Ma7'].shift(1)\n",
    "    \n",
    "for feature in feature_list:\n",
    "    df_merged[f'{feature}Ma3'] = data_proc.moving_average(df_merged, feature, 'playerId', 3)\n",
    "    df_merged[f'{feature}Ma3'] = df_merged[f'{feature}Ma3'].shift(1)\n",
    "    \n",
    "for feature in feature_list:\n",
    "    df_merged[f'{feature}LastGame'] = df_merged[feature].shift(1)\n",
    "    \n",
    "for feature in feature_list:\n",
    "    df_merged[f'{feature}Ma10'] = data_proc.moving_average(df_merged, feature, 'playerId', 10)\n",
    "    df_merged[f'{feature}Ma10'] = df_merged[f'{feature}Ma10'].shift(1)\n",
    "\n",
    "for feature in feature_list:\n",
    "    df_merged[f'{feature}Ma14'] = data_proc.moving_average(df_merged, feature, 'playerId', 14)\n",
    "    df_merged[f'{feature}Ma14'] = df_merged[f'{feature}Ma14'].shift(1)"
   ]
  },
  {
   "cell_type": "code",
   "execution_count": 15,
   "id": "ecdbbd06-9cb2-4ffd-b01b-61d13b7bebfb",
   "metadata": {},
   "outputs": [],
   "source": [
    "goals = ['goalsBackhand', 'goalsDeflected', 'goalsSlap', 'goalsSnap', 'goalsTipIn', 'goalsWrapAround', 'goalsWrist']\n",
    "\n",
    "shots = ['shotsOnNetBackhand', 'shotsOnNetDeflected', 'shotsOnNetSlap', 'shotsOnNetSnap', 'shotsOnNetTipIn', 'shotsOnNetWrapAround', 'shotsOnNetWrist']\n",
    "\n",
    "for goal in goals:\n",
    "    df_merged[f\"%{goal}\"] = data_proc.percShotType(df_merged, 'playerId', goal, 'goals')\n",
    "\n",
    "for shot in shots:\n",
    "    df_merged[f\"%{shot}\"] = data_proc.percShotType(df_merged, 'playerId', shot, 'shots')"
   ]
  },
  {
   "cell_type": "markdown",
   "id": "ca480af3-7ce5-4098-9342-d59a3a1c9691",
   "metadata": {},
   "source": [
    "### Cleaning"
   ]
  },
  {
   "cell_type": "code",
   "execution_count": 16,
   "id": "36228cd8-62c2-4223-87e6-23016207a9be",
   "metadata": {},
   "outputs": [],
   "source": [
    "drop_cols = 'shootingPctMa7 shootingPctMa3 shootingPctLastGame shootingPctMa10 shootingPctMa14'.split()\n",
    "drop_cols.append('Unnamed: 0')\n",
    "drop_cols\n",
    "\n",
    "df_merged = data_prep.remove_columns(df_merged, drop_cols)"
   ]
  },
  {
   "cell_type": "code",
   "execution_count": 17,
   "id": "28200e3f-540d-48fc-9ce1-22339cdf45d5",
   "metadata": {},
   "outputs": [],
   "source": [
    "impute_by_player = 'hitsPer60 blockedShotsPer60 giveawaysPer60 takeawaysPer60 assistsMa3 assistsMa7 assistsMa10 assistsMa14 assistsLastGame goalsMa3 goalsMa7 goalsMa10 goalsMa14 goalsLastGame shotsMa3 shotsMa7 shotsMa10 shotsMa14 shotsLastGame plusMinusMa3 plusMinusMa7 plusMinusMa10 plusMinusMa14 plusMinusLastGame pointsMa3 pointsMa7 pointsMa10 pointsMa14 pointsLastGame fanPointsMa3 fanPointsMa7 ppTimeOnIceMa3 ppTimeOnIceMa7 ppTimeOnIceMa10 ppTimeOnIceMa14 ppTimeOnIceLastGame fanPointsMa10 fanPointsMa14 timeOnIcePerShiftMa3 timeOnIcePerShiftMa7 timeOnIcePerShiftMa10 timeOnIcePerShiftMa14 timeOnIcePerShiftLastGame fanPointsLastGame timeOnIcePerGameMa3 timeOnIcePerGameMa7 timeOnIcePerGameMa10 timeOnIcePerGameMa14 timeOnIcePerGameLastGame ppPointsLastGame ppPointsMa3 ppPointsMa7 ppPointsMa10 ppPointsMa14'.split()\n",
    "impute_by_perf = 'missedShotCrossbar missedShotGoalpost missedShotOverNet missedShotWideOfNet goalsBackhand goalsDeflected goalsSlap goalsSnap goalsTipIn goalsWrapAround goalsWrist shootingPct shotsOnNetBackhand shotsOnNetDeflected shotsOnNetSlap shotsOnNetSnap shotsOnNetTipIn shotsOnNetWrapAround shotsOnNetWrist hitsPer60 blockedShotsPer60 giveawaysPer60 takeawaysPer60 assistsMa3 assistsMa7 assistsMa10 assistsMa14 assistsLastGame goalsMa3 goalsMa7 goalsMa10 goalsMa14 goalsLastGame shotsMa3 shotsMa7 shotsMa10 shotsMa14 shotsLastGame plusMinusMa3 plusMinusMa7 plusMinusMa10 plusMinusMa14 plusMinusLastGame ppPointsLastGame ppPointsMa3 ppPointsMa7 ppPointsMa10 ppPointsMa14 timeOnIcePerGameMa3 timeOnIcePerGameMa7 timeOnIcePerGameMa10 timeOnIcePerGameMa14 timeOnIcePerGameLastGame pointsMa3 pointsMa7 pointsMa10 pointsMa14 pointsLastGame ppTimeOnIceMa3 ppTimeOnIceMa7 ppTimeOnIceMa10 ppTimeOnIceMa14 ppTimeOnIceLastGame fanPointsMa3 fanPointsMa7 fanPointsMa10 fanPointsMa14 fanPointsLastGame timeOnIcePerShiftMa3 timeOnIcePerShiftMa7 timeOnIcePerShiftMa10 timeOnIcePerShiftMa14 timeOnIcePerShiftLastGame'.split()"
   ]
  },
  {
   "cell_type": "code",
   "execution_count": 18,
   "id": "98d4499b-6ac2-411f-9bff-a40d9cbe4de4",
   "metadata": {},
   "outputs": [],
   "source": [
    "for col in impute_by_player:\n",
    "    data_prep.handle_missing(df_merged, 'playerId', col)"
   ]
  },
  {
   "cell_type": "code",
   "execution_count": 19,
   "id": "7009ce60-0d98-4376-a2bd-edf31c045e89",
   "metadata": {},
   "outputs": [],
   "source": [
    "for col in impute_by_perf:\n",
    "    try:\n",
    "        data_prep.handle_missing(df_merged, 'overPerformDummy', col)\n",
    "    except:\n",
    "        continue"
   ]
  },
  {
   "cell_type": "markdown",
   "id": "a5b5d2fb-7566-471a-b92b-210aa63c446b",
   "metadata": {},
   "source": [
    "### Final Scrub, Rinse, and Split"
   ]
  },
  {
   "cell_type": "code",
   "execution_count": 20,
   "id": "bac9db2a-4a26-42ba-bfb2-edc114bb4915",
   "metadata": {},
   "outputs": [],
   "source": [
    "drop_cols = 'shootingPctMa7 shootingPctMa3 shootingPctLastGame shootingPctMa10 shootingPctMa14'.split()\n",
    "\n",
    "df_merged = data_prep.remove_columns(df_merged, drop_cols)"
   ]
  },
  {
   "cell_type": "code",
   "execution_count": 21,
   "id": "9de0e8cf-b52c-42f1-89c6-9a68bb25f26a",
   "metadata": {},
   "outputs": [
    {
     "name": "stderr",
     "output_type": "stream",
     "text": [
      "/var/folders/0b/h0zc244107jg60tttkl4r0kw0000gn/T/ipykernel_27210/468772600.py:2: PerformanceWarning: DataFrame is highly fragmented.  This is usually the result of calling `frame.insert` many times, which has poor performance.  Consider joining all columns at once using pd.concat(axis=1) instead. To get a de-fragmented frame, use `newframe = frame.copy()`\n",
      "  df_merged['positionCode1'] = df_merged['positionCode'].copy()\n"
     ]
    }
   ],
   "source": [
    "df_merged['homeRoad1'] = df_merged['homeRoad'].copy()\n",
    "df_merged['positionCode1'] = df_merged['positionCode'].copy()"
   ]
  },
  {
   "cell_type": "code",
   "execution_count": 22,
   "id": "f32ab2b9-12a1-4261-a104-d97fb141cc5b",
   "metadata": {},
   "outputs": [],
   "source": [
    "df_merged = pd.get_dummies(df_merged, columns=['homeRoad', 'shootsCatches', 'positionCode', 'opponentTeamAbbrev'])"
   ]
  },
  {
   "cell_type": "code",
   "execution_count": 23,
   "id": "3962558c-66a2-4a44-9259-438f0ab16b79",
   "metadata": {},
   "outputs": [],
   "source": [
    "home_model_df = pd.concat([df_merged[((df_merged['homeRoadPerf'] > 0) & (df_merged['homeRoad1'] == 'H'))], df_merged[(df_merged['homeRoadPerf'] <= 0) & (df_merged['homeRoad1'] == 'R')]])\n",
    "away_model_df = pd.concat([df_merged[((df_merged['homeRoadPerf'] > 0) & (df_merged['homeRoad1'] == 'R'))], df_merged[(df_merged['homeRoadPerf'] <= 0) & (df_merged['homeRoad1'] == 'H')]])"
   ]
  },
  {
   "cell_type": "markdown",
   "id": "336ee44e-330c-46d8-b905-2530fe0a1994",
   "metadata": {
    "tags": []
   },
   "source": [
    "#### Train Home Model"
   ]
  },
  {
   "cell_type": "code",
   "execution_count": 24,
   "id": "6d3dc3d5-6791-4942-94b6-2cc71d781a63",
   "metadata": {},
   "outputs": [],
   "source": [
    "features = '%shotsOnNetBackhand %shotsOnNetDeflected %shotsOnNetSlap %shotsOnNetSnap %shotsOnNetTipIn %shotsOnNetWrapAround %shotsOnNetWrist homeRoad_H positionCode_C positionCode_D positionCode_R assistsMa7 goalsMa7 plusMinusMa7 pointsMa7 fanPointsMa7 shotsMa7 assistsMa3 goalsMa3 plusMinusMa3 pointsMa3 fanPointsMa3 shotsMa3 assistsLastGame goalsLastGame plusMinusLastGame pointsLastGame fanPointsLastGame shotsLastGame assistsMa10 goalsMa10 plusMinusMa10 pointsMa10 fanPointsMa10 shotsMa10 assistsMa14 goalsMa14 plusMinusMa14 pointsMa14 fanPointsMa14 shotsMa14 timeOnIcePerShiftMa3 timeOnIcePerShiftMa7 timeOnIcePerShiftMa10 timeOnIcePerShiftMa14 timeOnIcePerShiftLastGame ppTimeOnIceMa3 ppTimeOnIceMa7 ppTimeOnIceMa10 ppTimeOnIceMa14 ppTimeOnIceLastGame'.split()\n",
    "target = 'goalDummy'"
   ]
  },
  {
   "cell_type": "code",
   "execution_count": 25,
   "id": "27683ab8-fdb5-4942-9b6a-6dcd109ec65c",
   "metadata": {},
   "outputs": [],
   "source": [
    "X = home_model_df[features].values\n",
    "y = home_model_df[target].values"
   ]
  },
  {
   "cell_type": "code",
   "execution_count": 26,
   "id": "f101d777-9bcf-471e-ad42-f2315c499475",
   "metadata": {},
   "outputs": [],
   "source": [
    "X_train, X_test, y_train, y_test = train_test_split(X, y, test_size=0.3, random_state=4)"
   ]
  },
  {
   "cell_type": "code",
   "execution_count": 29,
   "id": "3b6e53da-161e-44bf-b865-cc7fff27327e",
   "metadata": {},
   "outputs": [],
   "source": [
    "model = ensemble.GradientBoostingClassifier(n_estimators=5000, learning_rate=0.05, max_depth=6, min_samples_split=5, min_samples_leaf=8, max_features='auto')"
   ]
  },
  {
   "cell_type": "code",
   "execution_count": 30,
   "id": "219d941b-0c11-4c2e-bbd1-ee96f50f932b",
   "metadata": {},
   "outputs": [
    {
     "data": {
      "text/plain": [
       "GradientBoostingClassifier(learning_rate=0.05, max_depth=6, max_features='auto',\n",
       "                           min_samples_leaf=8, min_samples_split=5,\n",
       "                           n_estimators=5000)"
      ]
     },
     "execution_count": 30,
     "metadata": {},
     "output_type": "execute_result"
    }
   ],
   "source": [
    "model.fit(X_train, y_train)"
   ]
  },
  {
   "cell_type": "code",
   "execution_count": 32,
   "id": "db0edf78-20a2-4763-bc2d-a9cdc29874e8",
   "metadata": {},
   "outputs": [
    {
     "data": {
      "text/plain": [
       "['nhl_home_goals.pkl']"
      ]
     },
     "execution_count": 32,
     "metadata": {},
     "output_type": "execute_result"
    }
   ],
   "source": [
    "joblib.dump(model, 'nhl_home_goals.pkl')"
   ]
  },
  {
   "cell_type": "code",
   "execution_count": 36,
   "id": "1c9f9ce2-01a0-42e6-9297-ad643d82bb15",
   "metadata": {},
   "outputs": [
    {
     "data": {
      "text/plain": [
       "0.9027782404477165"
      ]
     },
     "execution_count": 36,
     "metadata": {},
     "output_type": "execute_result"
    }
   ],
   "source": [
    "model.score(X_train, y_train)"
   ]
  },
  {
   "cell_type": "code",
   "execution_count": 37,
   "id": "05ef4f61-a163-4f9e-a379-491455f887f6",
   "metadata": {},
   "outputs": [
    {
     "data": {
      "text/plain": [
       "0.8453915152268876"
      ]
     },
     "execution_count": 37,
     "metadata": {},
     "output_type": "execute_result"
    }
   ],
   "source": [
    "model.score(X_test, y_test)"
   ]
  },
  {
   "cell_type": "code",
   "execution_count": 35,
   "id": "0f2999ac-a39f-42f4-b46a-7c8f2992d62e",
   "metadata": {},
   "outputs": [],
   "source": [
    "home_model_df.to_csv(\"home_model_df.csv\")\n",
    "away_model_df.to_csv(\"away_model_df.csv\")"
   ]
  },
  {
   "cell_type": "markdown",
   "id": "5f04e99b-2bcd-4478-80a6-54411e402969",
   "metadata": {},
   "source": [
    "home_model_df Train Away Model"
   ]
  },
  {
   "cell_type": "code",
   "execution_count": 61,
   "id": "b9f109db-dff0-468e-a391-3db3f79fc84f",
   "metadata": {},
   "outputs": [],
   "source": [
    "X = away_model_df[features].values\n",
    "y = away_model_df[target].values"
   ]
  },
  {
   "cell_type": "code",
   "execution_count": 62,
   "id": "cccdc3bb-9832-4ed9-8fcb-e07bd2133ffe",
   "metadata": {},
   "outputs": [],
   "source": [
    "X_train, X_test, y_train, y_test = train_test_split(X, y, test_size=0.25, random_state=234)"
   ]
  },
  {
   "cell_type": "code",
   "execution_count": 63,
   "id": "2ed05fc3-6fd4-46d9-8b7c-ac03d8cacb49",
   "metadata": {},
   "outputs": [],
   "source": [
    "model = ensemble.GradientBoostingRegressor(n_estimators=1250, learning_rate=0.05, max_depth=6, min_samples_split=5, min_samples_leaf=8, max_features='auto', loss='huber')"
   ]
  },
  {
   "cell_type": "code",
   "execution_count": 64,
   "id": "ece6e656-8398-4e7f-b1b5-c8e1a8f01725",
   "metadata": {},
   "outputs": [
    {
     "data": {
      "text/plain": [
       "GradientBoostingRegressor(learning_rate=0.05, loss='huber', max_depth=6,\n",
       "                          max_features='auto', min_samples_leaf=8,\n",
       "                          min_samples_split=5, n_estimators=1250)"
      ]
     },
     "execution_count": 64,
     "metadata": {},
     "output_type": "execute_result"
    }
   ],
   "source": [
    "model.fit(X_train, y_train)"
   ]
  },
  {
   "cell_type": "code",
   "execution_count": 65,
   "id": "44eebe1d-622b-4eb6-8c74-916fe33acc10",
   "metadata": {},
   "outputs": [
    {
     "data": {
      "text/plain": [
       "['nhl_away_fan.pkl']"
      ]
     },
     "execution_count": 65,
     "metadata": {},
     "output_type": "execute_result"
    }
   ],
   "source": [
    "joblib.dump(model, 'nhl_away_fan.pkl')"
   ]
  },
  {
   "cell_type": "code",
   "execution_count": 66,
   "id": "f6d90be4-cdc9-4b36-b80a-17d529026526",
   "metadata": {},
   "outputs": [
    {
     "name": "stdout",
     "output_type": "stream",
     "text": [
      "Training Set MSE: 4.15\n"
     ]
    }
   ],
   "source": [
    "mse=mean_absolute_error(y_train, model.predict(X_train))\n",
    "print(\"Training Set MSE: %.2f\" %mse)"
   ]
  },
  {
   "cell_type": "code",
   "execution_count": 67,
   "id": "a6f13993-4324-4834-af02-c8e6e443d1f1",
   "metadata": {},
   "outputs": [
    {
     "name": "stdout",
     "output_type": "stream",
     "text": [
      "Training Set MSE: 4.85\n"
     ]
    }
   ],
   "source": [
    "mse=mean_absolute_error(y_test, model.predict(X_test))\n",
    "print(\"Training Set MSE: %.2f\" %mse)"
   ]
  }
 ],
 "metadata": {
  "kernelspec": {
   "display_name": "Python 3 (ipykernel)",
   "language": "python",
   "name": "python3"
  },
  "language_info": {
   "codemirror_mode": {
    "name": "ipython",
    "version": 3
   },
   "file_extension": ".py",
   "mimetype": "text/x-python",
   "name": "python",
   "nbconvert_exporter": "python",
   "pygments_lexer": "ipython3",
   "version": "3.9.13"
  }
 },
 "nbformat": 4,
 "nbformat_minor": 5
}
