{
 "cells": [
  {
   "cell_type": "markdown",
   "id": "5ab33715-397b-4a56-ab4e-85da4f9679fe",
   "metadata": {},
   "source": [
    "# Data Exploration\n",
    "\n",
    "Variable exploration, creation, deletion."
   ]
  },
  {
   "cell_type": "code",
   "execution_count": 1,
   "id": "a2125e88-3b88-4e63-8738-ce5cbcf6bc31",
   "metadata": {},
   "outputs": [],
   "source": [
    "import pandas as pd\n",
    "import sys\n",
    "import importlib\n",
    "import numpy as np\n",
    "import data_prep, data_proc, data_explor"
   ]
  },
  {
   "cell_type": "code",
   "execution_count": 2,
   "id": "5257e4f0-e64f-4997-90f4-2a44bc7be849",
   "metadata": {},
   "outputs": [
    {
     "data": {
      "text/plain": [
       "<module 'data_proc' from '/Users/nickdimmitt/dfs/hockey/data_proc.py'>"
      ]
     },
     "execution_count": 2,
     "metadata": {},
     "output_type": "execute_result"
    }
   ],
   "source": [
    "importlib.reload(data_prep)\n",
    "importlib.reload(data_explor)\n",
    "importlib.reload(data_proc)"
   ]
  },
  {
   "cell_type": "code",
   "execution_count": 3,
   "id": "9254cab1-3576-448f-8495-dc0fbccec707",
   "metadata": {},
   "outputs": [],
   "source": [
    "df_skaters = data_prep.read_data(\"/Users/nickdimmitt/dfs/hockey/data/skate_misc_shot_merged.csv\")"
   ]
  },
  {
   "cell_type": "code",
   "execution_count": 4,
   "id": "d4ea0ccd-e4db-4d44-ac24-002938782eaa",
   "metadata": {},
   "outputs": [],
   "source": [
    "column_drop = 'Unnamed: 0, goals_y, shots_y, gameDate_y, shootingPct_y, gamesPlayed_y, homeRoad_y, lastName_y, opponentTeamAbbrev_y, otGoals_y, positionCode_y, shootsCatches_y, skaterFullName_y, teamAbbrev_y, timeOnIcePerGame_y'.split(\", \")"
   ]
  },
  {
   "cell_type": "code",
   "execution_count": 5,
   "id": "84af7498-417a-4967-9867-ca7251ae8c4a",
   "metadata": {},
   "outputs": [],
   "source": [
    "df_skaters = data_prep.remove_columns(df_skaters, column_drop)"
   ]
  },
  {
   "cell_type": "code",
   "execution_count": 6,
   "id": "f288d814-0498-490e-bef4-7340b3904a3c",
   "metadata": {},
   "outputs": [],
   "source": [
    "df_skaters.columns = df_skaters.columns.str.rstrip('_x')"
   ]
  },
  {
   "cell_type": "code",
   "execution_count": 7,
   "id": "b858a4d1-254e-4e50-b8ef-49d25a61378c",
   "metadata": {},
   "outputs": [],
   "source": [
    "df_skaters = data_prep.remove_dup_col(df_skaters)"
   ]
  },
  {
   "cell_type": "code",
   "execution_count": null,
   "id": "e4cb613a-2241-47f1-85c1-d26255b2f7d0",
   "metadata": {},
   "outputs": [],
   "source": [
    "df_skaters.columns"
   ]
  },
  {
   "cell_type": "markdown",
   "id": "7a01ec64-0e1b-4a3c-8b09-97392cefe19e",
   "metadata": {},
   "source": [
    "### Variable Creation"
   ]
  },
  {
   "cell_type": "code",
   "execution_count": 8,
   "id": "9c68b2d0-60f1-443f-862a-6a37cf7fa572",
   "metadata": {},
   "outputs": [],
   "source": [
    "## fantasy points\n",
    "df_skaters['fan_points'] = data_explor.fan_points(df_skaters)"
   ]
  },
  {
   "cell_type": "code",
   "execution_count": 9,
   "id": "1c614ba1-2b2d-4957-a628-ac2d0fa7bed4",
   "metadata": {},
   "outputs": [],
   "source": [
    "## fantasy points above or below the mean\n",
    "df_skaters['performance'] = data_explor.overperform(df_skaters, 'fan_points', 'playerId')"
   ]
  },
  {
   "cell_type": "code",
   "execution_count": 10,
   "id": "eef9d690-5b4d-4c04-b814-f18c77c3ff98",
   "metadata": {},
   "outputs": [],
   "source": [
    "## performance dummy, predictor variable\n",
    "df_skaters['over_perf_dummy'] = data_explor.over_perf_dummy(df_skaters, 'performance')\n",
    "df_skaters['under_perf_dummy'] = data_explor.under_perf_dummy(df_skaters, 'performance')\n",
    "df_skaters['same_perf_dummy'] = data_explor.same_perf_dummy(df_skaters, 'performance')"
   ]
  },
  {
   "cell_type": "code",
   "execution_count": 11,
   "id": "da4e8f4d-309b-4109-b5ad-75be615e7216",
   "metadata": {},
   "outputs": [],
   "source": [
    "## home away dummy\n",
    "df_skaters['homeRoad_perf'] = data_explor.home_away_perf(df_skaters, 'performance', ['playerId', 'homeRoad'])"
   ]
  },
  {
   "cell_type": "code",
   "execution_count": 53,
   "id": "af1906c4-e7a4-4e98-89f3-0ff570f6cd14",
   "metadata": {},
   "outputs": [],
   "source": [
    "better_home_skater = list(np.where((df_skaters['homeRoad'] == 'H') & (df_skaters['homeRoad_perf'] > 0), df_skaters['playerId'], None))\n",
    "better_away_skater = list(np.where((df_skaters['homeRoad'] == 'R') & (df_skaters['homeRoad_perf'] > 0), df_skaters['playerId'], None))"
   ]
  },
  {
   "cell_type": "code",
   "execution_count": 54,
   "id": "c2ca8be1-2388-4e70-b16f-0e9631e863ca",
   "metadata": {},
   "outputs": [
    {
     "name": "stdout",
     "output_type": "stream",
     "text": [
      "1539\n",
      "931\n"
     ]
    }
   ],
   "source": [
    "better_home_skater = [*set(better_home_skater)]\n",
    "better_away_skater = [*set(better_away_skater)]"
   ]
  },
  {
   "cell_type": "code",
   "execution_count": 60,
   "id": "8ccb4b20-5f18-4f47-9244-bd69f2e805e8",
   "metadata": {},
   "outputs": [],
   "source": [
    "df_skaters['better_home_dummy'] = np.where(df_skaters['playerId'].isin(better_home_skater), 1, 0)\n",
    "df_skaters['better_away_dummy'] = np.where(df_skaters['playerId'].isin(better_away_skater), 1, 0)\n",
    "df_skaters['home_away_no_change'] = np.where((df_skaters['better_home_dummy'] == 0) & (df_skaters['better_away_dummy'] == 0), 1, 0)"
   ]
  },
  {
   "cell_type": "code",
   "execution_count": 38,
   "id": "ec13295f-0043-4125-a006-2dc3442f3d0b",
   "metadata": {},
   "outputs": [],
   "source": [
    "df_skaters['goals_per_60'] = data_explor.stat_per_60(df_skaters, 'timeOnIcePerGame', 'goals')"
   ]
  },
  {
   "cell_type": "code",
   "execution_count": 42,
   "id": "7951660a-cb28-429d-804a-c54b3f6b131e",
   "metadata": {},
   "outputs": [],
   "source": [
    "df_skaters['assists_per_60'] = data_explor.stat_per_60(df_skaters, 'timeOnIcePerGame', 'assists')"
   ]
  },
  {
   "cell_type": "markdown",
   "id": "60753224-e272-4502-96ad-48928761199f",
   "metadata": {},
   "source": [
    "### Splitting Dataset by Home Away Split"
   ]
  },
  {
   "cell_type": "code",
   "execution_count": 64,
   "id": "be8a95fd-39b3-429f-aea5-c329a6fb3ead",
   "metadata": {},
   "outputs": [],
   "source": [
    "df_skaters_home = df_skaters[df_skaters['better_home_dummy'] == 1]\n",
    "df_skaters_away = df_skaters[df_skaters['better_home_dummy'] == 0]"
   ]
  },
  {
   "cell_type": "code",
   "execution_count": 67,
   "id": "7d0c1c27-4d2b-42cf-826f-adbd55128738",
   "metadata": {},
   "outputs": [
    {
     "data": {
      "text/plain": [
       "(409942, 80)"
      ]
     },
     "execution_count": 67,
     "metadata": {},
     "output_type": "execute_result"
    }
   ],
   "source": [
    "df_skaters_home.shape"
   ]
  },
  {
   "cell_type": "code",
   "execution_count": 68,
   "id": "58475937-a863-47e1-b386-a7d6d44e0178",
   "metadata": {},
   "outputs": [
    {
     "data": {
      "text/plain": [
       "(150679, 80)"
      ]
     },
     "execution_count": 68,
     "metadata": {},
     "output_type": "execute_result"
    }
   ],
   "source": [
    "df_skaters_away.shape"
   ]
  },
  {
   "cell_type": "code",
   "execution_count": 1,
   "id": "d5cef34c-dbbe-4e93-9f15-8df8b24123e5",
   "metadata": {},
   "outputs": [
    {
     "data": {
      "text/plain": [
       "['shootingPctMa7',\n",
       " 'shootingPctMa3',\n",
       " 'shootingPctLastGame',\n",
       " 'shootingPctMa10',\n",
       " 'shootingPctMa14',\n",
       " 'emptyNetAssists',\n",
       " 'emptyNetPoints',\n",
       " 'faceoffWinPct',\n",
       " 'shootingPctBackhand',\n",
       " 'shootingPctDeflected',\n",
       " 'shootingPctSlap',\n",
       " 'shootingPctSnap',\n",
       " 'shootingPctTipIn',\n",
       " 'shootingPctWrapAround',\n",
       " 'shootingPctWrist',\n",
       " 'Unnamed: 0']"
      ]
     },
     "execution_count": 1,
     "metadata": {},
     "output_type": "execute_result"
    }
   ],
   "source": [
    "drop_cols = 'shootingPctMa7 shootingPctMa3 shootingPctLastGame shootingPctMa10 shootingPctMa14 emptyNetAssists emptyNetPoints faceoffWinPct shootingPctBackhand shootingPctDeflected shootingPctSlap shootingPctSnap shootingPctTipIn shootingPctWrapAround shootingPctWrist'.split()\n",
    "drop_cols.append('Unnamed: 0')\n",
    "drop_cols"
   ]
  },
  {
   "cell_type": "code",
   "execution_count": null,
   "id": "cf276057-cc66-40aa-9a9d-5cb7b65db08f",
   "metadata": {},
   "outputs": [],
   "source": [
    "impute_by_player = 'hitsPer60 blockedShotsPer60 giveawaysPer60 takeawaysPer60 assistsMa3 assistsMa7 assistsMa10 assistsMa14 assistsLastGame goalsMa3 goalsMa7 goalsMa10 goalsMa14 goalsLastGame plusMinusMa3 plusMinusMa7 plusMinusMa10 plusMinusMa14 plusMinusLastGame pointsMa3 pointsMa7 pointsMa10 pointsMa14 pointsLastGame fanPointsMa3 fanPointsMa7 fanPointsMa10 fanPointsMa14 fanPointsLastGame'.split()"
   ]
  },
  {
   "cell_type": "code",
   "execution_count": null,
   "id": "a6af7520-bb72-4ea6-93db-b8f7e22a4ae5",
   "metadata": {},
   "outputs": [],
   "source": [
    "'goalsBackhand goalsDeflected goalsSlap goalsSnap goalsTipIn goalsWrapAround goalsWrist shotsOnNetBackhand shotsOnNetDeflected shotsOnNetSlap shotsOnNetSnap shotsOnNetTipIn shotsWrapAround shotsOnNetWrist'.split()"
   ]
  },
  {
   "cell_type": "code",
   "execution_count": 9,
   "id": "dc60d157-8bec-4fe8-85bc-c628ad33ce0a",
   "metadata": {},
   "outputs": [],
   "source": [
    "df_goalie = pd.read_csv('data/df_goalies.csv')"
   ]
  },
  {
   "cell_type": "code",
   "execution_count": 10,
   "id": "4f13a632-9fd1-4b33-93a5-564135594299",
   "metadata": {},
   "outputs": [
    {
     "data": {
      "text/html": [
       "<div>\n",
       "<style scoped>\n",
       "    .dataframe tbody tr th:only-of-type {\n",
       "        vertical-align: middle;\n",
       "    }\n",
       "\n",
       "    .dataframe tbody tr th {\n",
       "        vertical-align: top;\n",
       "    }\n",
       "\n",
       "    .dataframe thead th {\n",
       "        text-align: right;\n",
       "    }\n",
       "</style>\n",
       "<table border=\"1\" class=\"dataframe\">\n",
       "  <thead>\n",
       "    <tr style=\"text-align: right;\">\n",
       "      <th></th>\n",
       "      <th>Unnamed: 0</th>\n",
       "      <th>assists</th>\n",
       "      <th>gameDate</th>\n",
       "      <th>gameId</th>\n",
       "      <th>gamesPlayed</th>\n",
       "      <th>gamesStarted</th>\n",
       "      <th>goalieFullName</th>\n",
       "      <th>goals</th>\n",
       "      <th>goalsAgainst</th>\n",
       "      <th>goalsAgainstAverage</th>\n",
       "      <th>...</th>\n",
       "      <th>points</th>\n",
       "      <th>savePct</th>\n",
       "      <th>saves</th>\n",
       "      <th>shootsCatches</th>\n",
       "      <th>shotsAgainst</th>\n",
       "      <th>shutouts</th>\n",
       "      <th>teamAbbrev</th>\n",
       "      <th>ties</th>\n",
       "      <th>timeOnIce</th>\n",
       "      <th>wins</th>\n",
       "    </tr>\n",
       "  </thead>\n",
       "  <tbody>\n",
       "    <tr>\n",
       "      <th>0</th>\n",
       "      <td>0</td>\n",
       "      <td>0</td>\n",
       "      <td>2022-10-21</td>\n",
       "      <td>2022020072</td>\n",
       "      <td>1</td>\n",
       "      <td>0</td>\n",
       "      <td>Alex Stalock</td>\n",
       "      <td>0</td>\n",
       "      <td>0</td>\n",
       "      <td>0.0</td>\n",
       "      <td>...</td>\n",
       "      <td>0</td>\n",
       "      <td>1.0</td>\n",
       "      <td>10</td>\n",
       "      <td>L</td>\n",
       "      <td>10</td>\n",
       "      <td>0</td>\n",
       "      <td>CHI</td>\n",
       "      <td>NaN</td>\n",
       "      <td>1336</td>\n",
       "      <td>1</td>\n",
       "    </tr>\n",
       "    <tr>\n",
       "      <th>1</th>\n",
       "      <td>1</td>\n",
       "      <td>0</td>\n",
       "      <td>2022-10-23</td>\n",
       "      <td>2022020091</td>\n",
       "      <td>1</td>\n",
       "      <td>1</td>\n",
       "      <td>James Reimer</td>\n",
       "      <td>0</td>\n",
       "      <td>0</td>\n",
       "      <td>0.0</td>\n",
       "      <td>...</td>\n",
       "      <td>0</td>\n",
       "      <td>1.0</td>\n",
       "      <td>30</td>\n",
       "      <td>L</td>\n",
       "      <td>30</td>\n",
       "      <td>1</td>\n",
       "      <td>SJS</td>\n",
       "      <td>NaN</td>\n",
       "      <td>3600</td>\n",
       "      <td>1</td>\n",
       "    </tr>\n",
       "    <tr>\n",
       "      <th>2</th>\n",
       "      <td>2</td>\n",
       "      <td>0</td>\n",
       "      <td>2022-10-21</td>\n",
       "      <td>2022020073</td>\n",
       "      <td>1</td>\n",
       "      <td>0</td>\n",
       "      <td>Martin Jones</td>\n",
       "      <td>0</td>\n",
       "      <td>0</td>\n",
       "      <td>0.0</td>\n",
       "      <td>...</td>\n",
       "      <td>0</td>\n",
       "      <td>1.0</td>\n",
       "      <td>1</td>\n",
       "      <td>L</td>\n",
       "      <td>1</td>\n",
       "      <td>0</td>\n",
       "      <td>SEA</td>\n",
       "      <td>NaN</td>\n",
       "      <td>583</td>\n",
       "      <td>1</td>\n",
       "    </tr>\n",
       "    <tr>\n",
       "      <th>3</th>\n",
       "      <td>3</td>\n",
       "      <td>0</td>\n",
       "      <td>2022-10-29</td>\n",
       "      <td>2022020136</td>\n",
       "      <td>1</td>\n",
       "      <td>1</td>\n",
       "      <td>Darcy Kuemper</td>\n",
       "      <td>0</td>\n",
       "      <td>0</td>\n",
       "      <td>0.0</td>\n",
       "      <td>...</td>\n",
       "      <td>0</td>\n",
       "      <td>1.0</td>\n",
       "      <td>34</td>\n",
       "      <td>L</td>\n",
       "      <td>34</td>\n",
       "      <td>1</td>\n",
       "      <td>WSH</td>\n",
       "      <td>NaN</td>\n",
       "      <td>3586</td>\n",
       "      <td>1</td>\n",
       "    </tr>\n",
       "    <tr>\n",
       "      <th>4</th>\n",
       "      <td>4</td>\n",
       "      <td>0</td>\n",
       "      <td>2022-10-22</td>\n",
       "      <td>2022020077</td>\n",
       "      <td>1</td>\n",
       "      <td>1</td>\n",
       "      <td>Jordan Binnington</td>\n",
       "      <td>0</td>\n",
       "      <td>0</td>\n",
       "      <td>0.0</td>\n",
       "      <td>...</td>\n",
       "      <td>0</td>\n",
       "      <td>1.0</td>\n",
       "      <td>23</td>\n",
       "      <td>L</td>\n",
       "      <td>23</td>\n",
       "      <td>1</td>\n",
       "      <td>STL</td>\n",
       "      <td>NaN</td>\n",
       "      <td>3600</td>\n",
       "      <td>1</td>\n",
       "    </tr>\n",
       "  </tbody>\n",
       "</table>\n",
       "<p>5 rows × 27 columns</p>\n",
       "</div>"
      ],
      "text/plain": [
       "   Unnamed: 0  assists    gameDate      gameId  gamesPlayed  gamesStarted  \\\n",
       "0           0        0  2022-10-21  2022020072            1             0   \n",
       "1           1        0  2022-10-23  2022020091            1             1   \n",
       "2           2        0  2022-10-21  2022020073            1             0   \n",
       "3           3        0  2022-10-29  2022020136            1             1   \n",
       "4           4        0  2022-10-22  2022020077            1             1   \n",
       "\n",
       "      goalieFullName  goals  goalsAgainst  goalsAgainstAverage  ... points  \\\n",
       "0       Alex Stalock      0             0                  0.0  ...      0   \n",
       "1       James Reimer      0             0                  0.0  ...      0   \n",
       "2       Martin Jones      0             0                  0.0  ...      0   \n",
       "3      Darcy Kuemper      0             0                  0.0  ...      0   \n",
       "4  Jordan Binnington      0             0                  0.0  ...      0   \n",
       "\n",
       "  savePct  saves shootsCatches  shotsAgainst  shutouts  teamAbbrev  ties  \\\n",
       "0     1.0     10             L            10         0         CHI   NaN   \n",
       "1     1.0     30             L            30         1         SJS   NaN   \n",
       "2     1.0      1             L             1         0         SEA   NaN   \n",
       "3     1.0     34             L            34         1         WSH   NaN   \n",
       "4     1.0     23             L            23         1         STL   NaN   \n",
       "\n",
       "   timeOnIce  wins  \n",
       "0       1336     1  \n",
       "1       3600     1  \n",
       "2        583     1  \n",
       "3       3586     1  \n",
       "4       3600     1  \n",
       "\n",
       "[5 rows x 27 columns]"
      ]
     },
     "execution_count": 10,
     "metadata": {},
     "output_type": "execute_result"
    }
   ],
   "source": [
    "df_goalie.head()"
   ]
  },
  {
   "cell_type": "code",
   "execution_count": 11,
   "id": "1b59933e-37ca-42da-928e-3969e7095d27",
   "metadata": {},
   "outputs": [
    {
     "data": {
      "text/plain": [
       "Index(['Unnamed: 0', 'assists', 'gameDate', 'gameId', 'gamesPlayed',\n",
       "       'gamesStarted', 'goalieFullName', 'goals', 'goalsAgainst',\n",
       "       'goalsAgainstAverage', 'homeRoad', 'lastName', 'losses',\n",
       "       'opponentTeamAbbrev', 'otLosses', 'penaltyMinutes', 'playerId',\n",
       "       'points', 'savePct', 'saves', 'shootsCatches', 'shotsAgainst',\n",
       "       'shutouts', 'teamAbbrev', 'ties', 'timeOnIce', 'wins'],\n",
       "      dtype='object')"
      ]
     },
     "execution_count": 11,
     "metadata": {},
     "output_type": "execute_result"
    }
   ],
   "source": [
    "df_goalie.columns"
   ]
  },
  {
   "cell_type": "code",
   "execution_count": 12,
   "id": "6491f4b3-b54f-428d-bdc9-d97daccd019e",
   "metadata": {},
   "outputs": [],
   "source": [
    "df_toi = pd.read_csv('data/df_skaters_toi.csv')"
   ]
  },
  {
   "cell_type": "code",
   "execution_count": 13,
   "id": "258be5e4-9d2b-410d-bfdf-a1e99044c9a6",
   "metadata": {},
   "outputs": [
    {
     "data": {
      "text/html": [
       "<div>\n",
       "<style scoped>\n",
       "    .dataframe tbody tr th:only-of-type {\n",
       "        vertical-align: middle;\n",
       "    }\n",
       "\n",
       "    .dataframe tbody tr th {\n",
       "        vertical-align: top;\n",
       "    }\n",
       "\n",
       "    .dataframe thead th {\n",
       "        text-align: right;\n",
       "    }\n",
       "</style>\n",
       "<table border=\"1\" class=\"dataframe\">\n",
       "  <thead>\n",
       "    <tr style=\"text-align: right;\">\n",
       "      <th></th>\n",
       "      <th>Unnamed: 0</th>\n",
       "      <th>evTimeOnIce</th>\n",
       "      <th>evTimeOnIcePerGame</th>\n",
       "      <th>gameDate</th>\n",
       "      <th>gameId</th>\n",
       "      <th>gamesPlayed</th>\n",
       "      <th>homeRoad</th>\n",
       "      <th>lastName</th>\n",
       "      <th>opponentTeamAbbrev</th>\n",
       "      <th>otTimeOnIce</th>\n",
       "      <th>...</th>\n",
       "      <th>shTimeOnIce</th>\n",
       "      <th>shTimeOnIcePerGame</th>\n",
       "      <th>shifts</th>\n",
       "      <th>shiftsPerGame</th>\n",
       "      <th>shootsCatches</th>\n",
       "      <th>skaterFullName</th>\n",
       "      <th>teamAbbrev</th>\n",
       "      <th>timeOnIce</th>\n",
       "      <th>timeOnIcePerGame</th>\n",
       "      <th>timeOnIcePerShift</th>\n",
       "    </tr>\n",
       "  </thead>\n",
       "  <tbody>\n",
       "    <tr>\n",
       "      <th>0</th>\n",
       "      <td>0</td>\n",
       "      <td>1147</td>\n",
       "      <td>1147.0</td>\n",
       "      <td>2022-10-18</td>\n",
       "      <td>2022020052</td>\n",
       "      <td>1</td>\n",
       "      <td>R</td>\n",
       "      <td>Doughty</td>\n",
       "      <td>NSH</td>\n",
       "      <td>75.0</td>\n",
       "      <td>...</td>\n",
       "      <td>235</td>\n",
       "      <td>235.0</td>\n",
       "      <td>26</td>\n",
       "      <td>26.0</td>\n",
       "      <td>R</td>\n",
       "      <td>Drew Doughty</td>\n",
       "      <td>LAK</td>\n",
       "      <td>1812</td>\n",
       "      <td>1812.0</td>\n",
       "      <td>69.69230</td>\n",
       "    </tr>\n",
       "    <tr>\n",
       "      <th>1</th>\n",
       "      <td>1</td>\n",
       "      <td>1490</td>\n",
       "      <td>1490.0</td>\n",
       "      <td>2022-11-01</td>\n",
       "      <td>2022020147</td>\n",
       "      <td>1</td>\n",
       "      <td>R</td>\n",
       "      <td>Lindholm</td>\n",
       "      <td>PIT</td>\n",
       "      <td>67.0</td>\n",
       "      <td>...</td>\n",
       "      <td>177</td>\n",
       "      <td>177.0</td>\n",
       "      <td>37</td>\n",
       "      <td>37.0</td>\n",
       "      <td>L</td>\n",
       "      <td>Hampus Lindholm</td>\n",
       "      <td>BOS</td>\n",
       "      <td>1787</td>\n",
       "      <td>1787.0</td>\n",
       "      <td>48.29729</td>\n",
       "    </tr>\n",
       "    <tr>\n",
       "      <th>2</th>\n",
       "      <td>2</td>\n",
       "      <td>1561</td>\n",
       "      <td>1561.0</td>\n",
       "      <td>2022-10-22</td>\n",
       "      <td>2022020083</td>\n",
       "      <td>1</td>\n",
       "      <td>H</td>\n",
       "      <td>Josi</td>\n",
       "      <td>PHI</td>\n",
       "      <td>0.0</td>\n",
       "      <td>...</td>\n",
       "      <td>14</td>\n",
       "      <td>14.0</td>\n",
       "      <td>30</td>\n",
       "      <td>30.0</td>\n",
       "      <td>L</td>\n",
       "      <td>Roman Josi</td>\n",
       "      <td>NSH</td>\n",
       "      <td>1785</td>\n",
       "      <td>1785.0</td>\n",
       "      <td>59.50000</td>\n",
       "    </tr>\n",
       "    <tr>\n",
       "      <th>3</th>\n",
       "      <td>3</td>\n",
       "      <td>1598</td>\n",
       "      <td>1598.0</td>\n",
       "      <td>2022-10-29</td>\n",
       "      <td>2022020128</td>\n",
       "      <td>1</td>\n",
       "      <td>R</td>\n",
       "      <td>Chabot</td>\n",
       "      <td>FLA</td>\n",
       "      <td>0.0</td>\n",
       "      <td>...</td>\n",
       "      <td>25</td>\n",
       "      <td>25.0</td>\n",
       "      <td>25</td>\n",
       "      <td>25.0</td>\n",
       "      <td>L</td>\n",
       "      <td>Thomas Chabot</td>\n",
       "      <td>OTT</td>\n",
       "      <td>1756</td>\n",
       "      <td>1756.0</td>\n",
       "      <td>70.24000</td>\n",
       "    </tr>\n",
       "    <tr>\n",
       "      <th>4</th>\n",
       "      <td>4</td>\n",
       "      <td>1467</td>\n",
       "      <td>1467.0</td>\n",
       "      <td>2022-10-22</td>\n",
       "      <td>2022020079</td>\n",
       "      <td>1</td>\n",
       "      <td>R</td>\n",
       "      <td>Doughty</td>\n",
       "      <td>WSH</td>\n",
       "      <td>0.0</td>\n",
       "      <td>...</td>\n",
       "      <td>159</td>\n",
       "      <td>159.0</td>\n",
       "      <td>29</td>\n",
       "      <td>29.0</td>\n",
       "      <td>R</td>\n",
       "      <td>Drew Doughty</td>\n",
       "      <td>LAK</td>\n",
       "      <td>1711</td>\n",
       "      <td>1711.0</td>\n",
       "      <td>59.00000</td>\n",
       "    </tr>\n",
       "  </tbody>\n",
       "</table>\n",
       "<p>5 rows × 25 columns</p>\n",
       "</div>"
      ],
      "text/plain": [
       "   Unnamed: 0  evTimeOnIce  evTimeOnIcePerGame    gameDate      gameId  \\\n",
       "0           0         1147              1147.0  2022-10-18  2022020052   \n",
       "1           1         1490              1490.0  2022-11-01  2022020147   \n",
       "2           2         1561              1561.0  2022-10-22  2022020083   \n",
       "3           3         1598              1598.0  2022-10-29  2022020128   \n",
       "4           4         1467              1467.0  2022-10-22  2022020079   \n",
       "\n",
       "   gamesPlayed homeRoad  lastName opponentTeamAbbrev  otTimeOnIce  ...  \\\n",
       "0            1        R   Doughty                NSH         75.0  ...   \n",
       "1            1        R  Lindholm                PIT         67.0  ...   \n",
       "2            1        H      Josi                PHI          0.0  ...   \n",
       "3            1        R    Chabot                FLA          0.0  ...   \n",
       "4            1        R   Doughty                WSH          0.0  ...   \n",
       "\n",
       "   shTimeOnIce  shTimeOnIcePerGame shifts  shiftsPerGame  shootsCatches  \\\n",
       "0          235               235.0     26           26.0              R   \n",
       "1          177               177.0     37           37.0              L   \n",
       "2           14                14.0     30           30.0              L   \n",
       "3           25                25.0     25           25.0              L   \n",
       "4          159               159.0     29           29.0              R   \n",
       "\n",
       "    skaterFullName  teamAbbrev  timeOnIce  timeOnIcePerGame timeOnIcePerShift  \n",
       "0     Drew Doughty         LAK       1812            1812.0          69.69230  \n",
       "1  Hampus Lindholm         BOS       1787            1787.0          48.29729  \n",
       "2       Roman Josi         NSH       1785            1785.0          59.50000  \n",
       "3    Thomas Chabot         OTT       1756            1756.0          70.24000  \n",
       "4     Drew Doughty         LAK       1711            1711.0          59.00000  \n",
       "\n",
       "[5 rows x 25 columns]"
      ]
     },
     "execution_count": 13,
     "metadata": {},
     "output_type": "execute_result"
    }
   ],
   "source": [
    "df_toi.head()"
   ]
  },
  {
   "cell_type": "code",
   "execution_count": 14,
   "id": "5d58b336-00e7-4870-9d25-bcb5a042a532",
   "metadata": {},
   "outputs": [
    {
     "data": {
      "text/plain": [
       "Index(['Unnamed: 0', 'evTimeOnIce', 'evTimeOnIcePerGame', 'gameDate', 'gameId',\n",
       "       'gamesPlayed', 'homeRoad', 'lastName', 'opponentTeamAbbrev',\n",
       "       'otTimeOnIce', 'otTimeOnIcePerOtGame', 'playerId', 'positionCode',\n",
       "       'ppTimeOnIce', 'ppTimeOnIcePerGame', 'shTimeOnIce',\n",
       "       'shTimeOnIcePerGame', 'shifts', 'shiftsPerGame', 'shootsCatches',\n",
       "       'skaterFullName', 'teamAbbrev', 'timeOnIce', 'timeOnIcePerGame',\n",
       "       'timeOnIcePerShift'],\n",
       "      dtype='object')"
      ]
     },
     "execution_count": 14,
     "metadata": {},
     "output_type": "execute_result"
    }
   ],
   "source": [
    "df_toi.columns"
   ]
  },
  {
   "cell_type": "code",
   "execution_count": null,
   "id": "7522d931-5af2-48e4-85ff-5f8067c89f64",
   "metadata": {},
   "outputs": [],
   "source": []
  }
 ],
 "metadata": {
  "kernelspec": {
   "display_name": "Python 3 (ipykernel)",
   "language": "python",
   "name": "python3"
  },
  "language_info": {
   "codemirror_mode": {
    "name": "ipython",
    "version": 3
   },
   "file_extension": ".py",
   "mimetype": "text/x-python",
   "name": "python",
   "nbconvert_exporter": "python",
   "pygments_lexer": "ipython3",
   "version": "3.9.13"
  }
 },
 "nbformat": 4,
 "nbformat_minor": 5
}
